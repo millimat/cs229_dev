{
 "cells": [
  {
   "cell_type": "code",
   "execution_count": null,
   "metadata": {
    "collapsed": true
   },
   "outputs": [],
   "source": [
    "import numpy as np\n",
    "import util\n",
    "import matplotlib.pyplot as plt\n",
    "from xgboost import XGBClassifier\n",
    "from xgboost import XGBRegressor\n",
    "from sklearn.model_selection import train_test_split\n",
    "from sklearn.model_selection import GridSearchCV"
   ]
  },
  {
   "cell_type": "code",
   "execution_count": null,
   "metadata": {
    "collapsed": true
   },
   "outputs": [],
   "source": [
    "trainfile = 'data/train.csv'\n",
    "header, ids, X, Y = util.fetch_data(trainfile)\n",
    "\n",
    "seed = 229\n",
    "test_size = 0.2\n",
    "X_train, X_test, y_train, y_test = train_test_split(X, Y, test_size=test_size, random_state=seed)"
   ]
  },
  {
   "cell_type": "markdown",
   "metadata": {},
   "source": [
    "# Basic Classifier\n",
    "with data split into training and dev sets"
   ]
  },
  {
   "cell_type": "code",
   "execution_count": null,
   "metadata": {
    "collapsed": true
   },
   "outputs": [],
   "source": [
    "xgbreg = XGBRegressor(objective='binary:logistic', max_depth=7, learning_rate=0.1)\n",
    "\n",
    "xgbreg.fit(X_train, y_train)"
   ]
  },
  {
   "cell_type": "code",
   "execution_count": null,
   "metadata": {},
   "outputs": [],
   "source": [
    "# gini score for training data\n",
    "print(util.gini_normalized(y_train, xgbreg.predict(X_train)))"
   ]
  },
  {
   "cell_type": "code",
   "execution_count": null,
   "metadata": {},
   "outputs": [],
   "source": [
    "# gini score for dev data\n",
    "print(util.gini_normalized(y_test, xgbreg.predict(X_test)))"
   ]
  },
  {
   "cell_type": "code",
   "execution_count": null,
   "metadata": {
    "collapsed": true
   },
   "outputs": [],
   "source": [
    "xgbreg.fit(X, Y) # retrain with all of data\n",
    "util.make_prediction(xgbreg, 'data/test.csv', 'predictions/xgboost.csv')"
   ]
  },
  {
   "cell_type": "code",
   "execution_count": null,
   "metadata": {
    "collapsed": true
   },
   "outputs": [],
   "source": [
    "trainsizes, traingini, testgini = util.learning_curves(xgbreg, X_train, X_test, y_train, y_test)\n",
    "print(traingini)\n",
    "print('')\n",
    "print(testgini)\n",
    "plt.figure()\n",
    "plt.plot(trainsizes, traingini, label='train gini')\n",
    "plt.plot(trainsizes, testgini, label='test gini')\n",
    "plt.xlabel('Training set size')\n",
    "plt.ylabel('Normalized Gini coefficient')\n",
    "plt.title('XGBoost')\n",
    "plt.legend()\n",
    "plt.savefig('figures/learning_curves/xgboost.eps', format='eps', dpi=1000)"
   ]
  },
  {
   "cell_type": "markdown",
   "metadata": {},
   "source": [
    "# Grid Search\n",
    "with full data set and 3-fold CV"
   ]
  },
  {
   "cell_type": "code",
   "execution_count": null,
   "metadata": {},
   "outputs": [],
   "source": [
    "params_to_try = {'max_depth': range(1, 10), 'learning_rate':[0.05, 0.1, 0.2, 0.3]}\n",
    "c_validator = GridSearchCV(xgbreg, params_to_try, scoring=util.gini_scorer, verbose=2, cv=3, n_jobs=-1)\n",
    "c_validator.fit(X_train, y_train)\n"
   ]
  },
  {
   "cell_type": "code",
   "execution_count": null,
   "metadata": {},
   "outputs": [],
   "source": [
    "print(util.gini_normalized(y_train, c_validator.predict(X_train))) # training score\n",
    "print(util.gini_normalized(y_test, c_validator.predict(X_test)))   # test score"
   ]
  },
  {
   "cell_type": "code",
   "execution_count": null,
   "metadata": {
    "collapsed": true
   },
   "outputs": [],
   "source": [
    "import matplotlib.pyplot as plt\n",
    "from mpl_toolkits.mplot3d import Axes3D"
   ]
  },
  {
   "cell_type": "code",
   "execution_count": null,
   "metadata": {
    "collapsed": true
   },
   "outputs": [],
   "source": [
    "def plot_gridsearch_3d(c_validator, param1, param2, param1name, param2name):\n",
    "    cv_results = c_validator.cv_results_\n",
    "    test_mean = cv_results['mean_test_score']\n",
    "    train_mean = cv_results['mean_train_score']\n",
    "    \n",
    "    x = np.tile(param2, len(param1))\n",
    "    y = np.repeat(param1, len(param2))\n",
    "    \n",
    "    fig = plt.figure()\n",
    "    ax1 = fig.add_subplot(111, projection='3d')\n",
    "    ax1.scatter(x, y, test_mean)\n",
    "    ax1.title(\"Grid Search Test Scores\")\n",
    "    ax1.xlabel(param2name)\n",
    "    ax1.ylabel(param1name)\n",
    "    \n",
    "    ax2 = fig.add_subplot(111, projection='3d')\n",
    "    ax2.scatter(x, y, train_mean)\n",
    "    ax2.title(\"Grid Search Training Scores\")\n",
    "    ax2.xlabel(param2name)\n",
    "    ax2.ylabel(param1name)\n",
    "    fig.show()"
   ]
  },
  {
   "cell_type": "code",
   "execution_count": null,
   "metadata": {
    "collapsed": true
   },
   "outputs": [],
   "source": [
    "def plot_gridsearch_2d(c_validator, param1, param2, param1name, param2name):\n",
    "    cv_results = c_validator.cv_results_\n",
    "    test_mean = cv_results['mean_test_score']\n",
    "    train_mean = cv_results['mean_train_score']\n",
    "    \n",
    "    test_mean = np.array(test_mean).reshape(len(param1), len(param2))\n",
    "    train_mean = np.array(train_mean).reshape(len(param1), len(param2))\n",
    "    \n",
    "    plt.figure(figsize=(15,15))\n",
    "    plt.subplot(211)\n",
    "    # Param2 is the X-axis, Param1 is represented as a different curve (color line)\n",
    "    for idx, val in enumerate(param1):\n",
    "        plt.plot(param2, test_mean[idx,:], '-o', label= param1name + ': ' + str(val))\n",
    "        plt.title('Grid Search Test Scores')\n",
    "        plt.xlabel(param2name)\n",
    "        plt.legend()\n",
    "\n",
    "    plt.subplot(212) \n",
    "    \n",
    "    for idx, val in enumerate(param1):\n",
    "        plt.plot(param2, train_mean[idx,:], '-o', label= param1name + ': ' + str(val))\n",
    "        plt.title('Grid Search Training Scores')\n",
    "        plt.xlabel(param2name)\n",
    "        plt.legend()\n",
    "    \n",
    "    plt.show()\n",
    "    plt.savefig('figures/gridsearch_scores')"
   ]
  },
  {
   "cell_type": "code",
   "execution_count": null,
   "metadata": {
    "scrolled": true
   },
   "outputs": [],
   "source": [
    "plot_gridsearch_2d(c_validator, params_to_try['learning_rate'], params_to_try['max_depth'], 'learning rate', 'max depth')"
   ]
  },
  {
   "cell_type": "code",
   "execution_count": null,
   "metadata": {},
   "outputs": [],
   "source": [
    "c_validator.best_params_"
   ]
  },
  {
   "cell_type": "code",
   "execution_count": null,
   "metadata": {
    "collapsed": true
   },
   "outputs": [],
   "source": [
    "import pickle"
   ]
  },
  {
   "cell_type": "code",
   "execution_count": null,
   "metadata": {
    "collapsed": true
   },
   "outputs": [],
   "source": [
    "pickle.dump(c_validator, open('models/xgbreg_gridsearch.pickle', 'wb'))"
   ]
  },
  {
   "cell_type": "markdown",
   "metadata": {},
   "source": [
    "# Submission with model selected from grid search"
   ]
  },
  {
   "cell_type": "code",
   "execution_count": null,
   "metadata": {
    "collapsed": true
   },
   "outputs": [],
   "source": [
    "xgb_gridsearch = XGBRegressor(objective='binary:logistic', max_depth=4, learning_rate=0.1)\n",
    "xgb_gridsearch.fit(X, Y)\n",
    "util.make_prediction(xgb_gridsearch, 'data/test.csv', 'predictions/xgboost.csv')"
   ]
  }
 ],
 "metadata": {
  "kernelspec": {
   "display_name": "Python 2",
   "language": "python",
   "name": "python2"
  },
  "language_info": {
   "codemirror_mode": {
    "name": "ipython",
    "version": 2
   },
   "file_extension": ".py",
   "mimetype": "text/x-python",
   "name": "python",
   "nbconvert_exporter": "python",
   "pygments_lexer": "ipython2",
   "version": "2.7.14"
  }
 },
 "nbformat": 4,
 "nbformat_minor": 2
}
