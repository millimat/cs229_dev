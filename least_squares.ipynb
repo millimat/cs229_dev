{
 "cells": [
  {
   "cell_type": "code",
   "execution_count": 13,
   "metadata": {
    "collapsed": true
   },
   "outputs": [],
   "source": [
    "import numpy as np\n",
    "import util\n",
    "import sklearn.linear_model"
   ]
  },
  {
   "cell_type": "code",
   "execution_count": 2,
   "metadata": {
    "collapsed": true
   },
   "outputs": [],
   "source": [
    "trainfile = 'data/train.csv'\n",
    "header, X, Y = util.fetch_data(trainfile)"
   ]
  },
  {
   "cell_type": "code",
   "execution_count": 3,
   "metadata": {},
   "outputs": [
    {
     "data": {
      "text/plain": [
       "RidgeCV(alphas=array([  1.00000e-05,   1.26186e-05, ...,   7.92483e+04,   1.00000e+05]),\n",
       "    cv=None, fit_intercept=True, gcv_mode=None, normalize=False,\n",
       "    scoring=<function gini_scorer at 0x1509c9acf8>, store_cv_values=False)"
      ]
     },
     "execution_count": 3,
     "metadata": {},
     "output_type": "execute_result"
    }
   ],
   "source": [
    "alphalist = np.logspace(-5, 5, 100)\n",
    "ridge_model = RidgeCV(alphas=alphalist, scoring=util.gini_scorer)\n",
    "ridge_model.fit(X, Y)"
   ]
  },
  {
   "cell_type": "code",
   "execution_count": 4,
   "metadata": {},
   "outputs": [
    {
     "name": "stdout",
     "output_type": "stream",
     "text": [
      "[  6.15839824e-04   1.18439760e-03   5.03059792e-04   1.13856897e-03\n",
      "   4.31785395e-03  -4.05860040e-03   4.71270389e-03   3.28433671e-03\n",
      "  -3.93844021e-03  -2.06141456e-04  -4.08433572e-04   4.13766175e-04\n",
      "  -7.72893780e-05  -2.78098231e-04  -1.07404361e-03  -3.86215829e-03\n",
      "   1.13563441e-02  -3.06184235e-03   2.83338081e-03   5.30623879e-03\n",
      "   3.49423015e-03   1.39188818e-04  -3.23584649e-03   3.09807281e-03\n",
      "   4.07091822e-04   6.26065916e-04  -4.25157562e-05  -1.19415689e-02\n",
      "  -1.41727202e-03   7.16177290e-04  -7.89099648e-04   1.85836293e-06\n",
      "  -1.52611222e-03   4.83060879e-03   1.28692153e-02  -2.81289656e-04\n",
      "   2.76193690e-03   9.65168740e-04   6.82630379e-04   1.05560176e-03\n",
      "  -9.50817387e-06   1.46203704e-04   1.52959428e-06  -3.28949290e-06\n",
      "  -1.26522485e-04   8.74400188e-05   6.24012192e-05   3.99628239e-05\n",
      "  -1.70939101e-04  -4.97168648e-05   9.02006294e-05  -2.44741223e-04\n",
      "   2.04341446e-04  -5.33807023e-05   2.03310238e-04  -5.98592239e-04\n",
      "  -5.12306085e-04]\n",
      "0.029742901529\n",
      "7742.63682681\n"
     ]
    }
   ],
   "source": [
    "print(ridge_model.coef_)\n",
    "print(ridge_model.intercept_)\n",
    "print(ridge_model.alpha_)"
   ]
  },
  {
   "cell_type": "code",
   "execution_count": 5,
   "metadata": {},
   "outputs": [
    {
     "name": "stdout",
     "output_type": "stream",
     "text": [
      "0.0279168310764\n"
     ]
    }
   ],
   "source": [
    "print(util.gini_scorer(ridge_model, X, Y))"
   ]
  },
  {
   "cell_type": "code",
   "execution_count": 19,
   "metadata": {},
   "outputs": [
    {
     "data": {
      "text/plain": [
       "LassoCV(alphas=array([  1.00000e-05,   1.26186e-05, ...,   7.92483e+04,   1.00000e+05]),\n",
       "    copy_X=True, cv=None, eps=0.001, fit_intercept=True, max_iter=1000,\n",
       "    n_alphas=100, n_jobs=-1, normalize=False, positive=False,\n",
       "    precompute='auto', random_state=None, selection='cyclic', tol=0.0001,\n",
       "    verbose=False)"
      ]
     },
     "execution_count": 19,
     "metadata": {},
     "output_type": "execute_result"
    }
   ],
   "source": [
    "lasso_model = LassoCV(alphas=alphalist, n_jobs=-1)\n",
    "lasso_model.fit(X, Y)"
   ]
  },
  {
   "cell_type": "code",
   "execution_count": 20,
   "metadata": {},
   "outputs": [
    {
     "name": "stdout",
     "output_type": "stream",
     "text": [
      "[  4.86816116e-04   1.30116703e-03   4.97855026e-04   1.51973751e-03\n",
      "   4.34924083e-03  -4.49126487e-03   3.77636286e-03   2.79324776e-03\n",
      "  -4.50536253e-03  -0.00000000e+00  -0.00000000e+00   0.00000000e+00\n",
      "  -0.00000000e+00  -0.00000000e+00  -1.05336118e-03  -2.65623375e-03\n",
      "   1.36609689e-02  -1.90060787e-03   3.23700238e-03   5.41318711e-03\n",
      "   3.38666460e-03   7.48306632e-05  -1.48223217e-03   3.21094615e-03\n",
      "  -1.12261220e-04   4.31044152e-04  -7.26952650e-05  -1.26446960e-02\n",
      "  -4.09054876e-04   6.59019322e-04  -0.00000000e+00  -6.99188860e-07\n",
      "  -1.69534069e-03   1.62550655e-02   2.09017430e-02  -0.00000000e+00\n",
      "   1.84606831e-03   8.72668641e-04   5.47566341e-04   9.82220728e-04\n",
      "  -0.00000000e+00   1.31717135e-04   0.00000000e+00  -0.00000000e+00\n",
      "  -1.16252037e-04   7.35027836e-05   6.05067699e-05   3.72609349e-05\n",
      "  -1.59802622e-04  -4.30094214e-05   8.78332283e-05  -8.14453372e-05\n",
      "   1.30757610e-04  -0.00000000e+00   1.15709299e-04  -5.40531508e-04\n",
      "  -4.18114759e-04]\n",
      "0.0199041143254\n",
      "2.00923300257e-05\n"
     ]
    }
   ],
   "source": [
    "print(lasso_model.coef_)\n",
    "print(lasso_model.intercept_)\n",
    "print(lasso_model.alpha_)"
   ]
  },
  {
   "cell_type": "code",
   "execution_count": 21,
   "metadata": {},
   "outputs": [
    {
     "name": "stdout",
     "output_type": "stream",
     "text": [
      "0.0280775627189\n"
     ]
    }
   ],
   "source": [
    "print(util.gini_scorer(lasso_model, X, Y))"
   ]
  }
 ],
 "metadata": {
  "kernelspec": {
   "display_name": "Python 2",
   "language": "python",
   "name": "python2"
  },
  "language_info": {
   "codemirror_mode": {
    "name": "ipython",
    "version": 2
   },
   "file_extension": ".py",
   "mimetype": "text/x-python",
   "name": "python",
   "nbconvert_exporter": "python",
   "pygments_lexer": "ipython2",
   "version": "2.7.14"
  }
 },
 "nbformat": 4,
 "nbformat_minor": 2
}
