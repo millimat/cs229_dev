{
 "cells": [
  {
   "cell_type": "code",
   "execution_count": 27,
   "metadata": {
    "collapsed": true
   },
   "outputs": [],
   "source": [
    "import numpy as np\n",
    "import util\n",
    "import matplotlib.pyplot as plt\n",
    "from sklearn.naive_bayes import GaussianNB, MultinomialNB\n",
    "from sklearn.model_selection import train_test_split"
   ]
  },
  {
   "cell_type": "code",
   "execution_count": 28,
   "metadata": {},
   "outputs": [],
   "source": [
    "trainfile = 'data/train.csv'\n",
    "header, ids, X, Y = util.fetch_data(trainfile)\n",
    "\n",
    "seed=229\n",
    "np.random.seed(seed)\n",
    "\n",
    "test_size = 0.20\n",
    "X_train, X_test, y_train, y_test = train_test_split(X, Y, test_size=test_size, random_state=seed)"
   ]
  },
  {
   "cell_type": "code",
   "execution_count": 29,
   "metadata": {},
   "outputs": [
    {
     "data": {
      "text/plain": [
       "GaussianNB(priors=None)"
      ]
     },
     "execution_count": 29,
     "metadata": {},
     "output_type": "execute_result"
    }
   ],
   "source": [
    "clf = GaussianNB()\n",
    "clf.fit(X, Y)"
   ]
  },
  {
   "cell_type": "code",
   "execution_count": 30,
   "metadata": {},
   "outputs": [
    {
     "name": "stdout",
     "output_type": "stream",
     "text": [
      "0.0640193274759\n"
     ]
    }
   ],
   "source": [
    "print(util.gini_scorer(clf, X, Y))"
   ]
  },
  {
   "cell_type": "code",
   "execution_count": 31,
   "metadata": {},
   "outputs": [
    {
     "name": "stdout",
     "output_type": "stream",
     "text": [
      "Evaluating model on training set size 23808\n",
      "Evaluating model on training set size 47616\n",
      "Evaluating model on training set size 71425\n",
      "Evaluating model on training set size 95233\n",
      "Evaluating model on training set size 119042\n",
      "Evaluating model on training set size 142850\n",
      "Evaluating model on training set size 166659\n",
      "Evaluating model on training set size 190467\n",
      "Evaluating model on training set size 214276\n",
      "Evaluating model on training set size 238084\n",
      "Evaluating model on training set size 261892\n",
      "Evaluating model on training set size 285701\n",
      "Evaluating model on training set size 309509\n",
      "Evaluating model on training set size 333318\n",
      "Evaluating model on training set size 357126\n",
      "Evaluating model on training set size 380935\n",
      "Evaluating model on training set size 404743\n",
      "Evaluating model on training set size 428552\n",
      "Evaluating model on training set size 452360\n",
      "Evaluating model on training set size 476169\n",
      "[0.025025008156614417, 0.037997509710256151, 0.049544227978058769, 0.054010614399566795, 0.051360284051466601, 0.046484285293182243, 0.056714638888243886, 0.066717990679795364, 0.065349324947299378, 0.065494121003830771, 0.066924439774550537, 0.064701478485452296, 0.065785574049224235, 0.067899916439532013, 0.068743140287214843, 0.065526036127987256, 0.061912191997875524, 0.063026121913046643, 0.061112772859822674, 0.062611091007856487]\n",
      "\n",
      "[0.053142422868981347, 0.051826080384229797, 0.056091095867304694, 0.062834558536681975, 0.065743645425381275, 0.067548620830020306, 0.071111114768471095, 0.072879756313988422, 0.072450561618775985, 0.077230220151057516, 0.076570517279813288, 0.072280613811962935, 0.071516677493327171, 0.072314738818140697, 0.07052385912391082, 0.071075221892468357, 0.071001416280284127, 0.070866046274815547, 0.071765919577215662, 0.071827468221102739]\n"
     ]
    }
   ],
   "source": [
    "trainsizes, traingini, testgini = util.learning_curves(clf, X_train, X_test, y_train, y_test)\n",
    "print(traingini)\n",
    "print('')\n",
    "print(testgini)\n",
    "plt.figure()\n",
    "plt.plot(trainsizes, traingini, label='train gini')\n",
    "plt.plot(trainsizes, testgini, label='test gini')\n",
    "plt.xlabel('Training set size')\n",
    "plt.ylabel('Normalized Gini coefficient')\n",
    "plt.title('Gaussian Naive Bayes')\n",
    "plt.legend()\n",
    "plt.savefig('figures/learning_curves/gaussianNB.eps', format='eps', dpi=1000)"
   ]
  },
  {
   "cell_type": "code",
   "execution_count": 32,
   "metadata": {},
   "outputs": [
    {
     "data": {
      "image/png": "[encoded data removed]",
      "text/plain": [
       "<matplotlib.figure.Figure at 0x104d7ca50>"
      ]
     },
     "metadata": {},
     "output_type": "display_data"
    }
   ],
   "source": [
    "plt.show()"
   ]
  },
  {
   "cell_type": "code",
   "execution_count": 33,
   "metadata": {},
   "outputs": [],
   "source": [
    "#util.make_prediction(clf, 'data/test.csv', 'predictions/gaussian_nb.csv',\n",
    "                     #lambda X_test: clf.predict_proba(X_test)[:,1])"
   ]
  },
  {
   "cell_type": "code",
   "execution_count": 34,
   "metadata": {},
   "outputs": [
    {
     "name": "stdout",
     "output_type": "stream",
     "text": [
      "0.0372495399354\n"
     ]
    }
   ],
   "source": [
    "dlf = MultinomialNB()\n",
    "dlf.fit(np.maximum(X,0), Y) # some -1's in X indicate unknown values; need to handle these\n",
    "\n",
    "print(util.gini_scorer(dlf, np.maximum(X,0), Y))\n"
   ]
  },
  {
   "cell_type": "code",
   "execution_count": 35,
   "metadata": {},
   "outputs": [
    {
     "ename": "IndentationError",
     "evalue": "unexpected indent (<ipython-input-35-e9b7e67d6529>, line 2)",
     "output_type": "error",
     "traceback": [
      "\u001b[0;36m  File \u001b[0;32m\"<ipython-input-35-e9b7e67d6529>\"\u001b[0;36m, line \u001b[0;32m2\u001b[0m\n\u001b[0;31m    lambda X_test: dlf.predict_proba(X_test)[:,1])\u001b[0m\n\u001b[0m    ^\u001b[0m\n\u001b[0;31mIndentationError\u001b[0m\u001b[0;31m:\u001b[0m unexpected indent\n"
     ]
    }
   ],
   "source": [
    "#util.make_prediction(clf, 'data/test.csv', 'predictions/multinomial_nb.csv',\n",
    "                     lambda X_test: dlf.predict_proba(X_test)[:,1])"
   ]
  },
  {
   "cell_type": "code",
   "execution_count": null,
   "metadata": {
    "collapsed": true
   },
   "outputs": [],
   "source": []
  }
 ],
 "metadata": {
  "kernelspec": {
   "display_name": "Python 2",
   "language": "python",
   "name": "python2"
  },
  "language_info": {
   "codemirror_mode": {
    "name": "ipython",
    "version": 2
   },
   "file_extension": ".py",
   "mimetype": "text/x-python",
   "name": "python",
   "nbconvert_exporter": "python",
   "pygments_lexer": "ipython2",
   "version": "2.7.14"
  }
 },
 "nbformat": 4,
 "nbformat_minor": 2
}
