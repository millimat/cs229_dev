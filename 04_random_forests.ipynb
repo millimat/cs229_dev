{
 "cells": [
  {
   "cell_type": "code",
   "execution_count": 2,
   "metadata": {
    "collapsed": true
   },
   "outputs": [],
   "source": [
    "import numpy as np\n",
    "import util\n",
    "from sklearn.ensemble import RandomForestRegressor"
   ]
  },
  {
   "cell_type": "code",
   "execution_count": 4,
   "metadata": {},
   "outputs": [],
   "source": [
    "trainfile = 'data/train.csv'\n",
    "header, X, Y = util.fetch_data(trainfile)"
   ]
  },
  {
   "cell_type": "code",
   "execution_count": 5,
   "metadata": {},
   "outputs": [
    {
     "data": {
      "text/plain": [
       "RandomForestRegressor(bootstrap=True, criterion='mse', max_depth=None,\n",
       "           max_features='auto', max_leaf_nodes=None,\n",
       "           min_impurity_split=1e-07, min_samples_leaf=1,\n",
       "           min_samples_split=2, min_weight_fraction_leaf=0.0,\n",
       "           n_estimators=10, n_jobs=1, oob_score=False, random_state=0,\n",
       "           verbose=0, warm_start=True)"
      ]
     },
     "execution_count": 5,
     "metadata": {},
     "output_type": "execute_result"
    }
   ],
   "source": [
    "random_forests = RandomForestRegressor(random_state=0, warm_start=True)\n",
    "random_forests.fit(X, Y)"
   ]
  },
  {
   "cell_type": "code",
   "execution_count": 6,
   "metadata": {},
   "outputs": [
    {
     "name": "stdout",
     "output_type": "stream",
     "text": [
      "[ 0.02154787  0.01062131  0.02991958  0.00654576  0.00688549  0.00395374\n",
      "  0.00490872  0.00484686  0.00416138  0.00016669  0.0003364   0.00125143\n",
      "  0.00025873  0.00142509  0.03129831  0.00374514  0.00191688  0.00385248\n",
      "  0.02134971  0.0287619   0.06299904  0.02134112  0.0038043   0.00620108\n",
      "  0.00566525  0.00892709  0.02204484  0.00375788  0.00369987  0.01068934\n",
      "  0.00224894  0.03222037  0.00882113  0.02074031  0.07660146  0.04105073\n",
      "  0.02300841  0.03117397  0.03028275  0.03074634  0.02482143  0.02357076\n",
      "  0.02683062  0.02961011  0.02912364  0.02619199  0.03914495  0.03627686\n",
      "  0.02331295  0.0303588   0.03915751  0.0062226   0.00625239  0.00613982\n",
      "  0.0065105   0.00628508  0.00641228]\n",
      "[DecisionTreeRegressor(criterion='mse', max_depth=None, max_features='auto',\n",
      "           max_leaf_nodes=None, min_impurity_split=1e-07,\n",
      "           min_samples_leaf=1, min_samples_split=2,\n",
      "           min_weight_fraction_leaf=0.0, presort=False,\n",
      "           random_state=209652396, splitter='best'), DecisionTreeRegressor(criterion='mse', max_depth=None, max_features='auto',\n",
      "           max_leaf_nodes=None, min_impurity_split=1e-07,\n",
      "           min_samples_leaf=1, min_samples_split=2,\n",
      "           min_weight_fraction_leaf=0.0, presort=False,\n",
      "           random_state=398764591, splitter='best'), DecisionTreeRegressor(criterion='mse', max_depth=None, max_features='auto',\n",
      "           max_leaf_nodes=None, min_impurity_split=1e-07,\n",
      "           min_samples_leaf=1, min_samples_split=2,\n",
      "           min_weight_fraction_leaf=0.0, presort=False,\n",
      "           random_state=924231285, splitter='best'), DecisionTreeRegressor(criterion='mse', max_depth=None, max_features='auto',\n",
      "           max_leaf_nodes=None, min_impurity_split=1e-07,\n",
      "           min_samples_leaf=1, min_samples_split=2,\n",
      "           min_weight_fraction_leaf=0.0, presort=False,\n",
      "           random_state=1478610112, splitter='best'), DecisionTreeRegressor(criterion='mse', max_depth=None, max_features='auto',\n",
      "           max_leaf_nodes=None, min_impurity_split=1e-07,\n",
      "           min_samples_leaf=1, min_samples_split=2,\n",
      "           min_weight_fraction_leaf=0.0, presort=False,\n",
      "           random_state=441365315, splitter='best'), DecisionTreeRegressor(criterion='mse', max_depth=None, max_features='auto',\n",
      "           max_leaf_nodes=None, min_impurity_split=1e-07,\n",
      "           min_samples_leaf=1, min_samples_split=2,\n",
      "           min_weight_fraction_leaf=0.0, presort=False,\n",
      "           random_state=1537364731, splitter='best'), DecisionTreeRegressor(criterion='mse', max_depth=None, max_features='auto',\n",
      "           max_leaf_nodes=None, min_impurity_split=1e-07,\n",
      "           min_samples_leaf=1, min_samples_split=2,\n",
      "           min_weight_fraction_leaf=0.0, presort=False,\n",
      "           random_state=192771779, splitter='best'), DecisionTreeRegressor(criterion='mse', max_depth=None, max_features='auto',\n",
      "           max_leaf_nodes=None, min_impurity_split=1e-07,\n",
      "           min_samples_leaf=1, min_samples_split=2,\n",
      "           min_weight_fraction_leaf=0.0, presort=False,\n",
      "           random_state=1491434855, splitter='best'), DecisionTreeRegressor(criterion='mse', max_depth=None, max_features='auto',\n",
      "           max_leaf_nodes=None, min_impurity_split=1e-07,\n",
      "           min_samples_leaf=1, min_samples_split=2,\n",
      "           min_weight_fraction_leaf=0.0, presort=False,\n",
      "           random_state=1819583497, splitter='best'), DecisionTreeRegressor(criterion='mse', max_depth=None, max_features='auto',\n",
      "           max_leaf_nodes=None, min_impurity_split=1e-07,\n",
      "           min_samples_leaf=1, min_samples_split=2,\n",
      "           min_weight_fraction_leaf=0.0, presort=False,\n",
      "           random_state=530702035, splitter='best')]\n"
     ]
    }
   ],
   "source": [
    "print(random_forests.feature_importances_)\n",
    "print(random_forests.estimators_)"
   ]
  },
  {
   "cell_type": "code",
   "execution_count": 7,
   "metadata": {},
   "outputs": [
    {
     "name": "stdout",
     "output_type": "stream",
     "text": [
      "0.604519437734\n"
     ]
    }
   ],
   "source": [
    "print(util.gini_scorer(random_forests, X, Y))"
   ]
  }
 ],
 "metadata": {
  "kernelspec": {
   "display_name": "Python [conda root]",
   "language": "python",
   "name": "conda-root-py"
  },
  "language_info": {
   "codemirror_mode": {
    "name": "ipython",
    "version": 2
   },
   "file_extension": ".py",
   "mimetype": "text/x-python",
   "name": "python",
   "nbconvert_exporter": "python",
   "pygments_lexer": "ipython2",
   "version": "2.7.13"
  }
 },
 "nbformat": 4,
 "nbformat_minor": 2
}
