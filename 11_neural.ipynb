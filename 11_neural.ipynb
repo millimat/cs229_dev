{
 "cells": [
  {
   "cell_type": "code",
   "execution_count": 1,
   "metadata": {
    "collapsed": true
   },
   "outputs": [],
   "source": [
    "import numpy as np\n",
    "import scipy.stats\n",
    "import pickle\n",
    "import util\n",
    "import matplotlib.pyplot as plt\n",
    "from sklearn.neural_network import MLPClassifier\n",
    "from sklearn.model_selection import train_test_split, GridSearchCV, RandomizedSearchCV\n",
    "from sklearn.preprocessing import StandardScaler"
   ]
  },
  {
   "cell_type": "code",
   "execution_count": 2,
   "metadata": {
    "collapsed": true
   },
   "outputs": [],
   "source": [
    "seed=229\n",
    "state = np.random.RandomState(seed)\n",
    "\n",
    "trainfile = 'data/train.csv'\n",
    "header, ids, X, Y = util.fetch_data(trainfile, impute=True)\n",
    "\n",
    "test_size = 0.20\n",
    "X_train, X_test, y_train, y_test = train_test_split(X, Y, test_size=test_size, random_state=state)"
   ]
  },
  {
   "cell_type": "markdown",
   "metadata": {},
   "source": [
    "Neural nets need to work with standardized data:"
   ]
  },
  {
   "cell_type": "code",
   "execution_count": 3,
   "metadata": {
    "collapsed": true
   },
   "outputs": [],
   "source": [
    "scaler = StandardScaler()\n",
    "scaler.fit_transform(X)\n",
    "\n",
    "scaler.fit(X_train)\n",
    "X_train = scaler.transform(X_train)\n",
    "X_test = scaler.transform(X_test)"
   ]
  },
  {
   "cell_type": "markdown",
   "metadata": {},
   "source": [
    "A function to determine the number of neurons in a hidden layer:"
   ]
  },
  {
   "cell_type": "code",
   "execution_count": 4,
   "metadata": {
    "collapsed": true
   },
   "outputs": [],
   "source": [
    "# Based on https://stats.stackexchange.com/a/136542\n",
    "def num_hidden(a):\n",
    "    return int(m/(a * (n_inputs + n_outputs)))\n",
    "\n",
    "avals = range(2,10)"
   ]
  },
  {
   "cell_type": "markdown",
   "metadata": {},
   "source": [
    "# One hidden layer: Training\n",
    "Skip to `Evaluation` to produce plots and an output."
   ]
  },
  {
   "cell_type": "code",
   "execution_count": null,
   "metadata": {
    "scrolled": true
   },
   "outputs": [
    {
     "name": "stdout",
     "output_type": "stream",
     "text": [
      "Fitting 3 folds for each of 400 candidates, totalling 1200 fits\n",
      "[CV] alpha=1e-07, activation=relu, hidden_layer_sizes=(100,), early_stopping=True, solver=adam \n",
      "[CV] alpha=1e-07, activation=relu, hidden_layer_sizes=(100,), early_stopping=True, solver=adam \n",
      "[CV] alpha=1e-07, activation=relu, hidden_layer_sizes=(100,), early_stopping=True, solver=adam \n",
      "[CV] alpha=1e-07, activation=relu, hidden_layer_sizes=(120,), early_stopping=True, solver=adam \n",
      "[CV]  alpha=1e-07, activation=relu, hidden_layer_sizes=(100,), early_stopping=True, solver=adam, total=  22.0s\n",
      "[CV] alpha=1e-07, activation=relu, hidden_layer_sizes=(120,), early_stopping=True, solver=adam \n",
      "[CV]  alpha=1e-07, activation=relu, hidden_layer_sizes=(100,), early_stopping=True, solver=adam, total=  23.8s\n",
      "[CV] alpha=1e-07, activation=relu, hidden_layer_sizes=(120,), early_stopping=True, solver=adam \n",
      "[CV]  alpha=1e-07, activation=relu, hidden_layer_sizes=(100,), early_stopping=True, solver=adam, total=  26.2s\n",
      "[CV] alpha=1e-07, activation=relu, hidden_layer_sizes=(140,), early_stopping=True, solver=adam \n",
      "[CV]  alpha=1e-07, activation=relu, hidden_layer_sizes=(120,), early_stopping=True, solver=adam, total=  31.0s\n",
      "[CV] alpha=1e-07, activation=relu, hidden_layer_sizes=(140,), early_stopping=True, solver=adam \n",
      "[CV]  alpha=1e-07, activation=relu, hidden_layer_sizes=(120,), early_stopping=True, solver=adam, total=  34.9s\n",
      "[CV] alpha=1e-07, activation=relu, hidden_layer_sizes=(140,), early_stopping=True, solver=adam \n",
      "[CV]  alpha=1e-07, activation=relu, hidden_layer_sizes=(120,), early_stopping=True, solver=adam, total=  34.8s\n",
      "[CV] alpha=1e-07, activation=relu, hidden_layer_sizes=(160,), early_stopping=True, solver=adam \n",
      "[CV]  alpha=1e-07, activation=relu, hidden_layer_sizes=(140,), early_stopping=True, solver=adam, total=  35.8s\n",
      "[CV] alpha=1e-07, activation=relu, hidden_layer_sizes=(160,), early_stopping=True, solver=adam \n",
      "[CV]  alpha=1e-07, activation=relu, hidden_layer_sizes=(140,), early_stopping=True, solver=adam, total=  33.1s\n",
      "[CV] alpha=1e-07, activation=relu, hidden_layer_sizes=(160,), early_stopping=True, solver=adam \n",
      "[CV]  alpha=1e-07, activation=relu, hidden_layer_sizes=(140,), early_stopping=True, solver=adam, total=  28.5s\n",
      "[CV] alpha=1e-07, activation=relu, hidden_layer_sizes=(180,), early_stopping=True, solver=adam \n",
      "[CV]  alpha=1e-07, activation=relu, hidden_layer_sizes=(160,), early_stopping=True, solver=adam, total=  30.4s\n",
      "[CV] alpha=1e-07, activation=relu, hidden_layer_sizes=(180,), early_stopping=True, solver=adam \n",
      "[CV]  alpha=1e-07, activation=relu, hidden_layer_sizes=(160,), early_stopping=True, solver=adam, total=  30.3s\n",
      "[CV] alpha=1e-07, activation=relu, hidden_layer_sizes=(180,), early_stopping=True, solver=adam \n",
      "[CV]  alpha=1e-07, activation=relu, hidden_layer_sizes=(160,), early_stopping=True, solver=adam, total=  29.5s\n",
      "[CV] alpha=1e-07, activation=relu, hidden_layer_sizes=(200,), early_stopping=True, solver=adam \n",
      "[CV]  alpha=1e-07, activation=relu, hidden_layer_sizes=(180,), early_stopping=True, solver=adam, total=  27.6s\n",
      "[CV] alpha=1e-07, activation=relu, hidden_layer_sizes=(200,), early_stopping=True, solver=adam \n",
      "[CV]  alpha=1e-07, activation=relu, hidden_layer_sizes=(180,), early_stopping=True, solver=adam, total=  27.5s\n",
      "[CV] alpha=1e-07, activation=relu, hidden_layer_sizes=(200,), early_stopping=True, solver=adam \n",
      "[CV]  alpha=1e-07, activation=relu, hidden_layer_sizes=(180,), early_stopping=True, solver=adam, total=  27.8s\n",
      "[CV] alpha=1e-07, activation=relu, hidden_layer_sizes=(220,), early_stopping=True, solver=adam \n",
      "[CV]  alpha=1e-07, activation=relu, hidden_layer_sizes=(200,), early_stopping=True, solver=adam, total=  29.1s\n",
      "[CV] alpha=1e-07, activation=relu, hidden_layer_sizes=(220,), early_stopping=True, solver=adam \n",
      "[CV]  alpha=1e-07, activation=relu, hidden_layer_sizes=(200,), early_stopping=True, solver=adam, total=  29.6s\n",
      "[CV] alpha=1e-07, activation=relu, hidden_layer_sizes=(220,), early_stopping=True, solver=adam \n",
      "[CV]  alpha=1e-07, activation=relu, hidden_layer_sizes=(200,), early_stopping=True, solver=adam, total=  29.7s\n",
      "[CV] alpha=1e-07, activation=relu, hidden_layer_sizes=(240,), early_stopping=True, solver=adam \n",
      "[CV]  alpha=1e-07, activation=relu, hidden_layer_sizes=(220,), early_stopping=True, solver=adam, total=  31.9s\n",
      "[CV] alpha=1e-07, activation=relu, hidden_layer_sizes=(240,), early_stopping=True, solver=adam \n",
      "[CV]  alpha=1e-07, activation=relu, hidden_layer_sizes=(220,), early_stopping=True, solver=adam, total=  31.6s\n",
      "[CV] alpha=1e-07, activation=relu, hidden_layer_sizes=(240,), early_stopping=True, solver=adam \n",
      "[CV]  alpha=1e-07, activation=relu, hidden_layer_sizes=(220,), early_stopping=True, solver=adam, total=  35.3s\n",
      "[CV] alpha=1e-07, activation=relu, hidden_layer_sizes=(260,), early_stopping=True, solver=adam \n",
      "[CV]  alpha=1e-07, activation=relu, hidden_layer_sizes=(240,), early_stopping=True, solver=adam, total=  36.2s\n",
      "[CV] alpha=1e-07, activation=relu, hidden_layer_sizes=(260,), early_stopping=True, solver=adam \n",
      "[CV]  alpha=1e-07, activation=relu, hidden_layer_sizes=(240,), early_stopping=True, solver=adam, total=  36.8s\n",
      "[CV] alpha=1e-07, activation=relu, hidden_layer_sizes=(260,), early_stopping=True, solver=adam \n",
      "[CV]  alpha=1e-07, activation=relu, hidden_layer_sizes=(240,), early_stopping=True, solver=adam, total=  36.3s\n",
      "[CV] alpha=1e-07, activation=relu, hidden_layer_sizes=(280,), early_stopping=True, solver=adam \n",
      "[CV]  alpha=1e-07, activation=relu, hidden_layer_sizes=(260,), early_stopping=True, solver=adam, total=  35.4s\n",
      "[CV] alpha=1e-07, activation=relu, hidden_layer_sizes=(280,), early_stopping=True, solver=adam \n",
      "[CV]  alpha=1e-07, activation=relu, hidden_layer_sizes=(260,), early_stopping=True, solver=adam, total=  35.5s\n",
      "[CV] alpha=1e-07, activation=relu, hidden_layer_sizes=(280,), early_stopping=True, solver=adam \n",
      "[CV]  alpha=1e-07, activation=relu, hidden_layer_sizes=(260,), early_stopping=True, solver=adam, total=  37.8s\n",
      "[CV] alpha=1e-07, activation=relu, hidden_layer_sizes=(100,), early_stopping=False, solver=adam \n",
      "[CV]  alpha=1e-07, activation=relu, hidden_layer_sizes=(280,), early_stopping=True, solver=adam, total=  39.1s\n",
      "[CV] alpha=1e-07, activation=relu, hidden_layer_sizes=(100,), early_stopping=False, solver=adam \n",
      "[CV]  alpha=1e-07, activation=relu, hidden_layer_sizes=(280,), early_stopping=True, solver=adam, total=  38.7s\n",
      "[CV] alpha=1e-07, activation=relu, hidden_layer_sizes=(100,), early_stopping=False, solver=adam \n",
      "[CV]  alpha=1e-07, activation=relu, hidden_layer_sizes=(280,), early_stopping=True, solver=adam, total=  38.6s\n",
      "[CV] alpha=1e-07, activation=relu, hidden_layer_sizes=(120,), early_stopping=False, solver=adam \n",
      "[CV]  alpha=1e-07, activation=relu, hidden_layer_sizes=(100,), early_stopping=False, solver=adam, total= 1.8min\n",
      "[CV] alpha=1e-07, activation=relu, hidden_layer_sizes=(120,), early_stopping=False, solver=adam \n",
      "[CV]  alpha=1e-07, activation=relu, hidden_layer_sizes=(100,), early_stopping=False, solver=adam, total= 2.0min\n",
      "[CV] alpha=1e-07, activation=relu, hidden_layer_sizes=(120,), early_stopping=False, solver=adam \n",
      "[CV]  alpha=1e-07, activation=relu, hidden_layer_sizes=(120,), early_stopping=False, solver=adam, total= 2.3min\n",
      "[CV] alpha=1e-07, activation=relu, hidden_layer_sizes=(140,), early_stopping=False, solver=adam \n"
     ]
    },
    {
     "name": "stderr",
     "output_type": "stream",
     "text": [
      "[Parallel(n_jobs=-1)]: Done  33 tasks      | elapsed:  7.0min\n"
     ]
    },
    {
     "name": "stdout",
     "output_type": "stream",
     "text": [
      "[CV]  alpha=1e-07, activation=relu, hidden_layer_sizes=(100,), early_stopping=False, solver=adam, total= 3.1min\n",
      "[CV] alpha=1e-07, activation=relu, hidden_layer_sizes=(140,), early_stopping=False, solver=adam \n",
      "[CV]  alpha=1e-07, activation=relu, hidden_layer_sizes=(120,), early_stopping=False, solver=adam, total= 2.7min\n",
      "[CV] alpha=1e-07, activation=relu, hidden_layer_sizes=(140,), early_stopping=False, solver=adam \n",
      "[CV]  alpha=1e-07, activation=relu, hidden_layer_sizes=(120,), early_stopping=False, solver=adam, total= 3.1min\n",
      "[CV] alpha=1e-07, activation=relu, hidden_layer_sizes=(160,), early_stopping=False, solver=adam \n",
      "[CV]  alpha=1e-07, activation=relu, hidden_layer_sizes=(140,), early_stopping=False, solver=adam, total= 2.9min\n",
      "[CV] alpha=1e-07, activation=relu, hidden_layer_sizes=(160,), early_stopping=False, solver=adam \n",
      "[CV]  alpha=1e-07, activation=relu, hidden_layer_sizes=(140,), early_stopping=False, solver=adam, total= 4.2min\n",
      "[CV] alpha=1e-07, activation=relu, hidden_layer_sizes=(160,), early_stopping=False, solver=adam \n",
      "[CV]  alpha=1e-07, activation=relu, hidden_layer_sizes=(140,), early_stopping=False, solver=adam, total= 3.6min\n",
      "[CV] alpha=1e-07, activation=relu, hidden_layer_sizes=(180,), early_stopping=False, solver=adam \n",
      "[CV]  alpha=1e-07, activation=relu, hidden_layer_sizes=(160,), early_stopping=False, solver=adam, total= 3.0min\n",
      "[CV] alpha=1e-07, activation=relu, hidden_layer_sizes=(180,), early_stopping=False, solver=adam \n",
      "[CV]  alpha=1e-07, activation=relu, hidden_layer_sizes=(160,), early_stopping=False, solver=adam, total= 4.3min\n",
      "[CV] alpha=1e-07, activation=relu, hidden_layer_sizes=(180,), early_stopping=False, solver=adam \n",
      "[CV]  alpha=1e-07, activation=relu, hidden_layer_sizes=(180,), early_stopping=False, solver=adam, total= 2.2min\n",
      "[CV]  alpha=1e-07, activation=relu, hidden_layer_sizes=(160,), early_stopping=False, solver=adam, total= 4.3min\n",
      "[CV] alpha=1e-07, activation=relu, hidden_layer_sizes=(200,), early_stopping=False, solver=adam \n",
      "[CV] alpha=1e-07, activation=relu, hidden_layer_sizes=(200,), early_stopping=False, solver=adam \n",
      "[CV]  alpha=1e-07, activation=relu, hidden_layer_sizes=(180,), early_stopping=False, solver=adam, total= 4.2min\n",
      "[CV] alpha=1e-07, activation=relu, hidden_layer_sizes=(200,), early_stopping=False, solver=adam \n",
      "[CV]  alpha=1e-07, activation=relu, hidden_layer_sizes=(180,), early_stopping=False, solver=adam, total= 3.1min\n",
      "[CV] alpha=1e-07, activation=relu, hidden_layer_sizes=(220,), early_stopping=False, solver=adam \n",
      "[CV]  alpha=1e-07, activation=relu, hidden_layer_sizes=(200,), early_stopping=False, solver=adam, total= 3.6min\n",
      "[CV] alpha=1e-07, activation=relu, hidden_layer_sizes=(220,), early_stopping=False, solver=adam \n",
      "[CV]  alpha=1e-07, activation=relu, hidden_layer_sizes=(200,), early_stopping=False, solver=adam, total= 3.8min\n",
      "[CV] alpha=1e-07, activation=relu, hidden_layer_sizes=(220,), early_stopping=False, solver=adam \n",
      "[CV]  alpha=1e-07, activation=relu, hidden_layer_sizes=(200,), early_stopping=False, solver=adam, total= 3.6min\n",
      "[CV] alpha=1e-07, activation=relu, hidden_layer_sizes=(240,), early_stopping=False, solver=adam \n",
      "[CV]  alpha=1e-07, activation=relu, hidden_layer_sizes=(220,), early_stopping=False, solver=adam, total= 4.7min\n",
      "[CV] alpha=1e-07, activation=relu, hidden_layer_sizes=(240,), early_stopping=False, solver=adam \n",
      "[CV]  alpha=1e-07, activation=relu, hidden_layer_sizes=(220,), early_stopping=False, solver=adam, total= 3.3min\n",
      "[CV] alpha=1e-07, activation=relu, hidden_layer_sizes=(240,), early_stopping=False, solver=adam \n",
      "[CV]  alpha=1e-07, activation=relu, hidden_layer_sizes=(220,), early_stopping=False, solver=adam, total= 4.4min\n",
      "[CV] alpha=1e-07, activation=relu, hidden_layer_sizes=(260,), early_stopping=False, solver=adam \n",
      "[CV]  alpha=1e-07, activation=relu, hidden_layer_sizes=(240,), early_stopping=False, solver=adam, total= 4.4min\n",
      "[CV] alpha=1e-07, activation=relu, hidden_layer_sizes=(260,), early_stopping=False, solver=adam \n",
      "[CV]  alpha=1e-07, activation=relu, hidden_layer_sizes=(240,), early_stopping=False, solver=adam, total= 3.9min\n",
      "[CV] alpha=1e-07, activation=relu, hidden_layer_sizes=(260,), early_stopping=False, solver=adam \n",
      "[CV]  alpha=1e-07, activation=relu, hidden_layer_sizes=(240,), early_stopping=False, solver=adam, total= 4.7min\n",
      "[CV] alpha=1e-07, activation=relu, hidden_layer_sizes=(280,), early_stopping=False, solver=adam \n",
      "[CV]  alpha=1e-07, activation=relu, hidden_layer_sizes=(260,), early_stopping=False, solver=adam, total= 4.9min\n",
      "[CV] alpha=1e-07, activation=relu, hidden_layer_sizes=(280,), early_stopping=False, solver=adam \n",
      "[CV]  alpha=1e-07, activation=relu, hidden_layer_sizes=(260,), early_stopping=False, solver=adam, total= 3.3min\n",
      "[CV] alpha=1e-07, activation=relu, hidden_layer_sizes=(280,), early_stopping=False, solver=adam \n",
      "[CV]  alpha=1e-07, activation=relu, hidden_layer_sizes=(260,), early_stopping=False, solver=adam, total= 5.6min\n",
      "[CV] alpha=3.5938136638e-07, activation=relu, hidden_layer_sizes=(100,), early_stopping=True, solver=adam \n",
      "[CV]  alpha=3.5938136638e-07, activation=relu, hidden_layer_sizes=(100,), early_stopping=True, solver=adam, total=  25.2s\n",
      "[CV] alpha=3.5938136638e-07, activation=relu, hidden_layer_sizes=(100,), early_stopping=True, solver=adam \n",
      "[CV]  alpha=3.5938136638e-07, activation=relu, hidden_layer_sizes=(100,), early_stopping=True, solver=adam, total=  25.5s\n",
      "[CV] alpha=3.5938136638e-07, activation=relu, hidden_layer_sizes=(100,), early_stopping=True, solver=adam \n",
      "[CV]  alpha=3.5938136638e-07, activation=relu, hidden_layer_sizes=(100,), early_stopping=True, solver=adam, total=  25.8s\n",
      "[CV] alpha=3.5938136638e-07, activation=relu, hidden_layer_sizes=(120,), early_stopping=True, solver=adam \n",
      "[CV]  alpha=1e-07, activation=relu, hidden_layer_sizes=(280,), early_stopping=False, solver=adam, total= 5.3min\n",
      "[CV] alpha=3.5938136638e-07, activation=relu, hidden_layer_sizes=(120,), early_stopping=True, solver=adam \n",
      "[CV]  alpha=3.5938136638e-07, activation=relu, hidden_layer_sizes=(120,), early_stopping=True, solver=adam, total=  28.5s\n",
      "[CV] alpha=3.5938136638e-07, activation=relu, hidden_layer_sizes=(120,), early_stopping=True, solver=adam \n",
      "[CV]  alpha=3.5938136638e-07, activation=relu, hidden_layer_sizes=(120,), early_stopping=True, solver=adam, total=  26.5s\n",
      "[CV] alpha=3.5938136638e-07, activation=relu, hidden_layer_sizes=(140,), early_stopping=True, solver=adam \n",
      "[CV]  alpha=3.5938136638e-07, activation=relu, hidden_layer_sizes=(120,), early_stopping=True, solver=adam, total=  26.0s\n",
      "[CV] alpha=3.5938136638e-07, activation=relu, hidden_layer_sizes=(140,), early_stopping=True, solver=adam \n",
      "[CV]  alpha=3.5938136638e-07, activation=relu, hidden_layer_sizes=(140,), early_stopping=True, solver=adam, total=  27.5s\n",
      "[CV] alpha=3.5938136638e-07, activation=relu, hidden_layer_sizes=(140,), early_stopping=True, solver=adam \n",
      "[CV]  alpha=3.5938136638e-07, activation=relu, hidden_layer_sizes=(140,), early_stopping=True, solver=adam, total=  28.5s\n",
      "[CV] alpha=3.5938136638e-07, activation=relu, hidden_layer_sizes=(160,), early_stopping=True, solver=adam \n",
      "[CV]  alpha=3.5938136638e-07, activation=relu, hidden_layer_sizes=(140,), early_stopping=True, solver=adam, total=  29.4s\n",
      "[CV] alpha=3.5938136638e-07, activation=relu, hidden_layer_sizes=(160,), early_stopping=True, solver=adam \n",
      "[CV]  alpha=3.5938136638e-07, activation=relu, hidden_layer_sizes=(160,), early_stopping=True, solver=adam, total=  30.8s\n",
      "[CV] alpha=3.5938136638e-07, activation=relu, hidden_layer_sizes=(160,), early_stopping=True, solver=adam \n",
      "[CV]  alpha=3.5938136638e-07, activation=relu, hidden_layer_sizes=(160,), early_stopping=True, solver=adam, total=  30.9s\n",
      "[CV] alpha=3.5938136638e-07, activation=relu, hidden_layer_sizes=(180,), early_stopping=True, solver=adam \n",
      "[CV]  alpha=3.5938136638e-07, activation=relu, hidden_layer_sizes=(160,), early_stopping=True, solver=adam, total=  31.0s\n",
      "[CV] alpha=3.5938136638e-07, activation=relu, hidden_layer_sizes=(180,), early_stopping=True, solver=adam \n",
      "[CV]  alpha=3.5938136638e-07, activation=relu, hidden_layer_sizes=(180,), early_stopping=True, solver=adam, total=  33.1s\n",
      "[CV] alpha=3.5938136638e-07, activation=relu, hidden_layer_sizes=(180,), early_stopping=True, solver=adam \n"
     ]
    },
    {
     "name": "stdout",
     "output_type": "stream",
     "text": [
      "[CV]  alpha=3.5938136638e-07, activation=relu, hidden_layer_sizes=(180,), early_stopping=True, solver=adam, total=  33.0s\n",
      "[CV] alpha=3.5938136638e-07, activation=relu, hidden_layer_sizes=(200,), early_stopping=True, solver=adam \n",
      "[CV]  alpha=1e-07, activation=relu, hidden_layer_sizes=(280,), early_stopping=False, solver=adam, total= 6.4min\n",
      "[CV] alpha=3.5938136638e-07, activation=relu, hidden_layer_sizes=(200,), early_stopping=True, solver=adam \n",
      "[CV]  alpha=3.5938136638e-07, activation=relu, hidden_layer_sizes=(180,), early_stopping=True, solver=adam, total=  33.2s\n",
      "[CV] alpha=3.5938136638e-07, activation=relu, hidden_layer_sizes=(200,), early_stopping=True, solver=adam \n",
      "[CV]  alpha=3.5938136638e-07, activation=relu, hidden_layer_sizes=(200,), early_stopping=True, solver=adam, total=  34.8s\n",
      "[CV] alpha=3.5938136638e-07, activation=relu, hidden_layer_sizes=(220,), early_stopping=True, solver=adam \n",
      "[CV]  alpha=3.5938136638e-07, activation=relu, hidden_layer_sizes=(200,), early_stopping=True, solver=adam, total=  34.6s\n",
      "[CV] alpha=3.5938136638e-07, activation=relu, hidden_layer_sizes=(220,), early_stopping=True, solver=adam \n",
      "[CV]  alpha=3.5938136638e-07, activation=relu, hidden_layer_sizes=(200,), early_stopping=True, solver=adam, total=  35.6s\n",
      "[CV] alpha=3.5938136638e-07, activation=relu, hidden_layer_sizes=(220,), early_stopping=True, solver=adam \n",
      "[CV]  alpha=3.5938136638e-07, activation=relu, hidden_layer_sizes=(220,), early_stopping=True, solver=adam, total=  37.2s\n",
      "[CV] alpha=3.5938136638e-07, activation=relu, hidden_layer_sizes=(240,), early_stopping=True, solver=adam \n",
      "[CV]  alpha=3.5938136638e-07, activation=relu, hidden_layer_sizes=(220,), early_stopping=True, solver=adam, total=  37.4s\n",
      "[CV] alpha=3.5938136638e-07, activation=relu, hidden_layer_sizes=(240,), early_stopping=True, solver=adam \n",
      "[CV]  alpha=3.5938136638e-07, activation=relu, hidden_layer_sizes=(220,), early_stopping=True, solver=adam, total=  37.1s\n",
      "[CV] alpha=3.5938136638e-07, activation=relu, hidden_layer_sizes=(240,), early_stopping=True, solver=adam \n",
      "[CV]  alpha=3.5938136638e-07, activation=relu, hidden_layer_sizes=(240,), early_stopping=True, solver=adam, total=  38.6s\n",
      "[CV] alpha=3.5938136638e-07, activation=relu, hidden_layer_sizes=(260,), early_stopping=True, solver=adam \n",
      "[CV]  alpha=3.5938136638e-07, activation=relu, hidden_layer_sizes=(240,), early_stopping=True, solver=adam, total=  39.3s\n",
      "[CV] alpha=3.5938136638e-07, activation=relu, hidden_layer_sizes=(260,), early_stopping=True, solver=adam \n",
      "[CV]  alpha=3.5938136638e-07, activation=relu, hidden_layer_sizes=(240,), early_stopping=True, solver=adam, total=  42.3s\n",
      "[CV] alpha=3.5938136638e-07, activation=relu, hidden_layer_sizes=(260,), early_stopping=True, solver=adam \n",
      "[CV]  alpha=3.5938136638e-07, activation=relu, hidden_layer_sizes=(260,), early_stopping=True, solver=adam, total=  48.6s\n",
      "[CV] alpha=3.5938136638e-07, activation=relu, hidden_layer_sizes=(280,), early_stopping=True, solver=adam \n",
      "[CV]  alpha=3.5938136638e-07, activation=relu, hidden_layer_sizes=(260,), early_stopping=True, solver=adam, total=  49.0s\n",
      "[CV] alpha=3.5938136638e-07, activation=relu, hidden_layer_sizes=(280,), early_stopping=True, solver=adam \n",
      "[CV]  alpha=3.5938136638e-07, activation=relu, hidden_layer_sizes=(260,), early_stopping=True, solver=adam, total=  46.5s\n",
      "[CV] alpha=3.5938136638e-07, activation=relu, hidden_layer_sizes=(280,), early_stopping=True, solver=adam \n",
      "[CV]  alpha=1e-07, activation=relu, hidden_layer_sizes=(280,), early_stopping=False, solver=adam, total= 8.4min\n",
      "[CV] alpha=3.5938136638e-07, activation=relu, hidden_layer_sizes=(100,), early_stopping=False, solver=adam \n",
      "[CV]  alpha=3.5938136638e-07, activation=relu, hidden_layer_sizes=(280,), early_stopping=True, solver=adam, total=  41.6s\n",
      "[CV] alpha=3.5938136638e-07, activation=relu, hidden_layer_sizes=(100,), early_stopping=False, solver=adam \n",
      "[CV]  alpha=3.5938136638e-07, activation=relu, hidden_layer_sizes=(280,), early_stopping=True, solver=adam, total=  41.6s\n",
      "[CV] alpha=3.5938136638e-07, activation=relu, hidden_layer_sizes=(100,), early_stopping=False, solver=adam \n",
      "[CV]  alpha=3.5938136638e-07, activation=relu, hidden_layer_sizes=(280,), early_stopping=True, solver=adam, total=  39.8s\n",
      "[CV] alpha=3.5938136638e-07, activation=relu, hidden_layer_sizes=(120,), early_stopping=False, solver=adam \n"
     ]
    }
   ],
   "source": [
    "m = X.shape[0]\n",
    "n_inputs = X.shape[1]\n",
    "n_outputs = 1\n",
    "\n",
    "params = {'solver': ['adam'],\n",
    "        'hidden_layer_sizes': [(n,) for n in np.arange(100,300,20)],\n",
    "        'activation': ['relu', 'logistic'], \n",
    "        'alpha': np.logspace(-7, -2, 10),\n",
    "        'early_stopping': [True, False], \n",
    "        #'warm_start': True,\n",
    "       }\n",
    "\n",
    "mlp_onelayer = MLPClassifier(verbose=False)\n",
    "cv_onelayer = GridSearchCV(mlp_onelayer, param_grid=params, scoring=util.gini_proba_scorer, n_jobs=-1,\n",
    "                          verbose=2)\n",
    "cv_onelayer.fit(X, Y)"
   ]
  },
  {
   "cell_type": "code",
   "execution_count": null,
   "metadata": {
    "collapsed": true
   },
   "outputs": [],
   "source": [
    "mlp_onelayer_out = open('models/multilayer_perceptron_onelayer.pickle', 'wb')\n",
    "pickle.dump(cv_onelayer.best_estimator_, mlp_onelayer_out)\n",
    "mlp_onelayer_out.close()"
   ]
  },
  {
   "cell_type": "markdown",
   "metadata": {},
   "source": [
    "# One hidden layer: Evaluation"
   ]
  },
  {
   "cell_type": "code",
   "execution_count": null,
   "metadata": {
    "collapsed": true
   },
   "outputs": [],
   "source": [
    "mlp_onelayer = pickle.load(open('models/multilayer_perceptron_onelayer.pickle'))"
   ]
  },
  {
   "cell_type": "code",
   "execution_count": null,
   "metadata": {
    "collapsed": true
   },
   "outputs": [],
   "source": [
    "trainsizes, traingini, testgini = util.learning_curves(mlp_onelayer, X_train, X_test, y_train, y_test,\n",
    "                                                      scorer=util.gini_proba_scorer)\n",
    "print(traingini)\n",
    "print('')\n",
    "print(testgini)"
   ]
  },
  {
   "cell_type": "code",
   "execution_count": null,
   "metadata": {
    "collapsed": true
   },
   "outputs": [],
   "source": [
    "plt.figure()\n",
    "plt.plot(trainsizes, traingini, label='train gini')\n",
    "plt.plot(trainsizes, testgini, label='test gini')\n",
    "plt.xlabel('Training set size')\n",
    "plt.ylabel('Normalized Gini coefficient')\n",
    "plt.title('Multi-layer perceptron, one layer')\n",
    "plt.legend()\n",
    "plt.savefig('figures/learning_curves/mlp_onelayer.eps', format='eps', dpi=1000)"
   ]
  },
  {
   "cell_type": "code",
   "execution_count": null,
   "metadata": {
    "collapsed": true
   },
   "outputs": [],
   "source": [
    "plt.show()"
   ]
  },
  {
   "cell_type": "markdown",
   "metadata": {},
   "source": [
    "# One hidden layer: Output"
   ]
  },
  {
   "cell_type": "code",
   "execution_count": null,
   "metadata": {
    "collapsed": true
   },
   "outputs": [],
   "source": [
    "mlp_onelayer.fit(X, Y)"
   ]
  },
  {
   "cell_type": "code",
   "execution_count": null,
   "metadata": {
    "collapsed": true
   },
   "outputs": [],
   "source": [
    "testfile = 'data/test.csv'\n",
    "util.make_prediction(mlp_onelayer, testfile, 'predictions/mlp_onelayer.csv', scale=True,\n",
    "                     method=util.proba_method(mlp_onelayer))"
   ]
  }
 ],
 "metadata": {
  "kernelspec": {
   "display_name": "Python 2",
   "language": "python",
   "name": "python2"
  },
  "language_info": {
   "codemirror_mode": {
    "name": "ipython",
    "version": 2
   },
   "file_extension": ".py",
   "mimetype": "text/x-python",
   "name": "python",
   "nbconvert_exporter": "python",
   "pygments_lexer": "ipython2",
   "version": "2.7.14"
  }
 },
 "nbformat": 4,
 "nbformat_minor": 2
}
