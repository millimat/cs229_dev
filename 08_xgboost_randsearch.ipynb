{
 "cells": [
  {
   "cell_type": "code",
   "execution_count": null,
   "metadata": {},
   "outputs": [],
   "source": [
    "import numpy as np\n",
    "import util\n",
    "import pickle\n",
    "from xgboost import XGBClassifier\n",
    "from sklearn.model_selection import train_test_split\n",
    "from sklearn.model_selection import GridSearchCV, RandomizedSearchCV\n",
    "import matplotlib.pyplot as plt\n",
    "import scipy.stats"
   ]
  },
  {
   "cell_type": "code",
   "execution_count": null,
   "metadata": {
    "collapsed": true
   },
   "outputs": [],
   "source": [
    "seed=229\n",
    "state = np.random.RandomState(seed)\n",
    "\n",
    "trainfile = 'data/train.csv'\n",
    "header, ids, X, Y = util.fetch_data(trainfile)\n",
    "\n",
    "test_size = 0.20\n",
    "X_train, X_test, y_train, y_test = train_test_split(X, Y, test_size=test_size, random_state=state)"
   ]
  },
  {
   "cell_type": "markdown",
   "metadata": {},
   "source": [
    "# Training: Randomized Search\n",
    "Use 10% of the data to conduct a search over XGBoost parameters, then test "
   ]
  },
  {
   "cell_type": "code",
   "execution_count": null,
   "metadata": {
    "collapsed": true
   },
   "outputs": [],
   "source": [
    "best_xgb = None\n",
    "\n",
    "try:\n",
    "    best_xgb = pickle.load(open('models/xgb_randomized.pickle'))\n",
    "except IOError:\n",
    "    pass "
   ]
  },
  {
   "cell_type": "code",
   "execution_count": null,
   "metadata": {
    "scrolled": true
   },
   "outputs": [],
   "source": [
    "m_search = X_train.shape[0]/10\n",
    "X_paramsearch = X_train[:m_search,:]; Y_paramsearch = y_train[:m_search]\n",
    "\n",
    "param_distros = {'learning_rate': scipy.stats.uniform(loc=0.1,scale=0.1),\n",
    "                 'min_child_weight': scipy.stats.uniform(loc=0.1,scale=0.9),\n",
    "                'max_depth': scipy.stats.binom(n=10, p=0.6), \n",
    "                 #'gamma': scipy.stats.uniform(loc=0, scale=1),\n",
    "                 'subsample': scipy.stats.uniform(loc=0.5,scale=0.5),\n",
    "                 'colsample_bytree': scipy.stats.uniform(loc=0.5, scale=0.5),\n",
    "                }\n",
    "xgb = XGBClassifier(silent=0)\n",
    "cv_random = RandomizedSearchCV(xgb, n_iter=500, param_distributions=param_distros,\n",
    "                               scoring=util.gini_proba_scorer, verbose=2, n_jobs=-1)\n",
    "cv_random.fit(X_paramsearch, Y_paramsearch)\n",
    "\n",
    "best_xgb_score = (-float('inf') if best_xgb == None \n",
    "                  else util.gini_proba_scorer(best_xgb, X_paramsearch, Y_paramsearch)) \n",
    "                  #.gini_normalized(Y_paramsearch, best_xgb.predict_proba(X_paramsearch)[1:]))\n",
    "\n",
    "# Update best estimator\n",
    "if cv_random.best_score_ > best_xgb_score: \n",
    "    best_xgb = cv_random.best_estimator_\n",
    "\n",
    "xgb_out = open('models/xgb_randomized.pickle', 'wb')\n",
    "pickle.dump(best_xgb, xgb_out)\n",
    "xgb_out.close()"
   ]
  },
  {
   "cell_type": "markdown",
   "metadata": {},
   "source": [
    "# Evaluation"
   ]
  },
  {
   "cell_type": "code",
   "execution_count": null,
   "metadata": {
    "collapsed": true
   },
   "outputs": [],
   "source": [
    "best_xgb = pickle.load(open('models/xgb_randomized.pickle'))"
   ]
  },
  {
   "cell_type": "code",
   "execution_count": null,
   "metadata": {},
   "outputs": [],
   "source": [
    "trainsizes, traingini, testgini = util.learning_curves(best_xgb, X_train, X_test, y_train, y_test,\n",
    "                                                      scorer=util.gini_proba_scorer)"
   ]
  },
  {
   "cell_type": "code",
   "execution_count": null,
   "metadata": {},
   "outputs": [],
   "source": [
    "print(traingini)\n",
    "print('')\n",
    "print(testgini)"
   ]
  },
  {
   "cell_type": "code",
   "execution_count": null,
   "metadata": {
    "collapsed": true
   },
   "outputs": [],
   "source": [
    "plt.figure()\n",
    "plt.plot(trainsizes, traingini, label='train gini')\n",
    "plt.plot(trainsizes, testgini, label='test gini')\n",
    "plt.xlabel('Training set size')\n",
    "plt.ylabel('Normalized Gini coefficient')\n",
    "plt.title('XGBoost with RandomizedSearchCV')\n",
    "plt.legend()\n",
    "plt.savefig('figures/learning_curves/xgboost_randomized.eps')"
   ]
  },
  {
   "cell_type": "code",
   "execution_count": null,
   "metadata": {},
   "outputs": [],
   "source": [
    "plt.show()"
   ]
  },
  {
   "cell_type": "markdown",
   "metadata": {},
   "source": [
    "# Output"
   ]
  },
  {
   "cell_type": "code",
   "execution_count": null,
   "metadata": {},
   "outputs": [],
   "source": [
    "best_xgb.fit(X, Y)\n",
    "print(util.gini_proba_scorer(best_xgb, X, Y))"
   ]
  },
  {
   "cell_type": "code",
   "execution_count": null,
   "metadata": {},
   "outputs": [],
   "source": [
    "util.make_prediction(best_xgb, 'data/test.csv', 'predictions/xgboost_randomized_171212_01.csv',\n",
    "                     predict_method=util.proba_method(best_xgb))"
   ]
  }
 ],
 "metadata": {
  "kernelspec": {
   "display_name": "Python 2",
   "language": "python",
   "name": "python2"
  },
  "language_info": {
   "codemirror_mode": {
    "name": "ipython",
    "version": 2
   },
   "file_extension": ".py",
   "mimetype": "text/x-python",
   "name": "python",
   "nbconvert_exporter": "python",
   "pygments_lexer": "ipython2",
   "version": "2.7.14"
  }
 },
 "nbformat": 4,
 "nbformat_minor": 2
}
