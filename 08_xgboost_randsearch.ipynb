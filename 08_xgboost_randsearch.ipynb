{
 "cells": [
  {
   "cell_type": "code",
   "execution_count": 1,
   "metadata": {},
   "outputs": [
    {
     "name": "stderr",
     "output_type": "stream",
     "text": [
      "/Users/Matthew/anaconda2/lib/python2.7/site-packages/sklearn/cross_validation.py:41: DeprecationWarning: This module was deprecated in version 0.18 in favor of the model_selection module into which all the refactored classes and functions are moved. Also note that the interface of the new CV iterators are different from that of this module. This module will be removed in 0.20.\n",
      "  \"This module will be removed in 0.20.\", DeprecationWarning)\n"
     ]
    }
   ],
   "source": [
    "import numpy as np\n",
    "import util\n",
    "import pickle\n",
    "from xgboost import XGBClassifier\n",
    "from sklearn.model_selection import train_test_split\n",
    "from sklearn.model_selection import GridSearchCV, RandomizedSearchCV\n",
    "import matplotlib.pyplot as plt\n",
    "import scipy.stats"
   ]
  },
  {
   "cell_type": "code",
   "execution_count": 2,
   "metadata": {
    "collapsed": true
   },
   "outputs": [],
   "source": [
    "seed=229\n",
    "state = np.random.RandomState(seed)\n",
    "\n",
    "trainfile = 'data/train.csv'\n",
    "header, ids, X, Y = util.fetch_data(trainfile)\n",
    "\n",
    "test_size = 0.20\n",
    "X_train, X_test, y_train, y_test = train_test_split(X, Y, test_size=test_size, random_state=state)"
   ]
  },
  {
   "cell_type": "markdown",
   "metadata": {},
   "source": [
    "# Training: Randomized Search\n",
    "Use 10% of the data to conduct a search over XGBoost parameters, then test "
   ]
  },
  {
   "cell_type": "code",
   "execution_count": null,
   "metadata": {
    "collapsed": true
   },
   "outputs": [],
   "source": [
    "best_xgb = None\n",
    "\n",
    "try:\n",
    "    best_xgb = pickle.load(open('models/xgb_randomized.pickle'))\n",
    "except IOError:\n",
    "    pass "
   ]
  },
  {
   "cell_type": "code",
   "execution_count": null,
   "metadata": {
    "collapsed": true,
    "scrolled": true
   },
   "outputs": [],
   "source": [
    "m_search = X_train.shape[0]/3\n",
    "X_paramsearch = X_train[:m_search,:]; Y_paramsearch = y_train[:m_search]\n",
    "\n",
    "param_distros = {'learning_rate': scipy.stats.uniform(loc=0.01,scale=0.19),\n",
    "                 'min_child_weight': scipy.stats.uniform(loc=0.1,scale=0.9),\n",
    "                 'max_depth': scipy.stats.binom(n=10, p=0.6), \n",
    "                 'subsample': scipy.stats.uniform(loc=0.5,scale=0.5),\n",
    "                 'colsample_bytree': scipy.stats.uniform(loc=0.5, scale=0.5),\n",
    "                 'missing': [-1] # Treat -1's as missing\n",
    "                }\n",
    "\n",
    "xgb = XGBClassifier(silent=0, missing=-1)\n",
    "cv_random = RandomizedSearchCV(xgb, n_iter=200, param_distributions=param_distros,\n",
    "                               scoring=util.gini_proba_scorer, verbose=2, n_jobs=-1)\n",
    "cv_random.fit(X_paramsearch, Y_paramsearch)\n",
    "\n",
    "best_xgb_score = (-float('inf') if best_xgb == None \n",
    "                  else util.gini_proba_scorer(best_xgb, X_paramsearch, Y_paramsearch)) \n",
    "\n",
    "# Update best estimator\n",
    "if cv_random.best_score_ > best_xgb_score: \n",
    "    best_xgb = cv_random.best_estimator_\n",
    "\n",
    "xgb_out = open('models/xgb_randomized.pickle', 'wb')\n",
    "pickle.dump(best_xgb, xgb_out)\n",
    "xgb_out.close()"
   ]
  },
  {
   "cell_type": "markdown",
   "metadata": {},
   "source": [
    "# Evaluation"
   ]
  },
  {
   "cell_type": "code",
   "execution_count": 3,
   "metadata": {},
   "outputs": [
    {
     "name": "stdout",
     "output_type": "stream",
     "text": [
      "XGBClassifier(base_score=0.5, colsample_bylevel=1,\n",
      "       colsample_bytree=0.79563799424128823, gamma=0,\n",
      "       learning_rate=0.12525666963231602, max_delta_step=0, max_depth=4,\n",
      "       min_child_weight=0.44883846042060982, missing=-1, n_estimators=100,\n",
      "       nthread=-1, objective='binary:logistic', reg_alpha=0, reg_lambda=1,\n",
      "       scale_pos_weight=1, seed=0, silent=0, subsample=0.52573466458954354)\n"
     ]
    }
   ],
   "source": [
    "best_xgb = pickle.load(open('models/xgb_randomized.pickle'))\n",
    "print(best_xgb)"
   ]
  },
  {
   "cell_type": "code",
   "execution_count": 4,
   "metadata": {},
   "outputs": [
    {
     "name": "stdout",
     "output_type": "stream",
     "text": [
      "Evaluating model on training set size 23808\n",
      "Evaluating model on training set size 47616\n",
      "Evaluating model on training set size 71425\n",
      "Evaluating model on training set size 95233\n",
      "Evaluating model on training set size 119042\n",
      "Evaluating model on training set size 142850\n",
      "Evaluating model on training set size 166659\n",
      "Evaluating model on training set size 190467\n",
      "Evaluating model on training set size 214276\n",
      "Evaluating model on training set size 238084\n",
      "Evaluating model on training set size 261892\n",
      "Evaluating model on training set size 285701\n",
      "Evaluating model on training set size 309509\n",
      "Evaluating model on training set size 333318\n",
      "Evaluating model on training set size 357126\n",
      "Evaluating model on training set size 380935\n",
      "Evaluating model on training set size 404743\n",
      "Evaluating model on training set size 428552\n",
      "Evaluating model on training set size 452360\n",
      "Evaluating model on training set size 476169\n"
     ]
    }
   ],
   "source": [
    "trainsizes, traingini, testgini = util.learning_curves(best_xgb, X_train, X_test, y_train, y_test,\n",
    "                                                      scorer=util.gini_proba_scorer)"
   ]
  },
  {
   "cell_type": "code",
   "execution_count": 5,
   "metadata": {},
   "outputs": [
    {
     "name": "stdout",
     "output_type": "stream",
     "text": [
      "[0.74933674358615487, 0.59523173037661359, 0.52433032373992905, 0.48087232778787109, 0.44588862666836543, 0.42558690212668182, 0.40236807338800107, 0.3986333309177949, 0.38205923259710656, 0.37442806942010332, 0.3657812151515944, 0.36036182284919649, 0.35813157378007765, 0.35226453760426341, 0.34805828900811048, 0.3421621847981281, 0.33996021421744865, 0.34362023321284951, 0.33687326891636199, 0.33323836350383457]\n",
      "\n",
      "[0.16989634565794007, 0.18913373811593798, 0.21047509253322019, 0.22939890662015516, 0.23635397818903783, 0.23716346570145119, 0.24742610752989075, 0.25041068521626458, 0.24574343013112276, 0.250577050035236, 0.25320087990621676, 0.25219063876625258, 0.25798960221653228, 0.25469293447712171, 0.25594208609647318, 0.25939895276588859, 0.26190200051046952, 0.26179301468250155, 0.26264161582262563, 0.26164407657142669]\n"
     ]
    }
   ],
   "source": [
    "print(traingini)\n",
    "print('')\n",
    "print(testgini)"
   ]
  },
  {
   "cell_type": "code",
   "execution_count": 6,
   "metadata": {
    "collapsed": true
   },
   "outputs": [],
   "source": [
    "plt.figure()\n",
    "plt.plot(trainsizes, traingini, label='train gini')\n",
    "plt.plot(trainsizes, testgini, label='test gini')\n",
    "plt.xlabel('Training set size')\n",
    "plt.ylabel('Normalized Gini coefficient')\n",
    "plt.title('XGBoost with RandomizedSearchCV')\n",
    "plt.legend()\n",
    "plt.savefig('figures/learning_curves/xgboost_randomized.eps')"
   ]
  },
  {
   "cell_type": "code",
   "execution_count": 7,
   "metadata": {},
   "outputs": [
    {
     "data": {
      "image/png": "[encoded data removed]",
      "text/plain": [
       "<matplotlib.figure.Figure at 0x1a0a8e2c50>"
      ]
     },
     "metadata": {},
     "output_type": "display_data"
    }
   ],
   "source": [
    "plt.show()"
   ]
  },
  {
   "cell_type": "markdown",
   "metadata": {},
   "source": [
    "# Output"
   ]
  },
  {
   "cell_type": "code",
   "execution_count": null,
   "metadata": {
    "collapsed": true
   },
   "outputs": [],
   "source": [
    "best_xgb.fit(X, Y)\n",
    "print(util.gini_proba_scorer(best_xgb, X, Y))"
   ]
  },
  {
   "cell_type": "code",
   "execution_count": null,
   "metadata": {
    "collapsed": true
   },
   "outputs": [],
   "source": [
    "util.make_prediction(best_xgb, 'data/test.csv', 'predictions/xgboost_randomized_171213_01.csv',\n",
    "                     predict_method=util.proba_method(best_xgb))"
   ]
  }
 ],
 "metadata": {
  "kernelspec": {
   "display_name": "Python 2",
   "language": "python",
   "name": "python2"
  },
  "language_info": {
   "codemirror_mode": {
    "name": "ipython",
    "version": 2
   },
   "file_extension": ".py",
   "mimetype": "text/x-python",
   "name": "python",
   "nbconvert_exporter": "python",
   "pygments_lexer": "ipython2",
   "version": "2.7.14"
  }
 },
 "nbformat": 4,
 "nbformat_minor": 2
}
