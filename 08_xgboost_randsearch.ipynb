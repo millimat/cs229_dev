{
 "cells": [
  {
   "cell_type": "code",
   "execution_count": 7,
   "metadata": {},
   "outputs": [],
   "source": [
    "import numpy as np\n",
    "import util\n",
    "import pickle\n",
    "from xgboost import XGBClassifier\n",
    "from sklearn.model_selection import train_test_split\n",
    "from sklearn.model_selection import GridSearchCV, RandomizedSearchCV\n",
    "import matplotlib.pyplot as plt\n",
    "import scipy.stats"
   ]
  },
  {
   "cell_type": "code",
   "execution_count": 2,
   "metadata": {
    "collapsed": true
   },
   "outputs": [],
   "source": [
    "seed=229\n",
    "np.random.seed(seed)\n",
    "\n",
    "trainfile = 'data/train.csv'\n",
    "header, ids, X, Y = util.fetch_data(trainfile)\n",
    "\n",
    "test_size = 0.20\n",
    "X_train, X_test, y_train, y_test = train_test_split(X, Y, test_size=test_size, random_state=seed)"
   ]
  },
  {
   "cell_type": "markdown",
   "metadata": {},
   "source": [
    "# Randomized Search\n",
    "Use 10% of the data to conduct a search over XGBoost parameters, then test "
   ]
  },
  {
   "cell_type": "code",
   "execution_count": null,
   "metadata": {
    "collapsed": true
   },
   "outputs": [],
   "source": [
    "prev_best_xgb = None\n",
    "\n",
    "try:\n",
    "    prev_best_xgb = pickle.load(open('models/xgb.pickle'))\n",
    "except IOError:\n",
    "    pass "
   ]
  },
  {
   "cell_type": "code",
   "execution_count": 5,
   "metadata": {
    "collapsed": true
   },
   "outputs": [
    {
     "name": "stdout",
     "output_type": "stream",
     "text": [
      "(47616, 57)\n",
      "Fitting 3 folds for each of 10 candidates, totalling 30 fits\n",
      "[CV] subsample=0.775326632468, learning_rate=0.175168614473, colsample_bytree=0.755041822007, max_depth=7, min_child_weight=0.666710316511 \n",
      "[CV] subsample=0.775326632468, learning_rate=0.175168614473, colsample_bytree=0.755041822007, max_depth=7, min_child_weight=0.666710316511 \n",
      "[CV] subsample=0.775326632468, learning_rate=0.175168614473, colsample_bytree=0.755041822007, max_depth=7, min_child_weight=0.666710316511 \n",
      "[CV] subsample=0.928857517897, learning_rate=0.15922564382, colsample_bytree=0.808875125905, max_depth=4, min_child_weight=0.401209397303 \n",
      "[CV]  subsample=0.928857517897, learning_rate=0.15922564382, colsample_bytree=0.808875125905, max_depth=4, min_child_weight=0.401209397303, total=   9.1s\n",
      "[CV] subsample=0.928857517897, learning_rate=0.15922564382, colsample_bytree=0.808875125905, max_depth=4, min_child_weight=0.401209397303 \n",
      "[CV]  subsample=0.775326632468, learning_rate=0.175168614473, colsample_bytree=0.755041822007, max_depth=7, min_child_weight=0.666710316511, total=  16.2s\n",
      "[CV]  subsample=0.775326632468, learning_rate=0.175168614473, colsample_bytree=0.755041822007, max_depth=7, min_child_weight=0.666710316511, total=  16.4s\n",
      "[CV] subsample=0.928857517897, learning_rate=0.15922564382, colsample_bytree=0.808875125905, max_depth=4, min_child_weight=0.401209397303 \n",
      "[CV] subsample=0.734275105373, learning_rate=0.178344783004, colsample_bytree=0.658531497069, max_depth=6, min_child_weight=0.926246782629 \n",
      "[CV]  subsample=0.775326632468, learning_rate=0.175168614473, colsample_bytree=0.755041822007, max_depth=7, min_child_weight=0.666710316511, total=  16.4s\n",
      "[CV] subsample=0.734275105373, learning_rate=0.178344783004, colsample_bytree=0.658531497069, max_depth=6, min_child_weight=0.926246782629 \n",
      "[CV]  subsample=0.928857517897, learning_rate=0.15922564382, colsample_bytree=0.808875125905, max_depth=4, min_child_weight=0.401209397303, total=  10.2s\n",
      "[CV] subsample=0.734275105373, learning_rate=0.178344783004, colsample_bytree=0.658531497069, max_depth=6, min_child_weight=0.926246782629 \n",
      "[CV]  subsample=0.928857517897, learning_rate=0.15922564382, colsample_bytree=0.808875125905, max_depth=4, min_child_weight=0.401209397303, total=   9.6s\n",
      "[CV] subsample=0.787216480269, learning_rate=0.154693387693, colsample_bytree=0.572972840125, max_depth=6, min_child_weight=0.343732196852 \n",
      "[CV]  subsample=0.734275105373, learning_rate=0.178344783004, colsample_bytree=0.658531497069, max_depth=6, min_child_weight=0.926246782629, total=  12.6s\n",
      "[CV] subsample=0.787216480269, learning_rate=0.154693387693, colsample_bytree=0.572972840125, max_depth=6, min_child_weight=0.343732196852 \n",
      "[CV]  subsample=0.734275105373, learning_rate=0.178344783004, colsample_bytree=0.658531497069, max_depth=6, min_child_weight=0.926246782629, total=  12.9s\n",
      "[CV] subsample=0.787216480269, learning_rate=0.154693387693, colsample_bytree=0.572972840125, max_depth=6, min_child_weight=0.343732196852 \n",
      "[CV]  subsample=0.734275105373, learning_rate=0.178344783004, colsample_bytree=0.658531497069, max_depth=6, min_child_weight=0.926246782629, total=  12.4s\n",
      "[CV] subsample=0.533817309028, learning_rate=0.117775070182, colsample_bytree=0.512774360983, max_depth=6, min_child_weight=0.833239809748 \n",
      "[CV]  subsample=0.787216480269, learning_rate=0.154693387693, colsample_bytree=0.572972840125, max_depth=6, min_child_weight=0.343732196852, total=  11.5s\n",
      "[CV] subsample=0.533817309028, learning_rate=0.117775070182, colsample_bytree=0.512774360983, max_depth=6, min_child_weight=0.833239809748 \n",
      "[CV]  subsample=0.787216480269, learning_rate=0.154693387693, colsample_bytree=0.572972840125, max_depth=6, min_child_weight=0.343732196852, total=  11.7s\n",
      "[CV] subsample=0.533817309028, learning_rate=0.117775070182, colsample_bytree=0.512774360983, max_depth=6, min_child_weight=0.833239809748 \n",
      "[CV]  subsample=0.787216480269, learning_rate=0.154693387693, colsample_bytree=0.572972840125, max_depth=6, min_child_weight=0.343732196852, total=  11.7s\n",
      "[CV] subsample=0.852196716682, learning_rate=0.164552312237, colsample_bytree=0.799997499636, max_depth=3, min_child_weight=0.830505303329 \n",
      "[CV]  subsample=0.533817309028, learning_rate=0.117775070182, colsample_bytree=0.512774360983, max_depth=6, min_child_weight=0.833239809748, total=  11.5s\n",
      "[CV] subsample=0.852196716682, learning_rate=0.164552312237, colsample_bytree=0.799997499636, max_depth=3, min_child_weight=0.830505303329 \n",
      "[CV]  subsample=0.533817309028, learning_rate=0.117775070182, colsample_bytree=0.512774360983, max_depth=6, min_child_weight=0.833239809748, total=  11.0s\n",
      "[CV] subsample=0.852196716682, learning_rate=0.164552312237, colsample_bytree=0.799997499636, max_depth=3, min_child_weight=0.830505303329 \n",
      "[CV]  subsample=0.852196716682, learning_rate=0.164552312237, colsample_bytree=0.799997499636, max_depth=3, min_child_weight=0.830505303329, total=   7.4s\n",
      "[CV] subsample=0.627304708486, learning_rate=0.124571520149, colsample_bytree=0.81003786516, max_depth=6, min_child_weight=0.21366290884 \n",
      "[CV]  subsample=0.852196716682, learning_rate=0.164552312237, colsample_bytree=0.799997499636, max_depth=3, min_child_weight=0.830505303329, total=   7.4s\n",
      "[CV] subsample=0.627304708486, learning_rate=0.124571520149, colsample_bytree=0.81003786516, max_depth=6, min_child_weight=0.21366290884 \n",
      "[CV]  subsample=0.533817309028, learning_rate=0.117775070182, colsample_bytree=0.512774360983, max_depth=6, min_child_weight=0.833239809748, total=  10.4s\n",
      "[CV] subsample=0.627304708486, learning_rate=0.124571520149, colsample_bytree=0.81003786516, max_depth=6, min_child_weight=0.21366290884 \n",
      "[CV]  subsample=0.852196716682, learning_rate=0.164552312237, colsample_bytree=0.799997499636, max_depth=3, min_child_weight=0.830505303329, total=   7.5s\n",
      "[CV] subsample=0.928312492739, learning_rate=0.124736759298, colsample_bytree=0.682714548949, max_depth=9, min_child_weight=0.72141029904 \n",
      "[CV]  subsample=0.627304708486, learning_rate=0.124571520149, colsample_bytree=0.81003786516, max_depth=6, min_child_weight=0.21366290884, total=  16.0s\n",
      "[CV] subsample=0.928312492739, learning_rate=0.124736759298, colsample_bytree=0.682714548949, max_depth=9, min_child_weight=0.72141029904 \n",
      "[CV]  subsample=0.627304708486, learning_rate=0.124571520149, colsample_bytree=0.81003786516, max_depth=6, min_child_weight=0.21366290884, total=  16.2s\n",
      "[CV] subsample=0.928312492739, learning_rate=0.124736759298, colsample_bytree=0.682714548949, max_depth=9, min_child_weight=0.72141029904 \n",
      "[CV]  subsample=0.627304708486, learning_rate=0.124571520149, colsample_bytree=0.81003786516, max_depth=6, min_child_weight=0.21366290884, total=  16.3s\n",
      "[CV] subsample=0.670978854807, learning_rate=0.130212658437, colsample_bytree=0.737658526392, max_depth=7, min_child_weight=0.368640711953 \n",
      "[CV]  subsample=0.928312492739, learning_rate=0.124736759298, colsample_bytree=0.682714548949, max_depth=9, min_child_weight=0.72141029904, total=  18.4s\n",
      "[CV] subsample=0.670978854807, learning_rate=0.130212658437, colsample_bytree=0.737658526392, max_depth=7, min_child_weight=0.368640711953 \n",
      "[CV]  subsample=0.928312492739, learning_rate=0.124736759298, colsample_bytree=0.682714548949, max_depth=9, min_child_weight=0.72141029904, total=  17.4s\n",
      "[CV] subsample=0.670978854807, learning_rate=0.130212658437, colsample_bytree=0.737658526392, max_depth=7, min_child_weight=0.368640711953 \n",
      "[CV]  subsample=0.670978854807, learning_rate=0.130212658437, colsample_bytree=0.737658526392, max_depth=7, min_child_weight=0.368640711953, total=  15.4s\n",
      "[CV] subsample=0.549299035411, learning_rate=0.107575690345, colsample_bytree=0.739496051875, max_depth=7, min_child_weight=0.924302083877 \n",
      "[CV]  subsample=0.928312492739, learning_rate=0.124736759298, colsample_bytree=0.682714548949, max_depth=9, min_child_weight=0.72141029904, total=  16.9s\n",
      "[CV] subsample=0.549299035411, learning_rate=0.107575690345, colsample_bytree=0.739496051875, max_depth=7, min_child_weight=0.924302083877 \n",
      "[CV]  subsample=0.670978854807, learning_rate=0.130212658437, colsample_bytree=0.737658526392, max_depth=7, min_child_weight=0.368640711953, total=  15.8s\n",
      "[CV] subsample=0.549299035411, learning_rate=0.107575690345, colsample_bytree=0.739496051875, max_depth=7, min_child_weight=0.924302083877 \n"
     ]
    },
    {
     "name": "stdout",
     "output_type": "stream",
     "text": [
      "[CV]  subsample=0.670978854807, learning_rate=0.130212658437, colsample_bytree=0.737658526392, max_depth=7, min_child_weight=0.368640711953, total=  15.8s\n",
      "[CV]  subsample=0.549299035411, learning_rate=0.107575690345, colsample_bytree=0.739496051875, max_depth=7, min_child_weight=0.924302083877, total=  15.9s\n",
      "[CV]  subsample=0.549299035411, learning_rate=0.107575690345, colsample_bytree=0.739496051875, max_depth=7, min_child_weight=0.924302083877, total=  15.3s\n",
      "[CV]  subsample=0.549299035411, learning_rate=0.107575690345, colsample_bytree=0.739496051875, max_depth=7, min_child_weight=0.924302083877, total=  11.4s\n"
     ]
    },
    {
     "name": "stderr",
     "output_type": "stream",
     "text": [
      "[Parallel(n_jobs=-1)]: Done  30 out of  30 | elapsed:  1.8min finished\n"
     ]
    }
   ],
   "source": [
    "m_search = X_train.shape[0]/10\n",
    "X_paramsearch = X_train[:m_search,:]; Y_paramsearch = y_train[:m_search]\n",
    "\n",
    "print(X_paramsearch.shape)\n",
    "\n",
    "param_distros = {'learning_rate': scipy.stats.uniform(loc=0.1,scale=0.1),\n",
    "                'min_child_weight': scipy.stats.uniform(loc=0.1,scale=0.9),\n",
    "                'max_depth': scipy.stats.binom(n=10, p=0.6), \n",
    "                #'gamma': scipy.stats.uniform(loc=0, scale=1),\n",
    "                'subsample': scipy.stats.uniform(loc=0.5,scale=0.5),\n",
    "                'colsample_bytree': scipy.stats.uniform(loc=0.5, scale=0.5)}\n",
    "xgb = XGBClassifier(silent=0)\n",
    "\n",
    "\n",
    "for i in range(100):\n",
    "\n",
    "# 9.7s for one candidate\n",
    "cv_random = RandomizedSearchCV(xgb, n_iter=10, param_distributions=param_distros,\n",
    "                               scoring=util.gini_scorer, verbose=2, n_jobs=-1)\n",
    "\n",
    "cv_random.fit(X_paramsearch, Y_paramsearch)\n",
    "xgb_model = cv_random.best_estimator_"
   ]
  },
  {
   "cell_type": "code",
   "execution_count": 8,
   "metadata": {},
   "outputs": [
    {
     "name": "stdout",
     "output_type": "stream",
     "text": [
      "XGBClassifier(base_score=0.5, colsample_bylevel=1,\n",
      "       colsample_bytree=0.65853149706877101, gamma=0,\n",
      "       learning_rate=0.17834478300405329, max_delta_step=0, max_depth=6,\n",
      "       min_child_weight=0.92624678262866966, missing=None,\n",
      "       n_estimators=100, nthread=-1, objective='binary:logistic',\n",
      "       reg_alpha=0, reg_lambda=1, scale_pos_weight=1, seed=0, silent=0,\n",
      "       subsample=0.73427510537253016)\n"
     ]
    }
   ],
   "source": [
    "xgb_model = cv_random.best_estimator_\n",
    "print(xgb_model)"
   ]
  },
  {
   "cell_type": "code",
   "execution_count": 9,
   "metadata": {},
   "outputs": [
    {
     "name": "stdout",
     "output_type": "stream",
     "text": [
      "Evaluating model on training set size 23808\n",
      "Evaluating model on training set size 47616\n",
      "Evaluating model on training set size 71425\n",
      "Evaluating model on training set size 95233\n",
      "Evaluating model on training set size 119042\n",
      "Evaluating model on training set size 142850\n",
      "Evaluating model on training set size 166659\n",
      "Evaluating model on training set size 190467\n",
      "Evaluating model on training set size 214276\n",
      "Evaluating model on training set size 238084\n",
      "Evaluating model on training set size 261892\n",
      "Evaluating model on training set size 285701\n",
      "Evaluating model on training set size 309509\n",
      "Evaluating model on training set size 333318\n",
      "Evaluating model on training set size 357126\n",
      "Evaluating model on training set size 380935\n",
      "Evaluating model on training set size 404743\n",
      "Evaluating model on training set size 428552\n",
      "Evaluating model on training set size 452360\n",
      "Evaluating model on training set size 476169\n"
     ]
    }
   ],
   "source": [
    "trainsizes, traingini, testgini = util.learning_curves(xgb_model, X_train, X_test, y_train, y_test)"
   ]
  },
  {
   "cell_type": "code",
   "execution_count": null,
   "metadata": {},
   "outputs": [],
   "source": [
    "print(traingini)\n",
    "print(testgini)"
   ]
  },
  {
   "cell_type": "code",
   "execution_count": null,
   "metadata": {},
   "outputs": [],
   "source": [
    "trainsizes, traingini, testgini = util.learning_curves(xgb_model, X_train, X_test, y_train, y_test)\n",
    "\n",
    "plt.figure()\n",
    "plt.plot(trainsizes, traingini, label='train gini')\n",
    "plt.plot(trainsizes, testgini, label='test gini')\n",
    "plt.xlabel('Training set size')\n",
    "plt.ylabel('Normalized Gini coefficient')\n",
    "plt.title('XGBoost')\n",
    "plt.legend()\n",
    "plt.show()"
   ]
  },
  {
   "cell_type": "code",
   "execution_count": null,
   "metadata": {
    "collapsed": true
   },
   "outputs": [],
   "source": []
  }
 ],
 "metadata": {
  "kernelspec": {
   "display_name": "Python 2",
   "language": "python",
   "name": "python2"
  },
  "language_info": {
   "codemirror_mode": {
    "name": "ipython",
    "version": 2
   },
   "file_extension": ".py",
   "mimetype": "text/x-python",
   "name": "python",
   "nbconvert_exporter": "python",
   "pygments_lexer": "ipython2",
   "version": "2.7.14"
  }
 },
 "nbformat": 4,
 "nbformat_minor": 2
}
