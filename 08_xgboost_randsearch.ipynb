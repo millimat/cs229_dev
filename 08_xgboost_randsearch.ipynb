{
 "cells": [
  {
   "cell_type": "code",
   "execution_count": 1,
   "metadata": {},
   "outputs": [
    {
     "name": "stderr",
     "output_type": "stream",
     "text": [
      "/Users/Matthew/anaconda2/lib/python2.7/site-packages/sklearn/cross_validation.py:41: DeprecationWarning: This module was deprecated in version 0.18 in favor of the model_selection module into which all the refactored classes and functions are moved. Also note that the interface of the new CV iterators are different from that of this module. This module will be removed in 0.20.\n",
      "  \"This module will be removed in 0.20.\", DeprecationWarning)\n"
     ]
    }
   ],
   "source": [
    "import numpy as np\n",
    "import util\n",
    "from xgboost import XGBClassifier\n",
    "from sklearn.model_selection import train_test_split\n",
    "from sklearn.model_selection import GridSearchCV, RandomizedSearchCV\n",
    "\n",
    "seed=229\n",
    "np.random.seed(seed)"
   ]
  },
  {
   "cell_type": "code",
   "execution_count": 2,
   "metadata": {
    "collapsed": true
   },
   "outputs": [],
   "source": [
    "trainfile = 'data/train.csv'\n",
    "header, ids, X, Y = util.fetch_data(trainfile)\n",
    "\n",
    "test_size = 0.20\n",
    "X_train, X_test, y_train, y_test = train_test_split(X, Y, test_size=test_size, random_state=seed)"
   ]
  },
  {
   "cell_type": "markdown",
   "metadata": {},
   "source": [
    "# Randomized Search\n",
    "Use 10% of the data to conduct a search over XGBoost parameters, then test "
   ]
  },
  {
   "cell_type": "code",
   "execution_count": 3,
   "metadata": {},
   "outputs": [
    {
     "name": "stdout",
     "output_type": "stream",
     "text": [
      "(47616, 57)\n",
      "Fitting 3 folds for each of 1 candidates, totalling 3 fits\n",
      "[CV] subsample=0.889730870102, learning_rate=0.173855720703, colsample_bytree=0.54851249975, max_depth=5, min_child_weight=0.322788105024 \n",
      "[CV] subsample=0.889730870102, learning_rate=0.173855720703, colsample_bytree=0.54851249975, max_depth=5, min_child_weight=0.322788105024 \n",
      "[CV] subsample=0.889730870102, learning_rate=0.173855720703, colsample_bytree=0.54851249975, max_depth=5, min_child_weight=0.322788105024 \n",
      "[CV]  subsample=0.889730870102, learning_rate=0.173855720703, colsample_bytree=0.54851249975, max_depth=5, min_child_weight=0.322788105024, total=   5.1s\n",
      "[CV]  subsample=0.889730870102, learning_rate=0.173855720703, colsample_bytree=0.54851249975, max_depth=5, min_child_weight=0.322788105024, total=   5.1s\n",
      "[CV]  subsample=0.889730870102, learning_rate=0.173855720703, colsample_bytree=0.54851249975, max_depth=5, min_child_weight=0.322788105024, total=   5.2s\n"
     ]
    },
    {
     "name": "stderr",
     "output_type": "stream",
     "text": [
      "[Parallel(n_jobs=-1)]: Done   3 out of   3 | elapsed:    5.7s finished\n"
     ]
    }
   ],
   "source": [
    "import scipy.stats\n",
    "\n",
    "m_search = X_train.shape[0]/10\n",
    "X_paramsearch = X_train[:m_search,:]; Y_paramsearch = y_train[:m_search]\n",
    "\n",
    "print(X_paramsearch.shape)\n",
    "\n",
    "param_distros = {'learning_rate': scipy.stats.uniform(loc=0.1,scale=0.1),\n",
    "                'min_child_weight': scipy.stats.uniform(loc=0.1,scale=0.9),\n",
    "                'max_depth': scipy.stats.binom(n=10, p=0.6), \n",
    "                #'gamma': scipy.stats.uniform(loc=0, scale=1),\n",
    "                'subsample': scipy.stats.uniform(loc=0.5,scale=0.5),\n",
    "                'colsample_bytree': scipy.stats.uniform(loc=0.5, scale=0.5)}\n",
    "xgb = XGBClassifier(silent=0)\n",
    "\n",
    "# 9.7s for one candidate\n",
    "cv_random = RandomizedSearchCV(xgb, n_iter=1, param_distributions=param_distros,\n",
    "                               scoring=util.gini_scorer, verbose=2, n_jobs=-1)\n",
    "\n",
    "cv_random.fit(X_paramsearch, Y_paramsearch)\n",
    "xgb_model = cv_random.best_estimator_"
   ]
  },
  {
   "cell_type": "code",
   "execution_count": null,
   "metadata": {},
   "outputs": [
    {
     "data": {
      "text/plain": [
       "XGBClassifier(base_score=0.5, colsample_bylevel=1,\n",
       "       colsample_bytree=0.5485124997498374, gamma=0,\n",
       "       learning_rate=0.17385572070311084, max_delta_step=0, max_depth=5,\n",
       "       min_child_weight=0.3227881050237511, missing=None, n_estimators=100,\n",
       "       nthread=-1, objective='binary:logistic', reg_alpha=0, reg_lambda=1,\n",
       "       scale_pos_weight=1, seed=0, silent=0, subsample=0.88973087010218777)"
      ]
     },
     "execution_count": 4,
     "metadata": {},
     "output_type": "execute_result"
    }
   ],
   "source": [
    "xgb_model"
   ]
  },
  {
   "cell_type": "code",
   "execution_count": null,
   "metadata": {},
   "outputs": [
    {
     "name": "stdout",
     "output_type": "stream",
     "text": [
      "Evaluating model on training set size 23808\n",
      "Evaluating model on training set size 47616\n",
      "Evaluating model on training set size 71425\n",
      "Evaluating model on training set size 95233\n",
      "Evaluating model on training set size 119042\n",
      "Evaluating model on training set size 142850\n",
      "Evaluating model on training set size 166659\n",
      "Evaluating model on training set size 190467\n",
      "Evaluating model on training set size 214276\n",
      "Evaluating model on training set size 238084\n",
      "Evaluating model on training set size 261892\n",
      "Evaluating model on training set size 285701\n",
      "Evaluating model on training set size 309509\n"
     ]
    }
   ],
   "source": [
    "traingini, testgini = util.learning_curves(xgb_model, X_train, X_test, y_train, y_test)"
   ]
  },
  {
   "cell_type": "code",
   "execution_count": null,
   "metadata": {
    "collapsed": true
   },
   "outputs": [],
   "source": []
  }
 ],
 "metadata": {
  "kernelspec": {
   "display_name": "Python 2",
   "language": "python",
   "name": "python2"
  },
  "language_info": {
   "codemirror_mode": {
    "name": "ipython",
    "version": 2
   },
   "file_extension": ".py",
   "mimetype": "text/x-python",
   "name": "python",
   "nbconvert_exporter": "python",
   "pygments_lexer": "ipython2",
   "version": "2.7.14"
  }
 },
 "nbformat": 4,
 "nbformat_minor": 2
}
