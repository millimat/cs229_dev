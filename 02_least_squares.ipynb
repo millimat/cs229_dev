{
 "cells": [
  {
   "cell_type": "code",
   "execution_count": 1,
   "metadata": {
    "collapsed": true
   },
   "outputs": [],
   "source": [
    "import numpy as np\n",
    "import util\n",
    "import pickle\n",
    "import matplotlib.pyplot as plt\n",
    "from sklearn.linear_model import Ridge, Lasso, ElasticNet\n",
    "from sklearn.model_selection import GridSearchCV, train_test_split"
   ]
  },
  {
   "cell_type": "code",
   "execution_count": 2,
   "metadata": {},
   "outputs": [],
   "source": [
    "seed=229\n",
    "np.random.seed(seed)\n",
    "\n",
    "trainfile = 'data/train.csv'\n",
    "header, ids, X, Y = util.fetch_data(trainfile, impute=True)\n",
    "\n",
    "test_size = 0.20\n",
    "X_train, X_test, y_train, y_test = train_test_split(X, Y, test_size=test_size, random_state=seed)"
   ]
  },
  {
   "cell_type": "markdown",
   "metadata": {},
   "source": [
    "# Ridge: Training\n",
    "Ridge linear regression uses an L2 regularization penalty."
   ]
  },
  {
   "cell_type": "code",
   "execution_count": null,
   "metadata": {
    "collapsed": true
   },
   "outputs": [],
   "source": [
    "alphalist = np.logspace(-5, 5, 100)\n",
    "ridge = Ridge()\n",
    "ridge_model = GridSearchCV(ridge, param_grid={'alpha': alphalist}, scoring=util.gini_scorer, n_jobs=-1)\n",
    "ridge_model.fit(X, Y)"
   ]
  },
  {
   "cell_type": "code",
   "execution_count": null,
   "metadata": {
    "collapsed": true
   },
   "outputs": [],
   "source": [
    "ridge_out = open('models/ridge.pickle', 'wb')\n",
    "pickle.dump(ridge_model.best_estimator_, ridge_out)\n",
    "ridge_out.close()"
   ]
  },
  {
   "cell_type": "markdown",
   "metadata": {},
   "source": [
    "# Ridge: Evaluation"
   ]
  },
  {
   "cell_type": "code",
   "execution_count": 3,
   "metadata": {},
   "outputs": [
    {
     "name": "stdout",
     "output_type": "stream",
     "text": [
      "Ridge(alpha=29.150530628251758, copy_X=True, fit_intercept=True,\n",
      "   max_iter=None, normalize=False, random_state=None, solver='auto',\n",
      "   tol=0.001)\n"
     ]
    }
   ],
   "source": [
    "ridge_model = pickle.load(open('models/ridge.pickle'))\n",
    "print(ridge_model)"
   ]
  },
  {
   "cell_type": "code",
   "execution_count": 4,
   "metadata": {},
   "outputs": [
    {
     "name": "stdout",
     "output_type": "stream",
     "text": [
      "Evaluating model on training set size 23808\n",
      "Evaluating model on training set size 47616\n",
      "Evaluating model on training set size 71425\n",
      "Evaluating model on training set size 95233\n",
      "Evaluating model on training set size 119042\n",
      "Evaluating model on training set size 142850\n",
      "Evaluating model on training set size 166659\n",
      "Evaluating model on training set size 190467\n",
      "Evaluating model on training set size 214276\n",
      "Evaluating model on training set size 238084\n",
      "Evaluating model on training set size 261892\n",
      "Evaluating model on training set size 285701\n",
      "Evaluating model on training set size 309509\n",
      "Evaluating model on training set size 333318\n",
      "Evaluating model on training set size 357126\n",
      "Evaluating model on training set size 380935\n",
      "Evaluating model on training set size 404743\n",
      "Evaluating model on training set size 428552\n",
      "Evaluating model on training set size 452360\n",
      "Evaluating model on training set size 476169\n",
      "[0.23243337256517974, 0.24957028911782086, 0.23517904796504532, 0.23400263259718052, 0.23916401983442701, 0.24179755933075098, 0.24053790162345048, 0.24241298466543962, 0.24197826277185661, 0.24093159867351555, 0.24185802260538311, 0.2423957129093168, 0.2427500474315343, 0.24397525913479878, 0.24421756692863258, 0.24263047139972119, 0.24493363409236632, 0.24801264450453267, 0.24695897888296742, 0.24624256656089061]\n",
      "\n",
      "[0.20441544112470608, 0.20686323998424166, 0.216598320320499, 0.22234512570491555, 0.2243095873793404, 0.22525917365370302, 0.22710940888827302, 0.22658822983926769, 0.22672984448068847, 0.22827193488619671, 0.22786382075900935, 0.22823154949466964, 0.22846027011412989, 0.22893072429240885, 0.22818848670563474, 0.22839700084860909, 0.22920709471281075, 0.2295786859881109, 0.22981413160013522, 0.2298168719952316]\n"
     ]
    }
   ],
   "source": [
    "trainsizes, traingini, testgini = util.learning_curves(ridge_model, X_train, X_test, y_train, y_test)\n",
    "print(traingini)\n",
    "print('')\n",
    "print(testgini)"
   ]
  },
  {
   "cell_type": "code",
   "execution_count": 5,
   "metadata": {
    "collapsed": true
   },
   "outputs": [],
   "source": [
    "plt.figure()\n",
    "plt.plot(trainsizes, traingini, label='train gini')\n",
    "plt.plot(trainsizes, testgini, label='test gini')\n",
    "plt.xlabel('Training set size')\n",
    "plt.ylabel('Normalized Gini coefficient')\n",
    "plt.title('Ridge regression')\n",
    "plt.legend()\n",
    "plt.savefig('figures/learning_curves/ridge.eps', format='eps', dpi=1000)"
   ]
  },
  {
   "cell_type": "code",
   "execution_count": 6,
   "metadata": {},
   "outputs": [
    {
     "data": {
      "image/png": "[encoded data removed]",
      "text/plain": [
       "<matplotlib.figure.Figure at 0x10a3deb10>"
      ]
     },
     "metadata": {},
     "output_type": "display_data"
    }
   ],
   "source": [
    "plt.show()"
   ]
  },
  {
   "cell_type": "markdown",
   "metadata": {},
   "source": [
    "# Ridge: Output"
   ]
  },
  {
   "cell_type": "code",
   "execution_count": null,
   "metadata": {
    "collapsed": true
   },
   "outputs": [],
   "source": [
    "ridge_model.fit(X, Y)\n",
    "print(util.gini_scorer(ridge_model, X, Y))"
   ]
  },
  {
   "cell_type": "code",
   "execution_count": null,
   "metadata": {
    "collapsed": true
   },
   "outputs": [],
   "source": [
    "util.make_prediction(ridge_model, 'data/test.csv', 'predictions/ridge.csv')"
   ]
  },
  {
   "cell_type": "markdown",
   "metadata": {},
   "source": [
    "# Lasso: Training\n",
    "Lasso regression uses an L1 regularization penalty."
   ]
  },
  {
   "cell_type": "code",
   "execution_count": null,
   "metadata": {
    "collapsed": true
   },
   "outputs": [],
   "source": [
    "alphalist = np.logspace(-5, 5, 100)\n",
    "lasso_model = Lasso()\n",
    "c_validator = GridSearchCV(lasso_model, param_grid={'alpha': alphalist}, scoring=util.gini_scorer, n_jobs=-1,\n",
    "                          verbose=2)\n",
    "c_validator.fit(X, Y)"
   ]
  },
  {
   "cell_type": "code",
   "execution_count": null,
   "metadata": {
    "collapsed": true
   },
   "outputs": [],
   "source": [
    "lasso_out = open('models/lasso.pickle', 'wb')\n",
    "pickle.dump(c_validator.best_estimator_, lasso_out)\n",
    "lasso_out.close()"
   ]
  },
  {
   "cell_type": "markdown",
   "metadata": {},
   "source": [
    "# Lasso: Evaluation"
   ]
  },
  {
   "cell_type": "code",
   "execution_count": 7,
   "metadata": {},
   "outputs": [
    {
     "name": "stdout",
     "output_type": "stream",
     "text": [
      "Lasso(alpha=1.0000000000000001e-05, copy_X=True, fit_intercept=True,\n",
      "   max_iter=1000, normalize=False, positive=False, precompute=False,\n",
      "   random_state=None, selection='cyclic', tol=0.0001, warm_start=False)\n"
     ]
    }
   ],
   "source": [
    "lasso_model = pickle.load(open('models/lasso.pickle'))\n",
    "print(lasso_model)"
   ]
  },
  {
   "cell_type": "code",
   "execution_count": 8,
   "metadata": {},
   "outputs": [
    {
     "name": "stdout",
     "output_type": "stream",
     "text": [
      "Evaluating model on training set size 23808\n",
      "Evaluating model on training set size 47616\n",
      "Evaluating model on training set size 71425\n",
      "Evaluating model on training set size 95233\n",
      "Evaluating model on training set size 119042\n",
      "Evaluating model on training set size 142850\n",
      "Evaluating model on training set size 166659\n",
      "Evaluating model on training set size 190467\n",
      "Evaluating model on training set size 214276\n",
      "Evaluating model on training set size 238084\n",
      "Evaluating model on training set size 261892\n",
      "Evaluating model on training set size 285701\n",
      "Evaluating model on training set size 309509\n",
      "Evaluating model on training set size 333318\n",
      "Evaluating model on training set size 357126\n",
      "Evaluating model on training set size 380935\n",
      "Evaluating model on training set size 404743\n",
      "Evaluating model on training set size 428552\n",
      "Evaluating model on training set size 452360\n",
      "Evaluating model on training set size 476169\n",
      "[0.23288149875951325, 0.24982417759591705, 0.23519090286343239, 0.23387023958816974, 0.23904035475674035, 0.24170773573475735, 0.24047680263460253, 0.2423338052868656, 0.24180674911234479, 0.24081471119755968, 0.24169029171893749, 0.24224676710429113, 0.24257086539929212, 0.24383167372683529, 0.24408886856402151, 0.24247416994813398, 0.24479754504478035, 0.24786689061813796, 0.24679899839738506, 0.24605720220980859]\n",
      "\n",
      "[0.20438834822433577, 0.20673307909186578, 0.21701190342583077, 0.22237649062925044, 0.22451620371996356, 0.22539783528316634, 0.22728232545644042, 0.22676233942426566, 0.22683384168712326, 0.22839305956198341, 0.22793187784125027, 0.22815587757892825, 0.22835535156796438, 0.22881878938983266, 0.22810189652035023, 0.2282578509878353, 0.22903734377346169, 0.22940246598390091, 0.22957814657126016, 0.22965020793771504]\n"
     ]
    }
   ],
   "source": [
    "trainsizes, traingini, testgini = util.learning_curves(lasso_model, X_train, X_test, y_train, y_test)\n",
    "print(traingini)\n",
    "print('')\n",
    "print(testgini)"
   ]
  },
  {
   "cell_type": "code",
   "execution_count": 9,
   "metadata": {
    "collapsed": true
   },
   "outputs": [],
   "source": [
    "plt.figure()\n",
    "plt.plot(trainsizes, traingini, label='train gini')\n",
    "plt.plot(trainsizes, testgini, label='test gini')\n",
    "plt.xlabel('Training set size')\n",
    "plt.ylabel('Normalized Gini coefficient')\n",
    "plt.title('Lasso regression')\n",
    "plt.legend()\n",
    "plt.savefig('figures/learning_curves/lasso.eps', format='eps', dpi=1000)"
   ]
  },
  {
   "cell_type": "code",
   "execution_count": 10,
   "metadata": {},
   "outputs": [
    {
     "data": {
      "image/png": "[encoded data removed]",
      "text/plain": [
       "<matplotlib.figure.Figure at 0x10a3de950>"
      ]
     },
     "metadata": {},
     "output_type": "display_data"
    }
   ],
   "source": [
    "plt.show()"
   ]
  },
  {
   "cell_type": "markdown",
   "metadata": {},
   "source": [
    "# Lasso: Output"
   ]
  },
  {
   "cell_type": "code",
   "execution_count": null,
   "metadata": {
    "collapsed": true
   },
   "outputs": [],
   "source": [
    "lasso_model.fit(X, Y)\n",
    "print(util.gini_scorer(lasso_model, X, Y))"
   ]
  },
  {
   "cell_type": "code",
   "execution_count": null,
   "metadata": {
    "collapsed": true
   },
   "outputs": [],
   "source": [
    "util.make_prediction(lasso_model, 'data/test.csv', 'predictions/lasso.csv')"
   ]
  },
  {
   "cell_type": "markdown",
   "metadata": {},
   "source": [
    "# Elastic Net: Training\n",
    "Elastic net regression uses both an L2- and an L1-norm penalty."
   ]
  },
  {
   "cell_type": "code",
   "execution_count": null,
   "metadata": {
    "collapsed": true,
    "scrolled": true
   },
   "outputs": [],
   "source": [
    "params={'l1_ratio': [.1, .5, .7, .9, .95, .99, 1], # L1 penalty strength as a fraction of L2 penalty strength\n",
    "        'alpha': np.logspace(-5, 5, 20),\n",
    "       }\n",
    "\n",
    "enet = ElasticNet()\n",
    "c_validator = GridSearchCV(enet, param_grid=params, scoring=util.gini_scorer, n_jobs=-1, verbose=2)\n",
    "c_validator.fit(X, Y)"
   ]
  },
  {
   "cell_type": "code",
   "execution_count": null,
   "metadata": {
    "collapsed": true
   },
   "outputs": [],
   "source": [
    "enet_out = open('models/elastic_net.pickle', 'wb')\n",
    "pickle.dump(c_validator.best_estimator_, enet_out)\n",
    "enet_out.close()"
   ]
  },
  {
   "cell_type": "markdown",
   "metadata": {},
   "source": [
    "# Elastic Net: Evaluation"
   ]
  },
  {
   "cell_type": "code",
   "execution_count": 11,
   "metadata": {},
   "outputs": [
    {
     "name": "stdout",
     "output_type": "stream",
     "text": [
      "ElasticNet(alpha=1.0000000000000001e-05, copy_X=True, fit_intercept=True,\n",
      "      l1_ratio=0.7, max_iter=1000, normalize=False, positive=False,\n",
      "      precompute=False, random_state=None, selection='cyclic', tol=0.0001,\n",
      "      warm_start=False)\n"
     ]
    }
   ],
   "source": [
    "enet_model = pickle.load(open('models/elastic_net.pickle'))\n",
    "print(enet_model)"
   ]
  },
  {
   "cell_type": "code",
   "execution_count": 12,
   "metadata": {},
   "outputs": [
    {
     "name": "stdout",
     "output_type": "stream",
     "text": [
      "Evaluating model on training set size 23808\n",
      "Evaluating model on training set size 47616\n",
      "Evaluating model on training set size 71425\n",
      "Evaluating model on training set size 95233\n",
      "Evaluating model on training set size 119042\n",
      "Evaluating model on training set size 142850\n",
      "Evaluating model on training set size 166659\n",
      "Evaluating model on training set size 190467\n",
      "Evaluating model on training set size 214276\n",
      "Evaluating model on training set size 238084\n",
      "Evaluating model on training set size 261892\n",
      "Evaluating model on training set size 285701\n",
      "Evaluating model on training set size 309509\n",
      "Evaluating model on training set size 333318\n",
      "Evaluating model on training set size 357126\n",
      "Evaluating model on training set size 380935\n",
      "Evaluating model on training set size 404743\n",
      "Evaluating model on training set size 428552\n",
      "Evaluating model on training set size 452360\n",
      "Evaluating model on training set size 476169\n",
      "[0.232918842609041, 0.24976309919379602, 0.23522977590232988, 0.23398721516585186, 0.23915127413601464, 0.24180067611352266, 0.24054595704004508, 0.24242138656143611, 0.2419036212329975, 0.24090850561255178, 0.24178441891033917, 0.2423388818303909, 0.242685111886072, 0.24394002786060826, 0.24416557318710494, 0.24255778085954766, 0.24486877081552813, 0.24793753899882007, 0.24687152690762446, 0.24613676288093594]\n",
      "\n",
      "[0.20445016067062438, 0.20668335824520465, 0.21704869008011934, 0.22254669436376651, 0.22462047260349849, 0.22549246159832381, 0.22736280093829866, 0.22683366056905668, 0.22692528662406539, 0.22843167708368536, 0.22799876159340685, 0.22827350982590722, 0.22847176717401679, 0.22893469707782854, 0.2281791551878499, 0.22834752805495229, 0.22915680295050456, 0.22951862566225043, 0.22969542445680399, 0.22976263894629972]\n"
     ]
    }
   ],
   "source": [
    "trainsizes, traingini, testgini = util.learning_curves(enet_model, X_train, X_test, y_train, y_test)\n",
    "print(traingini)\n",
    "print('')\n",
    "print(testgini)"
   ]
  },
  {
   "cell_type": "code",
   "execution_count": 13,
   "metadata": {
    "collapsed": true
   },
   "outputs": [],
   "source": [
    "plt.figure()\n",
    "plt.plot(trainsizes, traingini, label='train gini')\n",
    "plt.plot(trainsizes, testgini, label='test gini')\n",
    "plt.xlabel('Training set size')\n",
    "plt.ylabel('Normalized Gini coefficient')\n",
    "plt.title('Elastic net regression')\n",
    "plt.legend()\n",
    "plt.savefig('figures/learning_curves/enet.eps', format='eps', dpi=1000)"
   ]
  },
  {
   "cell_type": "code",
   "execution_count": 14,
   "metadata": {},
   "outputs": [
    {
     "data": {
      "image/png": "[encoded data removed]",
      "text/plain": [
       "<matplotlib.figure.Figure at 0x1a1894c4d0>"
      ]
     },
     "metadata": {},
     "output_type": "display_data"
    }
   ],
   "source": [
    "plt.show()"
   ]
  },
  {
   "cell_type": "markdown",
   "metadata": {},
   "source": [
    "# Elastic Net: Output"
   ]
  },
  {
   "cell_type": "code",
   "execution_count": null,
   "metadata": {
    "collapsed": true
   },
   "outputs": [],
   "source": [
    "enet_model.fit(X, Y)\n",
    "print(util.gini_scorer(enet_model, X, Y))"
   ]
  },
  {
   "cell_type": "code",
   "execution_count": null,
   "metadata": {
    "collapsed": true
   },
   "outputs": [],
   "source": [
    "util.make_prediction(enet_model, 'data/test.csv', 'predictions/enet.csv')"
   ]
  }
 ],
 "metadata": {
  "kernelspec": {
   "display_name": "Python 2",
   "language": "python",
   "name": "python2"
  },
  "language_info": {
   "codemirror_mode": {
    "name": "ipython",
    "version": 2
   },
   "file_extension": ".py",
   "mimetype": "text/x-python",
   "name": "python",
   "nbconvert_exporter": "python",
   "pygments_lexer": "ipython2",
   "version": "2.7.14"
  }
 },
 "nbformat": 4,
 "nbformat_minor": 2
}
