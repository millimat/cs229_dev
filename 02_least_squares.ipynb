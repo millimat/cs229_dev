{
 "cells": [
  {
   "cell_type": "code",
   "execution_count": 1,
   "metadata": {
    "collapsed": true
   },
   "outputs": [],
   "source": [
    "import numpy as np\n",
    "import util\n",
    "from sklearn.linear_model import RidgeCV, Lasso\n",
    "from sklearn.model_selection import GridSearchCV"
   ]
  },
  {
   "cell_type": "code",
   "execution_count": 2,
   "metadata": {
    "collapsed": true
   },
   "outputs": [],
   "source": [
    "seed=229\n",
    "np.random.seed(seed)\n",
    "\n",
    "trainfile = 'data/train.csv'\n",
    "header, ids, X, Y = util.fetch_data(trainfile)\n",
    "\n",
    "test_size = 0.20\n",
    "X_train, X_test, y_train, y_test = train_test_split(X, Y, test_size=test_size, random_state=seed)"
   ]
  },
  {
   "cell_type": "code",
   "execution_count": 3,
   "metadata": {},
   "outputs": [
    {
     "data": {
      "text/plain": [
       "RidgeCV(alphas=array([  1.00000e-05,   1.26186e-05, ...,   7.92483e+04,   1.00000e+05]),\n",
       "    cv=None, fit_intercept=True, gcv_mode=None, normalize=False,\n",
       "    scoring=make_scorer(gini_normalized), store_cv_values=False)"
      ]
     },
     "execution_count": 3,
     "metadata": {},
     "output_type": "execute_result"
    }
   ],
   "source": [
    "alphalist = np.logspace(-5, 5, 100)\n",
    "ridge_model = RidgeCV(alphas=alphalist, scoring=util.gini_scorer)\n",
    "ridge_model.fit(X, Y)"
   ]
  },
  {
   "cell_type": "code",
   "execution_count": 4,
   "metadata": {},
   "outputs": [
    {
     "name": "stdout",
     "output_type": "stream",
     "text": [
      "[  4.94467525e-04   1.32903036e-03   5.05318920e-04   1.54752030e-03\n",
      "   4.35854634e-03  -3.94012140e-03   4.46311262e-03   3.51920347e-03\n",
      "  -4.04219469e-03  -1.58333271e-03  -1.54212586e-03   1.89216272e-03\n",
      "   2.20125880e-05  -1.21128326e-03  -1.06391959e-03  -3.14557912e-03\n",
      "   1.31744145e-02  -2.53288642e-03   3.50806095e-03   5.45158136e-03\n",
      "   3.34271409e-03   7.49940538e-05  -1.77821267e-03   3.15387565e-03\n",
      "  -8.88202284e-05   4.91197519e-04  -7.48065660e-05  -1.27067267e-02\n",
      "  -6.63357910e-04   7.04893054e-04  -1.54894388e-03  -5.89083720e-07\n",
      "  -1.72006691e-03   1.66677533e-02   1.98575730e-02  -9.22249440e-05\n",
      "   1.98570033e-03   1.10101091e-03   7.78440927e-04   1.20563284e-03\n",
      "  -1.02701133e-05   1.47420814e-04   7.30053587e-07  -3.20703206e-06\n",
      "  -1.25268100e-04   8.66145800e-05   6.27537785e-05   4.12908751e-05\n",
      "  -1.72541428e-04  -4.95963521e-05   9.03281277e-05  -2.66271750e-04\n",
      "   2.15601914e-04  -5.25731293e-05   2.11960133e-04  -6.25325058e-04\n",
      "  -5.66746227e-04]\n",
      "0.0216552191766\n",
      "756.463327555\n"
     ]
    }
   ],
   "source": []
  },
  {
   "cell_type": "code",
   "execution_count": 5,
   "metadata": {},
   "outputs": [
    {
     "name": "stdout",
     "output_type": "stream",
     "text": [
      "0.249642911518\n"
     ]
    }
   ],
   "source": [
    "print(util.gini_scorer(ridge_model, X, Y))"
   ]
  },
  {
   "cell_type": "code",
   "execution_count": null,
   "metadata": {
    "collapsed": true
   },
   "outputs": [],
   "source": [
    "lasso_model = Lasso(n_jobs=-1)\n",
    "c_validator = GridSearchCV(lasso_model, param_grid={'alpha': alphalist},\n",
    "                          scoring=util.gini_scorer)\n",
    "c_validator.fit(X, Y)"
   ]
  },
  {
   "cell_type": "code",
   "execution_count": null,
   "metadata": {
    "collapsed": true
   },
   "outputs": [],
   "source": [
    "c_validator.best_params_\n",
    "\n",
    "# print(lasso_model.coef_)\n",
    "# print(lasso_model.intercept_)\n",
    "# print(lasso_model.alpha_)"
   ]
  },
  {
   "cell_type": "code",
   "execution_count": 8,
   "metadata": {},
   "outputs": [
    {
     "name": "stdout",
     "output_type": "stream",
     "text": [
      "0.249442513339\n"
     ]
    }
   ],
   "source": [
    "print(util.gini_scorer(c_validator, X, Y))"
   ]
  },
  {
   "cell_type": "code",
   "execution_count": 9,
   "metadata": {
    "collapsed": true
   },
   "outputs": [],
   "source": [
    "util.make_prediction(ridge_model, 'data/test.csv', 'predictions/ridge.csv')"
   ]
  },
  {
   "cell_type": "code",
   "execution_count": 10,
   "metadata": {
    "collapsed": true
   },
   "outputs": [],
   "source": [
    "util.make_prediction(c_validator, 'data/test.csv', 'predictions/lasso.csv')"
   ]
  }
 ],
 "metadata": {
  "kernelspec": {
   "display_name": "Python 2",
   "language": "python",
   "name": "python2"
  },
  "language_info": {
   "codemirror_mode": {
    "name": "ipython",
    "version": 2
   },
   "file_extension": ".py",
   "mimetype": "text/x-python",
   "name": "python",
   "nbconvert_exporter": "python",
   "pygments_lexer": "ipython2",
   "version": "2.7.14"
  }
 },
 "nbformat": 4,
 "nbformat_minor": 2
}
