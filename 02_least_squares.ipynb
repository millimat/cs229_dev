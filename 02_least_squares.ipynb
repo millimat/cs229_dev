{
 "cells": [
  {
   "cell_type": "code",
   "execution_count": 1,
   "metadata": {
    "collapsed": true
   },
   "outputs": [],
   "source": [
    "import numpy as np\n",
    "import util\n",
    "import pickle\n",
    "import matplotlib.pyplot as plt\n",
    "from sklearn.linear_model import Ridge, Lasso, ElasticNet\n",
    "from sklearn.model_selection import GridSearchCV, train_test_split"
   ]
  },
  {
   "cell_type": "code",
   "execution_count": null,
   "metadata": {
    "collapsed": true
   },
   "outputs": [],
   "source": [
    "seed=229\n",
    "np.random.seed(seed)\n",
    "\n",
    "trainfile = 'data/train.csv'\n",
    "header, ids, X, Y = util.fetch_data(trainfile)\n",
    "\n",
    "test_size = 0.20\n",
    "X_train, X_test, y_train, y_test = train_test_split(X, Y, test_size=test_size, random_state=seed)"
   ]
  },
  {
   "cell_type": "markdown",
   "metadata": {},
   "source": [
    "# Ridge: Training\n",
    "Ridge linear regression uses an L2 regularization penalty."
   ]
  },
  {
   "cell_type": "code",
   "execution_count": null,
   "metadata": {
    "collapsed": true
   },
   "outputs": [],
   "source": [
    "alphalist = np.logspace(-5, 5, 100)\n",
    "ridge = Ridge(n_jobs=-1)\n",
    "ridge_model = GridSearchCV(ridge, params={'alphas': alphalist}, scoring=util.gini_scorer, n_jobs=-1)\n",
    "ridge_model.fit(X, Y)"
   ]
  },
  {
   "cell_type": "code",
   "execution_count": null,
   "metadata": {
    "collapsed": true
   },
   "outputs": [],
   "source": [
    "ridge_out = open('models/ridge.pickle', 'wb')\n",
    "pickle.dump(ridge_model.best_estimator_, ridge_out)\n",
    "ridge_out.close()"
   ]
  },
  {
   "cell_type": "markdown",
   "metadata": {},
   "source": [
    "# Ridge: Evaluation"
   ]
  },
  {
   "cell_type": "code",
   "execution_count": null,
   "metadata": {
    "collapsed": true
   },
   "outputs": [],
   "source": [
    "ridge_model = pickle.load(open('models/ridge.pickle'))"
   ]
  },
  {
   "cell_type": "code",
   "execution_count": null,
   "metadata": {
    "collapsed": true
   },
   "outputs": [],
   "source": [
    "trainsizes, traingini, testgini = util.learning_curves(ridge_model, X_train, X_test, y_train, y_test)\n",
    "print(traingini)\n",
    "print('')\n",
    "print(testgini)"
   ]
  },
  {
   "cell_type": "code",
   "execution_count": null,
   "metadata": {
    "collapsed": true
   },
   "outputs": [],
   "source": [
    "plt.figure()\n",
    "plt.plot(trainsizes, traingini, label='train gini')\n",
    "plt.plot(trainsizes, testgini, label='test gini')\n",
    "plt.xlabel('Training set size')\n",
    "plt.ylabel('Normalized Gini coefficient')\n",
    "plt.title('Ridge regression')\n",
    "plt.legend()\n",
    "plt.savefig('figures/learning_curves/ridge.eps', format='eps', dpi=1000)"
   ]
  },
  {
   "cell_type": "code",
   "execution_count": null,
   "metadata": {
    "collapsed": true
   },
   "outputs": [],
   "source": [
    "plt.show()"
   ]
  },
  {
   "cell_type": "markdown",
   "metadata": {},
   "source": [
    "# Ridge: Output"
   ]
  },
  {
   "cell_type": "code",
   "execution_count": null,
   "metadata": {
    "collapsed": true
   },
   "outputs": [],
   "source": [
    "ridge_model.fit(X, Y)\n",
    "print(util.gini_scorer(ridge_model, X, Y))"
   ]
  },
  {
   "cell_type": "code",
   "execution_count": null,
   "metadata": {
    "collapsed": true
   },
   "outputs": [],
   "source": [
    "util.make_prediction(ridge_model, 'data/test.csv', 'predictions/ridge.csv')"
   ]
  },
  {
   "cell_type": "raw",
   "metadata": {},
   "source": [
    "print(ridge_model)"
   ]
  },
  {
   "cell_type": "markdown",
   "metadata": {},
   "source": [
    "# Lasso: Training\n",
    "Lasso regression uses an L1 regularization penalty."
   ]
  },
  {
   "cell_type": "code",
   "execution_count": null,
   "metadata": {
    "collapsed": true
   },
   "outputs": [],
   "source": [
    "lasso_model = Lasso(n_jobs=-1)\n",
    "c_validator = GridSearchCV(lasso_model, param_grid={'alpha': alphalist}, scoring=util.gini_scorer, n_jobs=-1)\n",
    "c_validator.fit(X, Y)"
   ]
  },
  {
   "cell_type": "code",
   "execution_count": null,
   "metadata": {
    "collapsed": true
   },
   "outputs": [],
   "source": [
    "lasso_out = open('models/lasso.pickle', 'wb')\n",
    "pickle.dump(c_validator.best_estimator_, lasso_out)\n",
    "lasso_out.close()"
   ]
  },
  {
   "cell_type": "markdown",
   "metadata": {},
   "source": [
    "# Lasso: Evaluation"
   ]
  },
  {
   "cell_type": "code",
   "execution_count": null,
   "metadata": {
    "collapsed": true
   },
   "outputs": [],
   "source": [
    "lasso_model = pickle.load(open('models/lasso.pickle'))"
   ]
  },
  {
   "cell_type": "code",
   "execution_count": null,
   "metadata": {
    "collapsed": true
   },
   "outputs": [],
   "source": [
    "trainsizes, traingini, testgini = util.learning_curves(lasso_model, X_train, X_test, y_train, y_test)\n",
    "print(traingini)\n",
    "print('')\n",
    "print(testgini)"
   ]
  },
  {
   "cell_type": "code",
   "execution_count": null,
   "metadata": {
    "collapsed": true
   },
   "outputs": [],
   "source": [
    "plt.figure()\n",
    "plt.plot(trainsizes, traingini, label='train gini')\n",
    "plt.plot(trainsizes, testgini, label='test gini')\n",
    "plt.xlabel('Training set size')\n",
    "plt.ylabel('Normalized Gini coefficient')\n",
    "plt.title('Lasso regression')\n",
    "plt.legend()\n",
    "plt.savefig('figures/learning_curves/lasso.eps', format='eps', dpi=1000)"
   ]
  },
  {
   "cell_type": "code",
   "execution_count": null,
   "metadata": {
    "collapsed": true
   },
   "outputs": [],
   "source": [
    "plt.show()"
   ]
  },
  {
   "cell_type": "markdown",
   "metadata": {},
   "source": [
    "# Lasso: Output"
   ]
  },
  {
   "cell_type": "code",
   "execution_count": null,
   "metadata": {
    "collapsed": true
   },
   "outputs": [],
   "source": [
    "lasso_model.fit(X, Y)\n",
    "print(util.gini_scorer(lasso_model, X, Y))"
   ]
  },
  {
   "cell_type": "code",
   "execution_count": null,
   "metadata": {
    "collapsed": true
   },
   "outputs": [],
   "source": [
    "util.make_prediction(lasso_model, 'data/test.csv', 'predictions/lasso.csv')"
   ]
  },
  {
   "cell_type": "markdown",
   "metadata": {},
   "source": [
    "# Elastic Net: Training\n",
    "Elastic net regression uses both an L2- and an L1-norm penalty."
   ]
  },
  {
   "cell_type": "code",
   "execution_count": null,
   "metadata": {
    "scrolled": true
   },
   "outputs": [
    {
     "name": "stdout",
     "output_type": "stream",
     "text": [
      "Fitting 3 folds for each of 160 candidates, totalling 480 fits\n",
      "[CV] alpha=1e-05, l1_ratio=0 .........................................\n",
      "[CV] alpha=1e-05, l1_ratio=0 .........................................\n",
      "[CV] alpha=1e-05, l1_ratio=0 .........................................\n",
      "[CV] alpha=1e-05, l1_ratio=0.1 .......................................\n",
      "[CV] ........................ alpha=1e-05, l1_ratio=0.1, total=  39.6s\n",
      "[CV] alpha=1e-05, l1_ratio=0.1 .......................................\n",
      "[CV] ........................ alpha=1e-05, l1_ratio=0.1, total=  55.9s\n",
      "[CV] alpha=1e-05, l1_ratio=0.1 .......................................\n",
      "[CV] ........................ alpha=1e-05, l1_ratio=0.1, total=  41.7s\n",
      "[CV] alpha=1e-05, l1_ratio=0.5 .......................................\n",
      "[CV] ........................ alpha=1e-05, l1_ratio=0.5, total=  32.1s\n",
      "[CV] alpha=1e-05, l1_ratio=0.5 .......................................\n",
      "[CV] ........................ alpha=1e-05, l1_ratio=0.5, total=  37.3s\n",
      "[CV] alpha=1e-05, l1_ratio=0.5 .......................................\n",
      "[CV] ........................ alpha=1e-05, l1_ratio=0.5, total=  45.0s\n",
      "[CV] alpha=1e-05, l1_ratio=0.7 .......................................\n",
      "[CV] ........................ alpha=1e-05, l1_ratio=0.7, total=  27.8s\n",
      "[CV] alpha=1e-05, l1_ratio=0.7 .......................................\n",
      "[CV] ........................ alpha=1e-05, l1_ratio=0.7, total=  28.7s\n",
      "[CV] alpha=1e-05, l1_ratio=0.7 .......................................\n",
      "[CV] ........................ alpha=1e-05, l1_ratio=0.7, total=  33.5s\n",
      "[CV] alpha=1e-05, l1_ratio=0.9 .......................................\n",
      "[CV] ........................ alpha=1e-05, l1_ratio=0.9, total=  24.5s\n",
      "[CV] alpha=1e-05, l1_ratio=0.9 .......................................\n",
      "[CV] ........................ alpha=1e-05, l1_ratio=0.9, total=  21.9s\n",
      "[CV] alpha=1e-05, l1_ratio=0.9 .......................................\n",
      "[CV] ........................ alpha=1e-05, l1_ratio=0.9, total=  17.9s\n",
      "[CV] alpha=1e-05, l1_ratio=0.95 ......................................\n",
      "[CV] ....................... alpha=1e-05, l1_ratio=0.95, total=  17.2s\n",
      "[CV] alpha=1e-05, l1_ratio=0.95 ......................................\n",
      "[CV] ....................... alpha=1e-05, l1_ratio=0.95, total=  16.9s\n",
      "[CV] alpha=1e-05, l1_ratio=0.95 ......................................\n",
      "[CV] ....................... alpha=1e-05, l1_ratio=0.95, total=  16.1s\n",
      "[CV] alpha=1e-05, l1_ratio=0.99 ......................................\n",
      "[CV] ....................... alpha=1e-05, l1_ratio=0.99, total=  17.2s\n",
      "[CV] alpha=1e-05, l1_ratio=0.99 ......................................\n",
      "[CV] ....................... alpha=1e-05, l1_ratio=0.99, total=  20.5s\n",
      "[CV] alpha=1e-05, l1_ratio=0.99 ......................................\n",
      "[CV] ....................... alpha=1e-05, l1_ratio=0.99, total=  21.8s\n",
      "[CV] alpha=1e-05, l1_ratio=1 .........................................\n",
      "[CV] .......................... alpha=1e-05, l1_ratio=1, total=  22.8s\n",
      "[CV] alpha=1e-05, l1_ratio=1 .........................................\n",
      "[CV] .......................... alpha=1e-05, l1_ratio=1, total=  21.6s\n",
      "[CV] alpha=1e-05, l1_ratio=1 .........................................\n",
      "[CV] .......................... alpha=1e-05, l1_ratio=1, total=  23.4s\n",
      "[CV] alpha=3.35981828628e-05, l1_ratio=0 .............................\n"
     ]
    },
    {
     "name": "stderr",
     "output_type": "stream",
     "text": [
      "/Users/Matthew/anaconda2/lib/python2.7/site-packages/sklearn/linear_model/coordinate_descent.py:491: ConvergenceWarning: Objective did not converge. You might want to increase the number of iterations. Fitting data with very small alpha may cause precision problems.\n",
      "  ConvergenceWarning)\n",
      "/Users/Matthew/anaconda2/lib/python2.7/site-packages/sklearn/linear_model/coordinate_descent.py:491: ConvergenceWarning: Objective did not converge. You might want to increase the number of iterations. Fitting data with very small alpha may cause precision problems.\n",
      "  ConvergenceWarning)\n"
     ]
    },
    {
     "name": "stdout",
     "output_type": "stream",
     "text": [
      "[CV] .......................... alpha=1e-05, l1_ratio=0, total=11.0min\n",
      "[CV] .......................... alpha=1e-05, l1_ratio=0, total=11.0min\n",
      "[CV] alpha=3.35981828628e-05, l1_ratio=0 .............................\n",
      "[CV] alpha=3.35981828628e-05, l1_ratio=0 .............................\n"
     ]
    },
    {
     "name": "stderr",
     "output_type": "stream",
     "text": [
      "/Users/Matthew/anaconda2/lib/python2.7/site-packages/sklearn/linear_model/coordinate_descent.py:491: ConvergenceWarning: Objective did not converge. You might want to increase the number of iterations. Fitting data with very small alpha may cause precision problems.\n",
      "  ConvergenceWarning)\n"
     ]
    },
    {
     "name": "stdout",
     "output_type": "stream",
     "text": [
      "[CV] .......................... alpha=1e-05, l1_ratio=0, total=11.8min\n",
      "[CV] alpha=3.35981828628e-05, l1_ratio=0.1 ...........................\n",
      "[CV] ............ alpha=3.35981828628e-05, l1_ratio=0.1, total=  16.6s\n",
      "[CV] alpha=3.35981828628e-05, l1_ratio=0.1 ...........................\n",
      "[CV] ............ alpha=3.35981828628e-05, l1_ratio=0.1, total=  28.8s\n",
      "[CV] alpha=3.35981828628e-05, l1_ratio=0.1 ...........................\n",
      "[CV] ............ alpha=3.35981828628e-05, l1_ratio=0.1, total=  22.8s\n",
      "[CV] alpha=3.35981828628e-05, l1_ratio=0.5 ...........................\n",
      "[CV] ............ alpha=3.35981828628e-05, l1_ratio=0.5, total=  19.3s\n",
      "[CV] alpha=3.35981828628e-05, l1_ratio=0.5 ...........................\n",
      "[CV] ............ alpha=3.35981828628e-05, l1_ratio=0.5, total=  23.9s\n",
      "[CV] alpha=3.35981828628e-05, l1_ratio=0.5 ...........................\n",
      "[CV] ............ alpha=3.35981828628e-05, l1_ratio=0.5, total=  25.4s\n",
      "[CV] alpha=3.35981828628e-05, l1_ratio=0.7 ...........................\n",
      "[CV] ............ alpha=3.35981828628e-05, l1_ratio=0.7, total=  28.3s\n",
      "[CV] alpha=3.35981828628e-05, l1_ratio=0.7 ...........................\n",
      "[CV] ............ alpha=3.35981828628e-05, l1_ratio=0.7, total=  25.2s\n",
      "[CV] alpha=3.35981828628e-05, l1_ratio=0.7 ...........................\n",
      "[CV] ............ alpha=3.35981828628e-05, l1_ratio=0.7, total=  25.0s\n"
     ]
    },
    {
     "name": "stderr",
     "output_type": "stream",
     "text": [
      "[Parallel(n_jobs=-1)]: Done  33 tasks      | elapsed: 15.6min\n"
     ]
    },
    {
     "name": "stdout",
     "output_type": "stream",
     "text": [
      "[CV] alpha=3.35981828628e-05, l1_ratio=0.9 ...........................\n",
      "[CV] ............ alpha=3.35981828628e-05, l1_ratio=0.9, total=  16.1s\n",
      "[CV] alpha=3.35981828628e-05, l1_ratio=0.9 ...........................\n",
      "[CV] ............ alpha=3.35981828628e-05, l1_ratio=0.9, total=  14.8s\n",
      "[CV] alpha=3.35981828628e-05, l1_ratio=0.9 ...........................\n",
      "[CV] ............ alpha=3.35981828628e-05, l1_ratio=0.9, total=  14.5s\n",
      "[CV] alpha=3.35981828628e-05, l1_ratio=0.95 ..........................\n",
      "[CV] ........... alpha=3.35981828628e-05, l1_ratio=0.95, total=  14.6s\n",
      "[CV] alpha=3.35981828628e-05, l1_ratio=0.95 ..........................\n",
      "[CV] ........... alpha=3.35981828628e-05, l1_ratio=0.95, total=  14.8s\n",
      "[CV] alpha=3.35981828628e-05, l1_ratio=0.95 ..........................\n",
      "[CV] ........... alpha=3.35981828628e-05, l1_ratio=0.95, total=  14.3s\n",
      "[CV] alpha=3.35981828628e-05, l1_ratio=0.99 ..........................\n",
      "[CV] ........... alpha=3.35981828628e-05, l1_ratio=0.99, total=  14.7s\n",
      "[CV] alpha=3.35981828628e-05, l1_ratio=0.99 ..........................\n",
      "[CV] ........... alpha=3.35981828628e-05, l1_ratio=0.99, total=  14.7s\n",
      "[CV] alpha=3.35981828628e-05, l1_ratio=0.99 ..........................\n",
      "[CV] ........... alpha=3.35981828628e-05, l1_ratio=0.99, total=  14.3s\n",
      "[CV] alpha=3.35981828628e-05, l1_ratio=1 .............................\n",
      "[CV] .............. alpha=3.35981828628e-05, l1_ratio=1, total=  14.5s\n",
      "[CV] alpha=3.35981828628e-05, l1_ratio=1 .............................\n",
      "[CV] .............. alpha=3.35981828628e-05, l1_ratio=1, total=  14.5s\n",
      "[CV] alpha=3.35981828628e-05, l1_ratio=1 .............................\n",
      "[CV] .............. alpha=3.35981828628e-05, l1_ratio=1, total=  14.1s\n",
      "[CV] alpha=0.000112883789168, l1_ratio=0 .............................\n"
     ]
    },
    {
     "name": "stderr",
     "output_type": "stream",
     "text": [
      "/Users/Matthew/anaconda2/lib/python2.7/site-packages/sklearn/linear_model/coordinate_descent.py:491: ConvergenceWarning: Objective did not converge. You might want to increase the number of iterations. Fitting data with very small alpha may cause precision problems.\n",
      "  ConvergenceWarning)\n"
     ]
    },
    {
     "name": "stdout",
     "output_type": "stream",
     "text": [
      "[CV] .............. alpha=3.35981828628e-05, l1_ratio=0, total= 8.4min\n",
      "[CV] alpha=0.000112883789168, l1_ratio=0 .............................\n",
      "[CV] .............. alpha=3.35981828628e-05, l1_ratio=0, total= 7.9min\n",
      "[CV] alpha=0.000112883789168, l1_ratio=0 .............................\n",
      "[CV] .............. alpha=3.35981828628e-05, l1_ratio=0, total= 7.9min\n",
      "[CV] alpha=0.000112883789168, l1_ratio=0.1 ...........................\n",
      "[CV] ............ alpha=0.000112883789168, l1_ratio=0.1, total=  14.4s\n",
      "[CV] alpha=0.000112883789168, l1_ratio=0.1 ...........................\n",
      "[CV] ............ alpha=0.000112883789168, l1_ratio=0.1, total=  15.1s\n",
      "[CV] alpha=0.000112883789168, l1_ratio=0.1 ...........................\n",
      "[CV] ............ alpha=0.000112883789168, l1_ratio=0.1, total=  14.3s\n",
      "[CV] alpha=0.000112883789168, l1_ratio=0.5 ...........................\n",
      "[CV] ............ alpha=0.000112883789168, l1_ratio=0.5, total=  12.1s\n",
      "[CV] alpha=0.000112883789168, l1_ratio=0.5 ...........................\n",
      "[CV] ............ alpha=0.000112883789168, l1_ratio=0.5, total=  11.6s\n",
      "[CV] alpha=0.000112883789168, l1_ratio=0.5 ...........................\n",
      "[CV] ............ alpha=0.000112883789168, l1_ratio=0.5, total=  11.5s\n",
      "[CV] alpha=0.000112883789168, l1_ratio=0.7 ...........................\n",
      "[CV] ............ alpha=0.000112883789168, l1_ratio=0.7, total=  12.2s\n",
      "[CV] alpha=0.000112883789168, l1_ratio=0.7 ...........................\n",
      "[CV] ............ alpha=0.000112883789168, l1_ratio=0.7, total=  12.1s\n",
      "[CV] alpha=0.000112883789168, l1_ratio=0.7 ...........................\n",
      "[CV] ............ alpha=0.000112883789168, l1_ratio=0.7, total=  10.9s\n",
      "[CV] alpha=0.000112883789168, l1_ratio=0.9 ...........................\n",
      "[CV] ............ alpha=0.000112883789168, l1_ratio=0.9, total=   9.4s\n",
      "[CV] alpha=0.000112883789168, l1_ratio=0.9 ...........................\n",
      "[CV] ............ alpha=0.000112883789168, l1_ratio=0.9, total=  10.6s\n",
      "[CV] alpha=0.000112883789168, l1_ratio=0.9 ...........................\n",
      "[CV] ............ alpha=0.000112883789168, l1_ratio=0.9, total=   9.3s\n",
      "[CV] alpha=0.000112883789168, l1_ratio=0.95 ..........................\n",
      "[CV] ........... alpha=0.000112883789168, l1_ratio=0.95, total=   9.5s\n",
      "[CV] alpha=0.000112883789168, l1_ratio=0.95 ..........................\n",
      "[CV] ........... alpha=0.000112883789168, l1_ratio=0.95, total=  10.5s\n",
      "[CV] alpha=0.000112883789168, l1_ratio=0.95 ..........................\n",
      "[CV] ........... alpha=0.000112883789168, l1_ratio=0.95, total=   9.3s\n",
      "[CV] alpha=0.000112883789168, l1_ratio=0.99 ..........................\n",
      "[CV] ........... alpha=0.000112883789168, l1_ratio=0.99, total=   9.3s\n",
      "[CV] alpha=0.000112883789168, l1_ratio=0.99 ..........................\n",
      "[CV] ........... alpha=0.000112883789168, l1_ratio=0.99, total=  10.5s\n",
      "[CV] alpha=0.000112883789168, l1_ratio=0.99 ..........................\n",
      "[CV] ........... alpha=0.000112883789168, l1_ratio=0.99, total=   9.1s\n",
      "[CV] alpha=0.000112883789168, l1_ratio=1 .............................\n",
      "[CV] .............. alpha=0.000112883789168, l1_ratio=1, total=   9.2s\n",
      "[CV] alpha=0.000112883789168, l1_ratio=1 .............................\n",
      "[CV] .............. alpha=0.000112883789168, l1_ratio=1, total=  10.9s\n",
      "[CV] alpha=0.000112883789168, l1_ratio=1 .............................\n",
      "[CV] .............. alpha=0.000112883789168, l1_ratio=1, total=   9.1s\n",
      "[CV] alpha=0.000379269019073, l1_ratio=0 .............................\n",
      "[CV] .............. alpha=0.000112883789168, l1_ratio=0, total= 6.4min\n",
      "[CV] alpha=0.000379269019073, l1_ratio=0 .............................\n",
      "[CV] .............. alpha=0.000112883789168, l1_ratio=0, total= 6.3min\n",
      "[CV] alpha=0.000379269019073, l1_ratio=0 .............................\n",
      "[CV] .............. alpha=0.000112883789168, l1_ratio=0, total= 6.3min\n",
      "[CV] alpha=0.000379269019073, l1_ratio=0.1 ...........................\n",
      "[CV] ............ alpha=0.000379269019073, l1_ratio=0.1, total=  29.9s\n",
      "[CV] alpha=0.000379269019073, l1_ratio=0.1 ...........................\n",
      "[CV] ............ alpha=0.000379269019073, l1_ratio=0.1, total=  24.8s\n",
      "[CV] alpha=0.000379269019073, l1_ratio=0.1 ...........................\n",
      "[CV] ............ alpha=0.000379269019073, l1_ratio=0.1, total=  12.0s\n",
      "[CV] alpha=0.000379269019073, l1_ratio=0.5 ...........................\n",
      "[CV] ............ alpha=0.000379269019073, l1_ratio=0.5, total=  19.2s\n",
      "[CV] alpha=0.000379269019073, l1_ratio=0.5 ...........................\n",
      "[CV] ............ alpha=0.000379269019073, l1_ratio=0.5, total=  12.6s\n",
      "[CV] alpha=0.000379269019073, l1_ratio=0.5 ...........................\n",
      "[CV] ............ alpha=0.000379269019073, l1_ratio=0.5, total=  10.6s\n",
      "[CV] alpha=0.000379269019073, l1_ratio=0.7 ...........................\n",
      "[CV] ............ alpha=0.000379269019073, l1_ratio=0.7, total=  10.1s\n",
      "[CV] alpha=0.000379269019073, l1_ratio=0.7 ...........................\n",
      "[CV] ............ alpha=0.000379269019073, l1_ratio=0.7, total=  12.4s\n",
      "[CV] alpha=0.000379269019073, l1_ratio=0.7 ...........................\n",
      "[CV] ............ alpha=0.000379269019073, l1_ratio=0.7, total=  11.2s\n",
      "[CV] alpha=0.000379269019073, l1_ratio=0.9 ...........................\n",
      "[CV] ............ alpha=0.000379269019073, l1_ratio=0.9, total=  12.6s\n",
      "[CV] alpha=0.000379269019073, l1_ratio=0.9 ...........................\n",
      "[CV] ............ alpha=0.000379269019073, l1_ratio=0.9, total=  14.1s\n",
      "[CV] alpha=0.000379269019073, l1_ratio=0.9 ...........................\n",
      "[CV] ............ alpha=0.000379269019073, l1_ratio=0.9, total=  15.6s\n",
      "[CV] alpha=0.000379269019073, l1_ratio=0.95 ..........................\n",
      "[CV] ........... alpha=0.000379269019073, l1_ratio=0.95, total=  14.3s\n",
      "[CV] alpha=0.000379269019073, l1_ratio=0.95 ..........................\n",
      "[CV] ........... alpha=0.000379269019073, l1_ratio=0.95, total=  10.5s\n",
      "[CV] alpha=0.000379269019073, l1_ratio=0.95 ..........................\n",
      "[CV] ........... alpha=0.000379269019073, l1_ratio=0.95, total=  10.2s\n",
      "[CV] alpha=0.000379269019073, l1_ratio=0.99 ..........................\n",
      "[CV] ........... alpha=0.000379269019073, l1_ratio=0.99, total=   9.7s\n",
      "[CV] alpha=0.000379269019073, l1_ratio=0.99 ..........................\n",
      "[CV] ........... alpha=0.000379269019073, l1_ratio=0.99, total=   9.6s\n",
      "[CV] alpha=0.000379269019073, l1_ratio=0.99 ..........................\n",
      "[CV] ........... alpha=0.000379269019073, l1_ratio=0.99, total=   9.5s\n",
      "[CV] alpha=0.000379269019073, l1_ratio=1 .............................\n",
      "[CV] .............. alpha=0.000379269019073, l1_ratio=1, total=   9.2s\n",
      "[CV] alpha=0.000379269019073, l1_ratio=1 .............................\n",
      "[CV] .............. alpha=0.000379269019073, l1_ratio=1, total=   9.1s\n",
      "[CV] alpha=0.000379269019073, l1_ratio=1 .............................\n",
      "[CV] .............. alpha=0.000379269019073, l1_ratio=1, total=   9.2s\n",
      "[CV] alpha=0.0012742749857, l1_ratio=0 ...............................\n",
      "[CV] .............. alpha=0.000379269019073, l1_ratio=0, total= 7.3min\n",
      "[CV] alpha=0.0012742749857, l1_ratio=0 ...............................\n",
      "[CV] .............. alpha=0.000379269019073, l1_ratio=0, total= 7.5min\n",
      "[CV] alpha=0.0012742749857, l1_ratio=0 ...............................\n",
      "[CV] .............. alpha=0.000379269019073, l1_ratio=0, total= 7.5min\n",
      "[CV] alpha=0.0012742749857, l1_ratio=0.1 .............................\n",
      "[CV] .............. alpha=0.0012742749857, l1_ratio=0.1, total=  51.6s\n",
      "[CV] alpha=0.0012742749857, l1_ratio=0.1 .............................\n",
      "[CV] .............. alpha=0.0012742749857, l1_ratio=0.1, total=  52.2s\n",
      "[CV] alpha=0.0012742749857, l1_ratio=0.1 .............................\n",
      "[CV] .............. alpha=0.0012742749857, l1_ratio=0.1, total=  39.7s\n",
      "[CV] alpha=0.0012742749857, l1_ratio=0.5 .............................\n",
      "[CV] .............. alpha=0.0012742749857, l1_ratio=0.5, total=   8.1s\n",
      "[CV] alpha=0.0012742749857, l1_ratio=0.5 .............................\n",
      "[CV] .............. alpha=0.0012742749857, l1_ratio=0.5, total=  44.6s\n",
      "[CV] alpha=0.0012742749857, l1_ratio=0.5 .............................\n",
      "[CV] .............. alpha=0.0012742749857, l1_ratio=0.5, total=   8.8s\n",
      "[CV] alpha=0.0012742749857, l1_ratio=0.7 .............................\n",
      "[CV] .............. alpha=0.0012742749857, l1_ratio=0.7, total=   8.1s\n",
      "[CV] alpha=0.0012742749857, l1_ratio=0.7 .............................\n"
     ]
    },
    {
     "name": "stdout",
     "output_type": "stream",
     "text": [
      "[CV] .............. alpha=0.0012742749857, l1_ratio=0.7, total=   9.5s\n",
      "[CV] alpha=0.0012742749857, l1_ratio=0.7 .............................\n",
      "[CV] .............. alpha=0.0012742749857, l1_ratio=0.7, total=   8.5s\n",
      "[CV] alpha=0.0012742749857, l1_ratio=0.9 .............................\n",
      "[CV] .............. alpha=0.0012742749857, l1_ratio=0.9, total=   8.5s\n",
      "[CV] alpha=0.0012742749857, l1_ratio=0.9 .............................\n",
      "[CV] .............. alpha=0.0012742749857, l1_ratio=0.9, total=   7.7s\n",
      "[CV] alpha=0.0012742749857, l1_ratio=0.9 .............................\n",
      "[CV] .............. alpha=0.0012742749857, l1_ratio=0.9, total=   7.9s\n",
      "[CV] alpha=0.0012742749857, l1_ratio=0.95 ............................\n",
      "[CV] ............. alpha=0.0012742749857, l1_ratio=0.95, total=   7.8s\n",
      "[CV] alpha=0.0012742749857, l1_ratio=0.95 ............................\n",
      "[CV] ............. alpha=0.0012742749857, l1_ratio=0.95, total=   7.1s\n",
      "[CV] alpha=0.0012742749857, l1_ratio=0.95 ............................\n",
      "[CV] ............. alpha=0.0012742749857, l1_ratio=0.95, total=   8.3s\n",
      "[CV] alpha=0.0012742749857, l1_ratio=0.99 ............................\n",
      "[CV] ............. alpha=0.0012742749857, l1_ratio=0.99, total=   9.2s\n",
      "[CV] alpha=0.0012742749857, l1_ratio=0.99 ............................\n",
      "[CV] ............. alpha=0.0012742749857, l1_ratio=0.99, total=   7.9s\n",
      "[CV] alpha=0.0012742749857, l1_ratio=0.99 ............................\n",
      "[CV] ............. alpha=0.0012742749857, l1_ratio=0.99, total=   7.7s\n",
      "[CV] alpha=0.0012742749857, l1_ratio=1 ...............................\n",
      "[CV] ................ alpha=0.0012742749857, l1_ratio=1, total=   7.0s\n",
      "[CV] alpha=0.0012742749857, l1_ratio=1 ...............................\n",
      "[CV] ................ alpha=0.0012742749857, l1_ratio=0, total= 7.9min\n",
      "[CV] alpha=0.0012742749857, l1_ratio=1 ...............................\n",
      "[CV] ................ alpha=0.0012742749857, l1_ratio=1, total=   6.9s\n",
      "[CV] alpha=0.00428133239872, l1_ratio=0 ..............................\n",
      "[CV] ................ alpha=0.0012742749857, l1_ratio=1, total=   6.8s\n",
      "[CV] alpha=0.00428133239872, l1_ratio=0 ..............................\n",
      "[CV] ................ alpha=0.0012742749857, l1_ratio=0, total= 7.9min\n",
      "[CV] alpha=0.00428133239872, l1_ratio=0 ..............................\n",
      "[CV] ................ alpha=0.0012742749857, l1_ratio=0, total= 8.0min\n",
      "[CV] alpha=0.00428133239872, l1_ratio=0.1 ............................\n",
      "[CV] ............. alpha=0.00428133239872, l1_ratio=0.1, total=  19.2s\n",
      "[CV] alpha=0.00428133239872, l1_ratio=0.1 ............................\n",
      "[CV] ............. alpha=0.00428133239872, l1_ratio=0.1, total=  23.8s\n",
      "[CV] alpha=0.00428133239872, l1_ratio=0.1 ............................\n",
      "[CV] ............. alpha=0.00428133239872, l1_ratio=0.1, total=  21.0s\n",
      "[CV] alpha=0.00428133239872, l1_ratio=0.5 ............................\n",
      "[CV] ............. alpha=0.00428133239872, l1_ratio=0.5, total=   7.0s\n",
      "[CV] alpha=0.00428133239872, l1_ratio=0.5 ............................\n",
      "[CV] ............. alpha=0.00428133239872, l1_ratio=0.5, total=   6.5s\n",
      "[CV] alpha=0.00428133239872, l1_ratio=0.5 ............................\n",
      "[CV] ............. alpha=0.00428133239872, l1_ratio=0.5, total=   6.4s\n",
      "[CV] alpha=0.00428133239872, l1_ratio=0.7 ............................\n",
      "[CV] ............. alpha=0.00428133239872, l1_ratio=0.7, total=   6.3s\n",
      "[CV] alpha=0.00428133239872, l1_ratio=0.7 ............................\n",
      "[CV] ............. alpha=0.00428133239872, l1_ratio=0.7, total=   6.3s\n",
      "[CV] alpha=0.00428133239872, l1_ratio=0.7 ............................\n",
      "[CV] ............. alpha=0.00428133239872, l1_ratio=0.7, total=   6.2s\n",
      "[CV] alpha=0.00428133239872, l1_ratio=0.9 ............................\n",
      "[CV] ............. alpha=0.00428133239872, l1_ratio=0.9, total=   7.4s\n",
      "[CV] alpha=0.00428133239872, l1_ratio=0.9 ............................\n",
      "[CV] ............. alpha=0.00428133239872, l1_ratio=0.9, total=   7.0s\n",
      "[CV] alpha=0.00428133239872, l1_ratio=0.9 ............................\n",
      "[CV] ............. alpha=0.00428133239872, l1_ratio=0.9, total=   7.1s\n",
      "[CV] alpha=0.00428133239872, l1_ratio=0.95 ...........................\n",
      "[CV] ............ alpha=0.00428133239872, l1_ratio=0.95, total=   7.4s\n",
      "[CV] alpha=0.00428133239872, l1_ratio=0.95 ...........................\n",
      "[CV] ............ alpha=0.00428133239872, l1_ratio=0.95, total=   6.2s\n",
      "[CV] alpha=0.00428133239872, l1_ratio=0.95 ...........................\n",
      "[CV] ............ alpha=0.00428133239872, l1_ratio=0.95, total=   6.4s\n",
      "[CV] alpha=0.00428133239872, l1_ratio=0.99 ...........................\n",
      "[CV] ............ alpha=0.00428133239872, l1_ratio=0.99, total=   6.3s\n",
      "[CV] alpha=0.00428133239872, l1_ratio=0.99 ...........................\n",
      "[CV] ............ alpha=0.00428133239872, l1_ratio=0.99, total=   6.3s\n",
      "[CV] alpha=0.00428133239872, l1_ratio=0.99 ...........................\n",
      "[CV] ............ alpha=0.00428133239872, l1_ratio=0.99, total=   6.1s\n",
      "[CV] alpha=0.00428133239872, l1_ratio=1 ..............................\n",
      "[CV] ............... alpha=0.00428133239872, l1_ratio=1, total=   6.2s\n",
      "[CV] alpha=0.00428133239872, l1_ratio=1 ..............................\n",
      "[CV] ............... alpha=0.00428133239872, l1_ratio=1, total=   5.8s\n",
      "[CV] alpha=0.00428133239872, l1_ratio=1 ..............................\n",
      "[CV] ............... alpha=0.00428133239872, l1_ratio=1, total=   5.9s\n",
      "[CV] alpha=0.0143844988829, l1_ratio=0 ...............................\n",
      "[CV] ............... alpha=0.00428133239872, l1_ratio=0, total= 7.6min\n",
      "[CV] alpha=0.0143844988829, l1_ratio=0 ...............................\n",
      "[CV] ............... alpha=0.00428133239872, l1_ratio=0, total= 7.6min\n",
      "[CV] alpha=0.0143844988829, l1_ratio=0 ...............................\n",
      "[CV] ............... alpha=0.00428133239872, l1_ratio=0, total= 7.6min\n",
      "[CV] alpha=0.0143844988829, l1_ratio=0.1 .............................\n",
      "[CV] .............. alpha=0.0143844988829, l1_ratio=0.1, total=   7.2s\n",
      "[CV] alpha=0.0143844988829, l1_ratio=0.1 .............................\n",
      "[CV] .............. alpha=0.0143844988829, l1_ratio=0.1, total=   7.8s\n",
      "[CV] alpha=0.0143844988829, l1_ratio=0.1 .............................\n",
      "[CV] .............. alpha=0.0143844988829, l1_ratio=0.1, total=   7.1s\n",
      "[CV] alpha=0.0143844988829, l1_ratio=0.5 .............................\n",
      "[CV] .............. alpha=0.0143844988829, l1_ratio=0.5, total=   5.7s\n",
      "[CV] alpha=0.0143844988829, l1_ratio=0.5 .............................\n",
      "[CV] .............. alpha=0.0143844988829, l1_ratio=0.5, total=   6.4s\n",
      "[CV] alpha=0.0143844988829, l1_ratio=0.5 .............................\n",
      "[CV] .............. alpha=0.0143844988829, l1_ratio=0.5, total=   8.0s\n",
      "[CV] alpha=0.0143844988829, l1_ratio=0.7 .............................\n",
      "[CV] .............. alpha=0.0143844988829, l1_ratio=0.7, total=   9.7s\n",
      "[CV] alpha=0.0143844988829, l1_ratio=0.7 .............................\n",
      "[CV] .............. alpha=0.0143844988829, l1_ratio=0.7, total=   8.7s\n",
      "[CV] alpha=0.0143844988829, l1_ratio=0.7 .............................\n",
      "[CV] .............. alpha=0.0143844988829, l1_ratio=0.7, total=   9.7s\n",
      "[CV] alpha=0.0143844988829, l1_ratio=0.9 .............................\n",
      "[CV] .............. alpha=0.0143844988829, l1_ratio=0.9, total=  10.9s\n",
      "[CV] alpha=0.0143844988829, l1_ratio=0.9 .............................\n"
     ]
    },
    {
     "name": "stderr",
     "output_type": "stream",
     "text": [
      "[Parallel(n_jobs=-1)]: Done 154 tasks      | elapsed: 47.7min\n"
     ]
    },
    {
     "name": "stdout",
     "output_type": "stream",
     "text": [
      "[CV] .............. alpha=0.0143844988829, l1_ratio=0.9, total=   7.6s\n",
      "[CV] alpha=0.0143844988829, l1_ratio=0.9 .............................\n",
      "[CV] .............. alpha=0.0143844988829, l1_ratio=0.9, total=   6.8s\n",
      "[CV] alpha=0.0143844988829, l1_ratio=0.95 ............................\n",
      "[CV] ............. alpha=0.0143844988829, l1_ratio=0.95, total=   6.6s\n",
      "[CV] alpha=0.0143844988829, l1_ratio=0.95 ............................\n",
      "[CV] ............. alpha=0.0143844988829, l1_ratio=0.95, total=   6.2s\n",
      "[CV] alpha=0.0143844988829, l1_ratio=0.95 ............................\n",
      "[CV] ............. alpha=0.0143844988829, l1_ratio=0.95, total=   5.9s\n",
      "[CV] alpha=0.0143844988829, l1_ratio=0.99 ............................\n",
      "[CV] ............. alpha=0.0143844988829, l1_ratio=0.99, total=   5.6s\n",
      "[CV] alpha=0.0143844988829, l1_ratio=0.99 ............................\n",
      "[CV] ............. alpha=0.0143844988829, l1_ratio=0.99, total=   6.5s\n",
      "[CV] alpha=0.0143844988829, l1_ratio=0.99 ............................\n",
      "[CV] ............. alpha=0.0143844988829, l1_ratio=0.99, total=   5.4s\n",
      "[CV] alpha=0.0143844988829, l1_ratio=1 ...............................\n",
      "[CV] ................ alpha=0.0143844988829, l1_ratio=1, total=   5.5s\n",
      "[CV] alpha=0.0143844988829, l1_ratio=1 ...............................\n",
      "[CV] ................ alpha=0.0143844988829, l1_ratio=1, total=   5.5s\n",
      "[CV] alpha=0.0143844988829, l1_ratio=1 ...............................\n",
      "[CV] ................ alpha=0.0143844988829, l1_ratio=1, total=   5.9s\n",
      "[CV] alpha=0.0483293023857, l1_ratio=0 ...............................\n",
      "[CV] ................ alpha=0.0143844988829, l1_ratio=0, total= 8.4min\n",
      "[CV] alpha=0.0483293023857, l1_ratio=0 ...............................\n",
      "[CV] ................ alpha=0.0143844988829, l1_ratio=0, total= 8.1min\n",
      "[CV] alpha=0.0483293023857, l1_ratio=0 ...............................\n",
      "[CV] ................ alpha=0.0143844988829, l1_ratio=0, total= 8.1min\n",
      "[CV] alpha=0.0483293023857, l1_ratio=0.1 .............................\n",
      "[CV] .............. alpha=0.0483293023857, l1_ratio=0.1, total=   5.8s\n",
      "[CV] alpha=0.0483293023857, l1_ratio=0.1 .............................\n",
      "[CV] .............. alpha=0.0483293023857, l1_ratio=0.1, total=   8.0s\n",
      "[CV] alpha=0.0483293023857, l1_ratio=0.1 .............................\n",
      "[CV] .............. alpha=0.0483293023857, l1_ratio=0.1, total=   7.9s\n",
      "[CV] alpha=0.0483293023857, l1_ratio=0.5 .............................\n",
      "[CV] .............. alpha=0.0483293023857, l1_ratio=0.5, total=   9.7s\n",
      "[CV] alpha=0.0483293023857, l1_ratio=0.5 .............................\n",
      "[CV] .............. alpha=0.0483293023857, l1_ratio=0.5, total=   7.9s\n",
      "[CV] alpha=0.0483293023857, l1_ratio=0.5 .............................\n",
      "[CV] .............. alpha=0.0483293023857, l1_ratio=0.5, total=   6.6s\n",
      "[CV] alpha=0.0483293023857, l1_ratio=0.7 .............................\n",
      "[CV] .............. alpha=0.0483293023857, l1_ratio=0.7, total=   5.3s\n",
      "[CV] alpha=0.0483293023857, l1_ratio=0.7 .............................\n",
      "[CV] .............. alpha=0.0483293023857, l1_ratio=0.7, total=   4.8s\n",
      "[CV] alpha=0.0483293023857, l1_ratio=0.7 .............................\n",
      "[CV] .............. alpha=0.0483293023857, l1_ratio=0.7, total=   5.6s\n",
      "[CV] alpha=0.0483293023857, l1_ratio=0.9 .............................\n",
      "[CV] .............. alpha=0.0483293023857, l1_ratio=0.9, total=   5.3s\n",
      "[CV] alpha=0.0483293023857, l1_ratio=0.9 .............................\n",
      "[CV] .............. alpha=0.0483293023857, l1_ratio=0.9, total=   4.8s\n",
      "[CV] alpha=0.0483293023857, l1_ratio=0.9 .............................\n",
      "[CV] .............. alpha=0.0483293023857, l1_ratio=0.9, total=   4.7s\n",
      "[CV] alpha=0.0483293023857, l1_ratio=0.95 ............................\n",
      "[CV] ............. alpha=0.0483293023857, l1_ratio=0.95, total=   5.0s\n",
      "[CV] alpha=0.0483293023857, l1_ratio=0.95 ............................\n",
      "[CV] ............. alpha=0.0483293023857, l1_ratio=0.95, total=   4.8s\n",
      "[CV] alpha=0.0483293023857, l1_ratio=0.95 ............................\n",
      "[CV] ............. alpha=0.0483293023857, l1_ratio=0.95, total=   6.0s\n",
      "[CV] alpha=0.0483293023857, l1_ratio=0.99 ............................\n",
      "[CV] ............. alpha=0.0483293023857, l1_ratio=0.99, total=   5.8s\n",
      "[CV] alpha=0.0483293023857, l1_ratio=0.99 ............................\n",
      "[CV] ............. alpha=0.0483293023857, l1_ratio=0.99, total=   5.0s\n",
      "[CV] alpha=0.0483293023857, l1_ratio=0.99 ............................\n",
      "[CV] ............. alpha=0.0483293023857, l1_ratio=0.99, total=   5.5s\n",
      "[CV] alpha=0.0483293023857, l1_ratio=1 ...............................\n",
      "[CV] ................ alpha=0.0483293023857, l1_ratio=1, total=   7.0s\n",
      "[CV] alpha=0.0483293023857, l1_ratio=1 ...............................\n",
      "[CV] ................ alpha=0.0483293023857, l1_ratio=1, total=   6.7s\n",
      "[CV] alpha=0.0483293023857, l1_ratio=1 ...............................\n",
      "[CV] ................ alpha=0.0483293023857, l1_ratio=1, total=   6.6s\n",
      "[CV] alpha=0.162377673919, l1_ratio=0 ................................\n",
      "[CV] ................ alpha=0.0483293023857, l1_ratio=0, total= 8.0min\n",
      "[CV] alpha=0.162377673919, l1_ratio=0 ................................\n",
      "[CV] ................ alpha=0.0483293023857, l1_ratio=0, total= 8.1min\n",
      "[CV] alpha=0.162377673919, l1_ratio=0 ................................\n",
      "[CV] ................ alpha=0.0483293023857, l1_ratio=0, total= 8.3min\n",
      "[CV] alpha=0.162377673919, l1_ratio=0.1 ..............................\n",
      "[CV] ............... alpha=0.162377673919, l1_ratio=0.1, total=   6.1s\n",
      "[CV] alpha=0.162377673919, l1_ratio=0.1 ..............................\n",
      "[CV] ............... alpha=0.162377673919, l1_ratio=0.1, total=   5.3s\n",
      "[CV] alpha=0.162377673919, l1_ratio=0.1 ..............................\n",
      "[CV] ............... alpha=0.162377673919, l1_ratio=0.1, total=   5.8s\n",
      "[CV] alpha=0.162377673919, l1_ratio=0.5 ..............................\n",
      "[CV] ............... alpha=0.162377673919, l1_ratio=0.5, total=   5.5s\n",
      "[CV] alpha=0.162377673919, l1_ratio=0.5 ..............................\n",
      "[CV] ............... alpha=0.162377673919, l1_ratio=0.5, total=   6.2s\n",
      "[CV] alpha=0.162377673919, l1_ratio=0.5 ..............................\n",
      "[CV] ............... alpha=0.162377673919, l1_ratio=0.5, total=   7.3s\n",
      "[CV] alpha=0.162377673919, l1_ratio=0.7 ..............................\n",
      "[CV] ............... alpha=0.162377673919, l1_ratio=0.7, total=   6.3s\n",
      "[CV] alpha=0.162377673919, l1_ratio=0.7 ..............................\n",
      "[CV] ............... alpha=0.162377673919, l1_ratio=0.7, total=   5.8s\n",
      "[CV] alpha=0.162377673919, l1_ratio=0.7 ..............................\n",
      "[CV] ............... alpha=0.162377673919, l1_ratio=0.7, total=   5.5s\n",
      "[CV] alpha=0.162377673919, l1_ratio=0.9 ..............................\n",
      "[CV] ............... alpha=0.162377673919, l1_ratio=0.9, total=   5.2s\n",
      "[CV] alpha=0.162377673919, l1_ratio=0.9 ..............................\n",
      "[CV] ............... alpha=0.162377673919, l1_ratio=0.9, total=   5.0s\n",
      "[CV] alpha=0.162377673919, l1_ratio=0.9 ..............................\n",
      "[CV] ............... alpha=0.162377673919, l1_ratio=0.9, total=   5.7s\n",
      "[CV] alpha=0.162377673919, l1_ratio=0.95 .............................\n",
      "[CV] .............. alpha=0.162377673919, l1_ratio=0.95, total=   5.9s\n",
      "[CV] alpha=0.162377673919, l1_ratio=0.95 .............................\n",
      "[CV] .............. alpha=0.162377673919, l1_ratio=0.95, total=   5.8s\n",
      "[CV] alpha=0.162377673919, l1_ratio=0.95 .............................\n",
      "[CV] .............. alpha=0.162377673919, l1_ratio=0.95, total=   6.1s\n",
      "[CV] alpha=0.162377673919, l1_ratio=0.99 .............................\n",
      "[CV] .............. alpha=0.162377673919, l1_ratio=0.99, total=   6.0s\n",
      "[CV] alpha=0.162377673919, l1_ratio=0.99 .............................\n",
      "[CV] .............. alpha=0.162377673919, l1_ratio=0.99, total=   8.1s\n",
      "[CV] alpha=0.162377673919, l1_ratio=0.99 .............................\n",
      "[CV] .............. alpha=0.162377673919, l1_ratio=0.99, total=   7.2s\n",
      "[CV] alpha=0.162377673919, l1_ratio=1 ................................\n",
      "[CV] ................. alpha=0.162377673919, l1_ratio=1, total=   7.1s\n",
      "[CV] alpha=0.162377673919, l1_ratio=1 ................................\n",
      "[CV] ................. alpha=0.162377673919, l1_ratio=1, total=   9.8s\n",
      "[CV] alpha=0.162377673919, l1_ratio=1 ................................\n"
     ]
    },
    {
     "name": "stdout",
     "output_type": "stream",
     "text": [
      "[CV] ................. alpha=0.162377673919, l1_ratio=1, total=   6.3s\n",
      "[CV] alpha=0.545559478117, l1_ratio=0 ................................\n",
      "[CV] ................. alpha=0.162377673919, l1_ratio=0, total= 8.4min\n",
      "[CV] alpha=0.545559478117, l1_ratio=0 ................................\n",
      "[CV] ................. alpha=0.162377673919, l1_ratio=0, total= 8.4min\n",
      "[CV] alpha=0.545559478117, l1_ratio=0 ................................\n",
      "[CV] ................. alpha=0.162377673919, l1_ratio=0, total= 8.2min\n",
      "[CV] alpha=0.545559478117, l1_ratio=0.1 ..............................\n",
      "[CV] ............... alpha=0.545559478117, l1_ratio=0.1, total=   5.6s\n",
      "[CV] alpha=0.545559478117, l1_ratio=0.1 ..............................\n",
      "[CV] ............... alpha=0.545559478117, l1_ratio=0.1, total=   6.2s\n",
      "[CV] alpha=0.545559478117, l1_ratio=0.1 ..............................\n",
      "[CV] ............... alpha=0.545559478117, l1_ratio=0.1, total=   6.1s\n",
      "[CV] alpha=0.545559478117, l1_ratio=0.5 ..............................\n",
      "[CV] ............... alpha=0.545559478117, l1_ratio=0.5, total=   5.7s\n",
      "[CV] alpha=0.545559478117, l1_ratio=0.5 ..............................\n",
      "[CV] ............... alpha=0.545559478117, l1_ratio=0.5, total=   5.3s\n",
      "[CV] alpha=0.545559478117, l1_ratio=0.5 ..............................\n",
      "[CV] ............... alpha=0.545559478117, l1_ratio=0.5, total=   5.5s\n",
      "[CV] alpha=0.545559478117, l1_ratio=0.7 ..............................\n",
      "[CV] ............... alpha=0.545559478117, l1_ratio=0.7, total=   5.3s\n",
      "[CV] alpha=0.545559478117, l1_ratio=0.7 ..............................\n",
      "[CV] ............... alpha=0.545559478117, l1_ratio=0.7, total=   7.5s\n",
      "[CV] alpha=0.545559478117, l1_ratio=0.7 ..............................\n",
      "[CV] ............... alpha=0.545559478117, l1_ratio=0.7, total=   6.0s\n",
      "[CV] alpha=0.545559478117, l1_ratio=0.9 ..............................\n",
      "[CV] ............... alpha=0.545559478117, l1_ratio=0.9, total=   5.3s\n",
      "[CV] alpha=0.545559478117, l1_ratio=0.9 ..............................\n",
      "[CV] ............... alpha=0.545559478117, l1_ratio=0.9, total=   5.1s\n",
      "[CV] alpha=0.545559478117, l1_ratio=0.9 ..............................\n",
      "[CV] ............... alpha=0.545559478117, l1_ratio=0.9, total=   5.6s\n",
      "[CV] alpha=0.545559478117, l1_ratio=0.95 .............................\n",
      "[CV] .............. alpha=0.545559478117, l1_ratio=0.95, total=   7.6s\n",
      "[CV] alpha=0.545559478117, l1_ratio=0.95 .............................\n",
      "[CV] .............. alpha=0.545559478117, l1_ratio=0.95, total=   7.2s\n",
      "[CV] alpha=0.545559478117, l1_ratio=0.95 .............................\n",
      "[CV] .............. alpha=0.545559478117, l1_ratio=0.95, total=   5.5s\n",
      "[CV] alpha=0.545559478117, l1_ratio=0.99 .............................\n",
      "[CV] .............. alpha=0.545559478117, l1_ratio=0.99, total=   7.6s\n",
      "[CV] alpha=0.545559478117, l1_ratio=0.99 .............................\n",
      "[CV] .............. alpha=0.545559478117, l1_ratio=0.99, total=   7.3s\n",
      "[CV] alpha=0.545559478117, l1_ratio=0.99 .............................\n",
      "[CV] .............. alpha=0.545559478117, l1_ratio=0.99, total=   6.9s\n",
      "[CV] alpha=0.545559478117, l1_ratio=1 ................................\n",
      "[CV] ................. alpha=0.545559478117, l1_ratio=1, total=   6.6s\n",
      "[CV] alpha=0.545559478117, l1_ratio=1 ................................\n",
      "[CV] ................. alpha=0.545559478117, l1_ratio=1, total=   6.1s\n",
      "[CV] alpha=0.545559478117, l1_ratio=1 ................................\n",
      "[CV] ................. alpha=0.545559478117, l1_ratio=1, total=   6.3s\n",
      "[CV] alpha=1.83298071083, l1_ratio=0 .................................\n",
      "[CV] ................. alpha=0.545559478117, l1_ratio=0, total= 8.6min\n",
      "[CV] alpha=1.83298071083, l1_ratio=0 .................................\n",
      "[CV] ................. alpha=0.545559478117, l1_ratio=0, total= 8.6min\n",
      "[CV] alpha=1.83298071083, l1_ratio=0 .................................\n",
      "[CV] ................. alpha=0.545559478117, l1_ratio=0, total= 8.9min\n",
      "[CV] alpha=1.83298071083, l1_ratio=0.1 ...............................\n",
      "[CV] ................ alpha=1.83298071083, l1_ratio=0.1, total=  11.3s\n",
      "[CV] alpha=1.83298071083, l1_ratio=0.1 ...............................\n",
      "[CV] ................ alpha=1.83298071083, l1_ratio=0.1, total=   8.7s\n",
      "[CV] alpha=1.83298071083, l1_ratio=0.1 ...............................\n",
      "[CV] ................ alpha=1.83298071083, l1_ratio=0.1, total=  17.9s\n",
      "[CV] alpha=1.83298071083, l1_ratio=0.5 ...............................\n",
      "[CV] ................ alpha=1.83298071083, l1_ratio=0.5, total=  12.2s\n",
      "[CV] alpha=1.83298071083, l1_ratio=0.5 ...............................\n",
      "[CV] ................ alpha=1.83298071083, l1_ratio=0.5, total=   9.3s\n",
      "[CV] alpha=1.83298071083, l1_ratio=0.5 ...............................\n",
      "[CV] ................ alpha=1.83298071083, l1_ratio=0.5, total=   8.7s\n",
      "[CV] alpha=1.83298071083, l1_ratio=0.7 ...............................\n",
      "[CV] ................ alpha=1.83298071083, l1_ratio=0.7, total=   5.9s\n",
      "[CV] alpha=1.83298071083, l1_ratio=0.7 ...............................\n",
      "[CV] ................ alpha=1.83298071083, l1_ratio=0.7, total=   5.5s\n",
      "[CV] alpha=1.83298071083, l1_ratio=0.7 ...............................\n",
      "[CV] ................ alpha=1.83298071083, l1_ratio=0.7, total=   5.4s\n",
      "[CV] alpha=1.83298071083, l1_ratio=0.9 ...............................\n",
      "[CV] ................ alpha=1.83298071083, l1_ratio=0.9, total=   5.0s\n",
      "[CV] alpha=1.83298071083, l1_ratio=0.9 ...............................\n",
      "[CV] ................ alpha=1.83298071083, l1_ratio=0.9, total=   5.3s\n",
      "[CV] alpha=1.83298071083, l1_ratio=0.9 ...............................\n",
      "[CV] ................ alpha=1.83298071083, l1_ratio=0.9, total=   5.2s\n",
      "[CV] alpha=1.83298071083, l1_ratio=0.95 ..............................\n",
      "[CV] ............... alpha=1.83298071083, l1_ratio=0.95, total=   5.0s\n",
      "[CV] alpha=1.83298071083, l1_ratio=0.95 ..............................\n",
      "[CV] ............... alpha=1.83298071083, l1_ratio=0.95, total=   6.7s\n",
      "[CV] alpha=1.83298071083, l1_ratio=0.95 ..............................\n",
      "[CV] ............... alpha=1.83298071083, l1_ratio=0.95, total=   7.2s\n",
      "[CV] alpha=1.83298071083, l1_ratio=0.99 ..............................\n",
      "[CV] ............... alpha=1.83298071083, l1_ratio=0.99, total=   5.9s\n",
      "[CV] alpha=1.83298071083, l1_ratio=0.99 ..............................\n",
      "[CV] ............... alpha=1.83298071083, l1_ratio=0.99, total=   6.6s\n",
      "[CV] alpha=1.83298071083, l1_ratio=0.99 ..............................\n",
      "[CV] ............... alpha=1.83298071083, l1_ratio=0.99, total=   6.5s\n",
      "[CV] alpha=1.83298071083, l1_ratio=1 .................................\n",
      "[CV] .................. alpha=1.83298071083, l1_ratio=1, total=   5.7s\n",
      "[CV] alpha=1.83298071083, l1_ratio=1 .................................\n",
      "[CV] .................. alpha=1.83298071083, l1_ratio=1, total=   5.3s\n",
      "[CV] alpha=1.83298071083, l1_ratio=1 .................................\n",
      "[CV] .................. alpha=1.83298071083, l1_ratio=1, total=   5.1s\n",
      "[CV] alpha=6.15848211066, l1_ratio=0 .................................\n",
      "[CV] .................. alpha=1.83298071083, l1_ratio=0, total= 9.0min\n",
      "[CV] alpha=6.15848211066, l1_ratio=0 .................................\n",
      "[CV] .................. alpha=1.83298071083, l1_ratio=0, total= 8.4min\n",
      "[CV] alpha=6.15848211066, l1_ratio=0 .................................\n",
      "[CV] .................. alpha=1.83298071083, l1_ratio=0, total= 8.3min\n",
      "[CV] alpha=6.15848211066, l1_ratio=0.1 ...............................\n",
      "[CV] ................ alpha=6.15848211066, l1_ratio=0.1, total=   4.8s\n",
      "[CV] alpha=6.15848211066, l1_ratio=0.1 ...............................\n",
      "[CV] ................ alpha=6.15848211066, l1_ratio=0.1, total=   4.8s\n",
      "[CV] alpha=6.15848211066, l1_ratio=0.1 ...............................\n",
      "[CV] ................ alpha=6.15848211066, l1_ratio=0.1, total=   4.7s\n",
      "[CV] alpha=6.15848211066, l1_ratio=0.5 ...............................\n",
      "[CV] ................ alpha=6.15848211066, l1_ratio=0.5, total=   4.7s\n",
      "[CV] alpha=6.15848211066, l1_ratio=0.5 ...............................\n",
      "[CV] ................ alpha=6.15848211066, l1_ratio=0.5, total=   4.8s\n",
      "[CV] alpha=6.15848211066, l1_ratio=0.5 ...............................\n",
      "[CV] ................ alpha=6.15848211066, l1_ratio=0.5, total=   4.7s\n",
      "[CV] alpha=6.15848211066, l1_ratio=0.7 ...............................\n"
     ]
    },
    {
     "name": "stdout",
     "output_type": "stream",
     "text": [
      "[CV] ................ alpha=6.15848211066, l1_ratio=0.7, total=   4.7s\n",
      "[CV] alpha=6.15848211066, l1_ratio=0.7 ...............................\n",
      "[CV] ................ alpha=6.15848211066, l1_ratio=0.7, total=   4.7s\n",
      "[CV] alpha=6.15848211066, l1_ratio=0.7 ...............................\n",
      "[CV] ................ alpha=6.15848211066, l1_ratio=0.7, total=   4.6s\n",
      "[CV] alpha=6.15848211066, l1_ratio=0.9 ...............................\n",
      "[CV] ................ alpha=6.15848211066, l1_ratio=0.9, total=   4.8s\n",
      "[CV] alpha=6.15848211066, l1_ratio=0.9 ...............................\n",
      "[CV] ................ alpha=6.15848211066, l1_ratio=0.9, total=   4.7s\n",
      "[CV] alpha=6.15848211066, l1_ratio=0.9 ...............................\n",
      "[CV] ................ alpha=6.15848211066, l1_ratio=0.9, total=   4.7s\n",
      "[CV] alpha=6.15848211066, l1_ratio=0.95 ..............................\n",
      "[CV] ............... alpha=6.15848211066, l1_ratio=0.95, total=   4.6s\n",
      "[CV] alpha=6.15848211066, l1_ratio=0.95 ..............................\n",
      "[CV] ............... alpha=6.15848211066, l1_ratio=0.95, total=   4.7s\n",
      "[CV] alpha=6.15848211066, l1_ratio=0.95 ..............................\n",
      "[CV] ............... alpha=6.15848211066, l1_ratio=0.95, total=   4.8s\n",
      "[CV] alpha=6.15848211066, l1_ratio=0.99 ..............................\n",
      "[CV] ............... alpha=6.15848211066, l1_ratio=0.99, total=   4.6s\n",
      "[CV] alpha=6.15848211066, l1_ratio=0.99 ..............................\n",
      "[CV] ............... alpha=6.15848211066, l1_ratio=0.99, total=   4.7s\n",
      "[CV] alpha=6.15848211066, l1_ratio=0.99 ..............................\n",
      "[CV] ............... alpha=6.15848211066, l1_ratio=0.99, total=   4.7s\n",
      "[CV] alpha=6.15848211066, l1_ratio=1 .................................\n",
      "[CV] .................. alpha=6.15848211066, l1_ratio=1, total=   4.6s\n",
      "[CV] alpha=6.15848211066, l1_ratio=1 .................................\n",
      "[CV] .................. alpha=6.15848211066, l1_ratio=1, total=   5.0s\n",
      "[CV] alpha=6.15848211066, l1_ratio=1 .................................\n",
      "[CV] .................. alpha=6.15848211066, l1_ratio=1, total=   5.2s\n",
      "[CV] alpha=20.6913808111, l1_ratio=0 .................................\n",
      "[CV] .................. alpha=6.15848211066, l1_ratio=0, total= 7.0min\n",
      "[CV] alpha=20.6913808111, l1_ratio=0 .................................\n",
      "[CV] .................. alpha=6.15848211066, l1_ratio=0, total= 6.8min\n",
      "[CV] alpha=20.6913808111, l1_ratio=0 .................................\n",
      "[CV] .................. alpha=6.15848211066, l1_ratio=0, total= 6.9min\n",
      "[CV] alpha=20.6913808111, l1_ratio=0.1 ...............................\n",
      "[CV] ................ alpha=20.6913808111, l1_ratio=0.1, total=   5.6s\n",
      "[CV] alpha=20.6913808111, l1_ratio=0.1 ...............................\n",
      "[CV] ................ alpha=20.6913808111, l1_ratio=0.1, total=   6.0s\n",
      "[CV] alpha=20.6913808111, l1_ratio=0.1 ...............................\n",
      "[CV] ................ alpha=20.6913808111, l1_ratio=0.1, total=   6.7s\n",
      "[CV] alpha=20.6913808111, l1_ratio=0.5 ...............................\n",
      "[CV] ................ alpha=20.6913808111, l1_ratio=0.5, total=   5.4s\n",
      "[CV] alpha=20.6913808111, l1_ratio=0.5 ...............................\n",
      "[CV] ................ alpha=20.6913808111, l1_ratio=0.5, total=   5.5s\n",
      "[CV] alpha=20.6913808111, l1_ratio=0.5 ...............................\n",
      "[CV] ................ alpha=20.6913808111, l1_ratio=0.5, total=   5.0s\n",
      "[CV] alpha=20.6913808111, l1_ratio=0.7 ...............................\n",
      "[CV] ................ alpha=20.6913808111, l1_ratio=0.7, total=   5.0s\n",
      "[CV] alpha=20.6913808111, l1_ratio=0.7 ...............................\n",
      "[CV] ................ alpha=20.6913808111, l1_ratio=0.7, total=   5.2s\n",
      "[CV] alpha=20.6913808111, l1_ratio=0.7 ...............................\n",
      "[CV] ................ alpha=20.6913808111, l1_ratio=0.7, total=   5.0s\n",
      "[CV] alpha=20.6913808111, l1_ratio=0.9 ...............................\n",
      "[CV] ................ alpha=20.6913808111, l1_ratio=0.9, total=   5.7s\n",
      "[CV] alpha=20.6913808111, l1_ratio=0.9 ...............................\n",
      "[CV] ................ alpha=20.6913808111, l1_ratio=0.9, total=   5.6s\n",
      "[CV] alpha=20.6913808111, l1_ratio=0.9 ...............................\n",
      "[CV] ................ alpha=20.6913808111, l1_ratio=0.9, total=   5.1s\n",
      "[CV] alpha=20.6913808111, l1_ratio=0.95 ..............................\n",
      "[CV] ............... alpha=20.6913808111, l1_ratio=0.95, total=   4.9s\n",
      "[CV] alpha=20.6913808111, l1_ratio=0.95 ..............................\n",
      "[CV] ............... alpha=20.6913808111, l1_ratio=0.95, total=   5.1s\n",
      "[CV] alpha=20.6913808111, l1_ratio=0.95 ..............................\n",
      "[CV] ............... alpha=20.6913808111, l1_ratio=0.95, total=   4.9s\n",
      "[CV] alpha=20.6913808111, l1_ratio=0.99 ..............................\n",
      "[CV] ............... alpha=20.6913808111, l1_ratio=0.99, total=   5.0s\n",
      "[CV] alpha=20.6913808111, l1_ratio=0.99 ..............................\n",
      "[CV] ............... alpha=20.6913808111, l1_ratio=0.99, total=   5.3s\n",
      "[CV] alpha=20.6913808111, l1_ratio=0.99 ..............................\n",
      "[CV] ............... alpha=20.6913808111, l1_ratio=0.99, total=   5.1s\n",
      "[CV] alpha=20.6913808111, l1_ratio=1 .................................\n",
      "[CV] .................. alpha=20.6913808111, l1_ratio=1, total=   5.2s\n",
      "[CV] alpha=20.6913808111, l1_ratio=1 .................................\n",
      "[CV] .................. alpha=20.6913808111, l1_ratio=1, total=   5.0s\n",
      "[CV] alpha=20.6913808111, l1_ratio=1 .................................\n",
      "[CV] .................. alpha=20.6913808111, l1_ratio=1, total=   5.6s\n",
      "[CV] alpha=69.5192796178, l1_ratio=0 .................................\n",
      "[CV] .................. alpha=20.6913808111, l1_ratio=0, total= 7.1min\n",
      "[CV] alpha=69.5192796178, l1_ratio=0 .................................\n",
      "[CV] .................. alpha=20.6913808111, l1_ratio=0, total= 7.2min\n",
      "[CV] alpha=69.5192796178, l1_ratio=0 .................................\n",
      "[CV] .................. alpha=20.6913808111, l1_ratio=0, total= 6.9min\n",
      "[CV] alpha=69.5192796178, l1_ratio=0.1 ...............................\n",
      "[CV] ................ alpha=69.5192796178, l1_ratio=0.1, total=   4.8s\n",
      "[CV] alpha=69.5192796178, l1_ratio=0.1 ...............................\n",
      "[CV] ................ alpha=69.5192796178, l1_ratio=0.1, total=   4.6s\n",
      "[CV] alpha=69.5192796178, l1_ratio=0.1 ...............................\n",
      "[CV] ................ alpha=69.5192796178, l1_ratio=0.1, total=   4.7s\n",
      "[CV] alpha=69.5192796178, l1_ratio=0.5 ...............................\n",
      "[CV] ................ alpha=69.5192796178, l1_ratio=0.5, total=   4.6s\n",
      "[CV] alpha=69.5192796178, l1_ratio=0.5 ...............................\n",
      "[CV] ................ alpha=69.5192796178, l1_ratio=0.5, total=   5.1s\n",
      "[CV] alpha=69.5192796178, l1_ratio=0.5 ...............................\n",
      "[CV] ................ alpha=69.5192796178, l1_ratio=0.5, total=   4.9s\n",
      "[CV] alpha=69.5192796178, l1_ratio=0.7 ...............................\n",
      "[CV] ................ alpha=69.5192796178, l1_ratio=0.7, total=   4.9s\n",
      "[CV] alpha=69.5192796178, l1_ratio=0.7 ...............................\n",
      "[CV] ................ alpha=69.5192796178, l1_ratio=0.7, total=   4.9s\n",
      "[CV] alpha=69.5192796178, l1_ratio=0.7 ...............................\n",
      "[CV] ................ alpha=69.5192796178, l1_ratio=0.7, total=   4.8s\n",
      "[CV] alpha=69.5192796178, l1_ratio=0.9 ...............................\n",
      "[CV] ................ alpha=69.5192796178, l1_ratio=0.9, total=   4.9s\n",
      "[CV] alpha=69.5192796178, l1_ratio=0.9 ...............................\n",
      "[CV] ................ alpha=69.5192796178, l1_ratio=0.9, total=   5.2s\n",
      "[CV] alpha=69.5192796178, l1_ratio=0.9 ...............................\n",
      "[CV] ................ alpha=69.5192796178, l1_ratio=0.9, total=   5.2s\n",
      "[CV] alpha=69.5192796178, l1_ratio=0.95 ..............................\n",
      "[CV] ............... alpha=69.5192796178, l1_ratio=0.95, total=   5.0s\n",
      "[CV] alpha=69.5192796178, l1_ratio=0.95 ..............................\n",
      "[CV] ............... alpha=69.5192796178, l1_ratio=0.95, total=   4.5s\n",
      "[CV] alpha=69.5192796178, l1_ratio=0.95 ..............................\n",
      "[CV] ............... alpha=69.5192796178, l1_ratio=0.95, total=   4.6s\n",
      "[CV] alpha=69.5192796178, l1_ratio=0.99 ..............................\n",
      "[CV] ............... alpha=69.5192796178, l1_ratio=0.99, total=   5.1s\n",
      "[CV] alpha=69.5192796178, l1_ratio=0.99 ..............................\n"
     ]
    },
    {
     "name": "stdout",
     "output_type": "stream",
     "text": [
      "[CV] ............... alpha=69.5192796178, l1_ratio=0.99, total=   5.2s\n",
      "[CV] alpha=69.5192796178, l1_ratio=0.99 ..............................\n",
      "[CV] ............... alpha=69.5192796178, l1_ratio=0.99, total=   5.1s\n",
      "[CV] alpha=69.5192796178, l1_ratio=1 .................................\n",
      "[CV] .................. alpha=69.5192796178, l1_ratio=1, total=   4.7s\n",
      "[CV] alpha=69.5192796178, l1_ratio=1 .................................\n",
      "[CV] .................. alpha=69.5192796178, l1_ratio=1, total=   4.5s\n",
      "[CV] alpha=69.5192796178, l1_ratio=1 .................................\n",
      "[CV] .................. alpha=69.5192796178, l1_ratio=1, total=   4.6s\n",
      "[CV] alpha=233.572146909, l1_ratio=0 .................................\n",
      "[CV] .................. alpha=69.5192796178, l1_ratio=0, total= 6.7min\n",
      "[CV] alpha=233.572146909, l1_ratio=0 .................................\n",
      "[CV] .................. alpha=69.5192796178, l1_ratio=0, total= 6.7min\n",
      "[CV] alpha=233.572146909, l1_ratio=0 .................................\n",
      "[CV] .................. alpha=69.5192796178, l1_ratio=0, total= 6.8min\n",
      "[CV] alpha=233.572146909, l1_ratio=0.1 ...............................\n",
      "[CV] ................ alpha=233.572146909, l1_ratio=0.1, total=   5.9s\n",
      "[CV] alpha=233.572146909, l1_ratio=0.1 ...............................\n",
      "[CV] ................ alpha=233.572146909, l1_ratio=0.1, total=   5.9s\n",
      "[CV] alpha=233.572146909, l1_ratio=0.1 ...............................\n",
      "[CV] ................ alpha=233.572146909, l1_ratio=0.1, total=   5.8s\n",
      "[CV] alpha=233.572146909, l1_ratio=0.5 ...............................\n",
      "[CV] ................ alpha=233.572146909, l1_ratio=0.5, total=   4.9s\n",
      "[CV] alpha=233.572146909, l1_ratio=0.5 ...............................\n",
      "[CV] ................ alpha=233.572146909, l1_ratio=0.5, total=   5.5s\n",
      "[CV] alpha=233.572146909, l1_ratio=0.5 ...............................\n",
      "[CV] ................ alpha=233.572146909, l1_ratio=0.5, total=   5.1s\n",
      "[CV] alpha=233.572146909, l1_ratio=0.7 ...............................\n",
      "[CV] ................ alpha=233.572146909, l1_ratio=0.7, total=   4.6s\n",
      "[CV] alpha=233.572146909, l1_ratio=0.7 ...............................\n",
      "[CV] ................ alpha=233.572146909, l1_ratio=0.7, total=   6.1s\n",
      "[CV] alpha=233.572146909, l1_ratio=0.7 ...............................\n",
      "[CV] ................ alpha=233.572146909, l1_ratio=0.7, total=   7.2s\n",
      "[CV] alpha=233.572146909, l1_ratio=0.9 ...............................\n",
      "[CV] ................ alpha=233.572146909, l1_ratio=0.9, total=   5.6s\n",
      "[CV] alpha=233.572146909, l1_ratio=0.9 ...............................\n",
      "[CV] ................ alpha=233.572146909, l1_ratio=0.9, total=   4.9s\n",
      "[CV] alpha=233.572146909, l1_ratio=0.9 ...............................\n",
      "[CV] ................ alpha=233.572146909, l1_ratio=0.9, total=   5.9s\n",
      "[CV] alpha=233.572146909, l1_ratio=0.95 ..............................\n",
      "[CV] ............... alpha=233.572146909, l1_ratio=0.95, total=   5.6s\n",
      "[CV] alpha=233.572146909, l1_ratio=0.95 ..............................\n",
      "[CV] ............... alpha=233.572146909, l1_ratio=0.95, total=   6.6s\n",
      "[CV] alpha=233.572146909, l1_ratio=0.95 ..............................\n",
      "[CV] ............... alpha=233.572146909, l1_ratio=0.95, total=   5.9s\n",
      "[CV] alpha=233.572146909, l1_ratio=0.99 ..............................\n",
      "[CV] ............... alpha=233.572146909, l1_ratio=0.99, total=   6.0s\n",
      "[CV] alpha=233.572146909, l1_ratio=0.99 ..............................\n",
      "[CV] ............... alpha=233.572146909, l1_ratio=0.99, total=   5.4s\n",
      "[CV] alpha=233.572146909, l1_ratio=0.99 ..............................\n",
      "[CV] ............... alpha=233.572146909, l1_ratio=0.99, total=   5.1s\n",
      "[CV] alpha=233.572146909, l1_ratio=1 .................................\n",
      "[CV] .................. alpha=233.572146909, l1_ratio=1, total=   6.1s\n",
      "[CV] alpha=233.572146909, l1_ratio=1 .................................\n",
      "[CV] .................. alpha=233.572146909, l1_ratio=1, total=   7.2s\n",
      "[CV] alpha=233.572146909, l1_ratio=1 .................................\n",
      "[CV] .................. alpha=233.572146909, l1_ratio=1, total=   5.1s\n",
      "[CV] alpha=784.759970351, l1_ratio=0 .................................\n"
     ]
    },
    {
     "name": "stderr",
     "output_type": "stream",
     "text": [
      "[Parallel(n_jobs=-1)]: Done 357 tasks      | elapsed: 100.4min\n"
     ]
    },
    {
     "name": "stdout",
     "output_type": "stream",
     "text": [
      "[CV] .................. alpha=233.572146909, l1_ratio=0, total= 7.9min\n",
      "[CV] alpha=784.759970351, l1_ratio=0 .................................\n"
     ]
    }
   ],
   "source": [
    "params={'l1_ratio': [0, .1, .5, .7, .9, .95, .99, 1], # L1 penalty strength as a fraction of L2 penalty strength\n",
    "        'alpha': np.logspace(-5, 5, 20),\n",
    "       }\n",
    "\n",
    "enet = ElasticNet()\n",
    "c_validator = GridSearchCV(enet, param_grid=params, scoring=util.gini_scorer, n_jobs=-1, verbose=2)\n",
    "c_validator.fit(X, Y)"
   ]
  },
  {
   "cell_type": "code",
   "execution_count": null,
   "metadata": {},
   "outputs": [],
   "source": [
    "enet_out = open('models/elastic_net.pickle', 'wb')\n",
    "pickle.dump(c_validator.best_estimator_, enet_out)\n",
    "enet_out.close()"
   ]
  },
  {
   "cell_type": "markdown",
   "metadata": {},
   "source": [
    "# Elastic Net: Evaluation"
   ]
  },
  {
   "cell_type": "code",
   "execution_count": null,
   "metadata": {
    "collapsed": true
   },
   "outputs": [],
   "source": [
    "enet_model = pickle.load(open('models/elastic_net.pickle'))"
   ]
  },
  {
   "cell_type": "code",
   "execution_count": null,
   "metadata": {
    "collapsed": true
   },
   "outputs": [],
   "source": [
    "trainsizes, traingini, testgini = util.learning_curves(enet_model, X_train, X_test, y_train, y_test)\n",
    "print(traingini)\n",
    "print('')\n",
    "print(testgini)"
   ]
  },
  {
   "cell_type": "code",
   "execution_count": null,
   "metadata": {
    "collapsed": true
   },
   "outputs": [],
   "source": [
    "plt.figure()\n",
    "plt.plot(trainsizes, traingini, label='train gini')\n",
    "plt.plot(trainsizes, testgini, label='test gini')\n",
    "plt.xlabel('Training set size')\n",
    "plt.ylabel('Normalized Gini coefficient')\n",
    "plt.title('Lasso regression')\n",
    "plt.legend()\n",
    "plt.savefig('figures/learning_curves/enet.eps', format='eps', dpi=1000)"
   ]
  },
  {
   "cell_type": "code",
   "execution_count": null,
   "metadata": {
    "collapsed": true
   },
   "outputs": [],
   "source": [
    "plt.show()"
   ]
  },
  {
   "cell_type": "markdown",
   "metadata": {},
   "source": [
    "# Elastic Net: Output"
   ]
  },
  {
   "cell_type": "code",
   "execution_count": null,
   "metadata": {
    "collapsed": true
   },
   "outputs": [],
   "source": [
    "enet_model.fit(X, Y)\n",
    "print(util.gini_scorer(lasso_model, X, Y))"
   ]
  },
  {
   "cell_type": "code",
   "execution_count": null,
   "metadata": {
    "collapsed": true
   },
   "outputs": [],
   "source": [
    "util.make_prediction(lasso_model, 'data/test.csv', 'predictions/enet.csv')"
   ]
  }
 ],
 "metadata": {
  "kernelspec": {
   "display_name": "Python 2",
   "language": "python",
   "name": "python2"
  },
  "language_info": {
   "codemirror_mode": {
    "name": "ipython",
    "version": 2
   },
   "file_extension": ".py",
   "mimetype": "text/x-python",
   "name": "python",
   "nbconvert_exporter": "python",
   "pygments_lexer": "ipython2",
   "version": "2.7.14"
  }
 },
 "nbformat": 4,
 "nbformat_minor": 2
}
