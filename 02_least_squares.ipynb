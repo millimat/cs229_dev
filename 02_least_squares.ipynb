{
 "cells": [
  {
   "cell_type": "code",
   "execution_count": 5,
   "metadata": {},
   "outputs": [],
   "source": [
    "import numpy as np\n",
    "import util\n",
    "from sklearn.linear_model import RidgeCV, LassoCV"
   ]
  },
  {
   "cell_type": "code",
   "execution_count": 2,
   "metadata": {
    "collapsed": true
   },
   "outputs": [],
   "source": [
    "trainfile = 'data/train.csv'\n",
    "header, X, Y = util.fetch_data(trainfile)"
   ]
  },
  {
   "cell_type": "code",
   "execution_count": 6,
   "metadata": {},
   "outputs": [
    {
     "data": {
      "text/plain": [
       "RidgeCV(alphas=array([  1.00000e-05,   1.26186e-05, ...,   7.92483e+04,   1.00000e+05]),\n",
       "    cv=None, fit_intercept=True, gcv_mode=None, normalize=False,\n",
       "    scoring=<function gini_scorer at 0x1512695e60>, store_cv_values=False)"
      ]
     },
     "execution_count": 6,
     "metadata": {},
     "output_type": "execute_result"
    }
   ],
   "source": [
    "alphalist = np.logspace(-5, 5, 100)\n",
    "ridge_model = RidgeCV(alphas=alphalist, scoring=util.gini_scorer)\n",
    "ridge_model.fit(X, Y)"
   ]
  },
  {
   "cell_type": "code",
   "execution_count": 7,
   "metadata": {},
   "outputs": [
    {
     "name": "stdout",
     "output_type": "stream",
     "text": [
      "[  4.94467525e-04   1.32903036e-03   5.05318920e-04   1.54752030e-03\n",
      "   4.35854634e-03  -3.94012140e-03   4.46311262e-03   3.51920347e-03\n",
      "  -4.04219469e-03  -1.58333271e-03  -1.54212586e-03   1.89216272e-03\n",
      "   2.20125880e-05  -1.21128326e-03  -1.06391959e-03  -3.14557912e-03\n",
      "   1.31744145e-02  -2.53288642e-03   3.50806095e-03   5.45158136e-03\n",
      "   3.34271409e-03   7.49940538e-05  -1.77821267e-03   3.15387565e-03\n",
      "  -8.88202284e-05   4.91197519e-04  -7.48065660e-05  -1.27067267e-02\n",
      "  -6.63357910e-04   7.04893054e-04  -1.54894388e-03  -5.89083720e-07\n",
      "  -1.72006691e-03   1.66677533e-02   1.98575730e-02  -9.22249440e-05\n",
      "   1.98570033e-03   1.10101091e-03   7.78440927e-04   1.20563284e-03\n",
      "  -1.02701133e-05   1.47420814e-04   7.30053587e-07  -3.20703206e-06\n",
      "  -1.25268100e-04   8.66145800e-05   6.27537785e-05   4.12908751e-05\n",
      "  -1.72541428e-04  -4.95963521e-05   9.03281277e-05  -2.66271750e-04\n",
      "   2.15601914e-04  -5.25731293e-05   2.11960133e-04  -6.25325058e-04\n",
      "  -5.66746227e-04]\n",
      "0.0216552191766\n",
      "756.463327555\n"
     ]
    }
   ],
   "source": [
    "print(ridge_model.coef_)\n",
    "print(ridge_model.intercept_)\n",
    "print(ridge_model.alpha_)"
   ]
  },
  {
   "cell_type": "code",
   "execution_count": 8,
   "metadata": {},
   "outputs": [
    {
     "name": "stdout",
     "output_type": "stream",
     "text": [
      "0.249642911518\n"
     ]
    }
   ],
   "source": [
    "print(util.gini_scorer(ridge_model, X, Y))"
   ]
  },
  {
   "cell_type": "code",
   "execution_count": 9,
   "metadata": {},
   "outputs": [
    {
     "data": {
      "text/plain": [
       "LassoCV(alphas=array([  1.00000e-05,   1.26186e-05, ...,   7.92483e+04,   1.00000e+05]),\n",
       "    copy_X=True, cv=None, eps=0.001, fit_intercept=True, max_iter=1000,\n",
       "    n_alphas=100, n_jobs=-1, normalize=False, positive=False,\n",
       "    precompute='auto', random_state=None, selection='cyclic', tol=0.0001,\n",
       "    verbose=False)"
      ]
     },
     "execution_count": 9,
     "metadata": {},
     "output_type": "execute_result"
    }
   ],
   "source": [
    "lasso_model = LassoCV(alphas=alphalist, n_jobs=-1)\n",
    "lasso_model.fit(X, Y)"
   ]
  },
  {
   "cell_type": "code",
   "execution_count": 10,
   "metadata": {},
   "outputs": [
    {
     "name": "stdout",
     "output_type": "stream",
     "text": [
      "[  4.86816116e-04   1.30116703e-03   4.97855026e-04   1.51973751e-03\n",
      "   4.34924083e-03  -4.49126487e-03   3.77636286e-03   2.79324776e-03\n",
      "  -4.50536253e-03  -0.00000000e+00  -0.00000000e+00   0.00000000e+00\n",
      "  -0.00000000e+00  -0.00000000e+00  -1.05336118e-03  -2.65623375e-03\n",
      "   1.36609689e-02  -1.90060787e-03   3.23700238e-03   5.41318711e-03\n",
      "   3.38666460e-03   7.48306632e-05  -1.48223217e-03   3.21094615e-03\n",
      "  -1.12261220e-04   4.31044152e-04  -7.26952650e-05  -1.26446960e-02\n",
      "  -4.09054876e-04   6.59019322e-04  -0.00000000e+00  -6.99188860e-07\n",
      "  -1.69534069e-03   1.62550655e-02   2.09017430e-02  -0.00000000e+00\n",
      "   1.84606831e-03   8.72668641e-04   5.47566341e-04   9.82220728e-04\n",
      "  -0.00000000e+00   1.31717135e-04   0.00000000e+00  -0.00000000e+00\n",
      "  -1.16252037e-04   7.35027836e-05   6.05067699e-05   3.72609349e-05\n",
      "  -1.59802622e-04  -4.30094214e-05   8.78332283e-05  -8.14453372e-05\n",
      "   1.30757610e-04  -0.00000000e+00   1.15709299e-04  -5.40531508e-04\n",
      "  -4.18114759e-04]\n",
      "0.0199041143254\n",
      "2.00923300257e-05\n"
     ]
    }
   ],
   "source": [
    "print(lasso_model.coef_)\n",
    "print(lasso_model.intercept_)\n",
    "print(lasso_model.alpha_)"
   ]
  },
  {
   "cell_type": "code",
   "execution_count": 11,
   "metadata": {},
   "outputs": [
    {
     "name": "stdout",
     "output_type": "stream",
     "text": [
      "0.249687707411\n"
     ]
    }
   ],
   "source": [
    "print(util.gini_scorer(lasso_model, X, Y))"
   ]
  },
  {
   "cell_type": "code",
   "execution_count": null,
   "metadata": {
    "collapsed": true
   },
   "outputs": [],
   "source": []
  }
 ],
 "metadata": {
  "kernelspec": {
   "display_name": "Python 2",
   "language": "python",
   "name": "python2"
  },
  "language_info": {
   "codemirror_mode": {
    "name": "ipython",
    "version": 2
   },
   "file_extension": ".py",
   "mimetype": "text/x-python",
   "name": "python",
   "nbconvert_exporter": "python",
   "pygments_lexer": "ipython2",
   "version": "2.7.14"
  }
 },
 "nbformat": 4,
 "nbformat_minor": 2
}
