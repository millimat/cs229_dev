{
 "cells": [
  {
   "cell_type": "code",
   "execution_count": 1,
   "metadata": {
    "collapsed": true
   },
   "outputs": [],
   "source": [
    "import numpy as np\n",
    "import util\n",
    "from sklearn.linear_model import RidgeCV, LassoCV"
   ]
  },
  {
   "cell_type": "code",
   "execution_count": 2,
   "metadata": {
    "collapsed": true
   },
   "outputs": [],
   "source": [
    "trainfile = 'data/train.csv'\n",
    "header, ids, X, Y = util.fetch_data(trainfile)"
   ]
  },
  {
   "cell_type": "code",
   "execution_count": 3,
   "metadata": {},
   "outputs": [
    {
     "data": {
      "text/plain": [
       "RidgeCV(alphas=array([  1.00000e-05,   1.26186e-05, ...,   7.92483e+04,   1.00000e+05]),\n",
       "    cv=None, fit_intercept=True, gcv_mode=None, normalize=False,\n",
       "    scoring=make_scorer(gini_normalized), store_cv_values=False)"
      ]
     },
     "execution_count": 3,
     "metadata": {},
     "output_type": "execute_result"
    }
   ],
   "source": [
    "alphalist = np.logspace(-5, 5, 100)\n",
    "ridge_model = RidgeCV(alphas=alphalist, scoring=util.gini_scorer)\n",
    "ridge_model.fit(X, Y)"
   ]
  },
  {
   "cell_type": "code",
   "execution_count": 4,
   "metadata": {},
   "outputs": [
    {
     "name": "stdout",
     "output_type": "stream",
     "text": [
      "[  4.94467525e-04   1.32903036e-03   5.05318920e-04   1.54752030e-03\n",
      "   4.35854634e-03  -3.94012140e-03   4.46311262e-03   3.51920347e-03\n",
      "  -4.04219469e-03  -1.58333271e-03  -1.54212586e-03   1.89216272e-03\n",
      "   2.20125880e-05  -1.21128326e-03  -1.06391959e-03  -3.14557912e-03\n",
      "   1.31744145e-02  -2.53288642e-03   3.50806095e-03   5.45158136e-03\n",
      "   3.34271409e-03   7.49940538e-05  -1.77821267e-03   3.15387565e-03\n",
      "  -8.88202284e-05   4.91197519e-04  -7.48065660e-05  -1.27067267e-02\n",
      "  -6.63357910e-04   7.04893054e-04  -1.54894388e-03  -5.89083720e-07\n",
      "  -1.72006691e-03   1.66677533e-02   1.98575730e-02  -9.22249440e-05\n",
      "   1.98570033e-03   1.10101091e-03   7.78440927e-04   1.20563284e-03\n",
      "  -1.02701133e-05   1.47420814e-04   7.30053587e-07  -3.20703206e-06\n",
      "  -1.25268100e-04   8.66145800e-05   6.27537785e-05   4.12908751e-05\n",
      "  -1.72541428e-04  -4.95963521e-05   9.03281277e-05  -2.66271750e-04\n",
      "   2.15601914e-04  -5.25731293e-05   2.11960133e-04  -6.25325058e-04\n",
      "  -5.66746227e-04]\n",
      "0.0216552191766\n",
      "756.463327555\n"
     ]
    }
   ],
   "source": [
    "print(ridge_model.coef_)\n",
    "print(ridge_model.intercept_)\n",
    "print(ridge_model.alpha_)"
   ]
  },
  {
   "cell_type": "code",
   "execution_count": 5,
   "metadata": {},
   "outputs": [
    {
     "name": "stdout",
     "output_type": "stream",
     "text": [
      "0.249642911518\n"
     ]
    }
   ],
   "source": [
    "print(util.gini_scorer(ridge_model, X, Y))"
   ]
  },
  {
   "cell_type": "code",
   "execution_count": 6,
   "metadata": {},
   "outputs": [
    {
     "data": {
      "text/plain": [
       "LassoCV(alphas=None, copy_X=True, cv=None, eps=0.001, fit_intercept=True,\n",
       "    max_iter=1000, n_alphas=100, n_jobs=-1, normalize=False,\n",
       "    positive=False, precompute='auto', random_state=None,\n",
       "    selection='cyclic', tol=0.0001, verbose=False)"
      ]
     },
     "execution_count": 6,
     "metadata": {},
     "output_type": "execute_result"
    }
   ],
   "source": [
    "lasso_model = LassoCV(n_jobs=-1)\n",
    "lasso_model.fit(X, Y)"
   ]
  },
  {
   "cell_type": "code",
   "execution_count": 7,
   "metadata": {},
   "outputs": [
    {
     "name": "stdout",
     "output_type": "stream",
     "text": [
      "[  5.00829950e-04   1.22380440e-03   4.93812795e-04   1.34439470e-03\n",
      "   4.33452681e-03  -4.55922238e-03   3.73740028e-03   2.69670603e-03\n",
      "  -4.41102441e-03  -0.00000000e+00  -0.00000000e+00   0.00000000e+00\n",
      "  -0.00000000e+00  -0.00000000e+00  -1.04566585e-03  -2.35899152e-03\n",
      "   1.38397988e-02  -1.45920590e-03   2.86347061e-03   5.41051858e-03\n",
      "   3.44217719e-03   8.79914374e-05  -1.61618175e-03   3.21462476e-03\n",
      "  -2.34776686e-05   4.14488203e-04  -5.84840786e-05  -1.24493437e-02\n",
      "  -1.29817077e-04   6.25802987e-04  -0.00000000e+00  -8.38217941e-07\n",
      "  -1.62135603e-03   4.11929661e-03   2.25383340e-02  -0.00000000e+00\n",
      "   1.61452863e-03   6.54204546e-04   3.31543823e-04   7.66498407e-04\n",
      "  -0.00000000e+00   1.17967206e-04   0.00000000e+00  -0.00000000e+00\n",
      "  -1.08464034e-04   6.18145182e-05   5.82755369e-05   3.30524634e-05\n",
      "  -1.47434973e-04  -3.65490019e-05   8.57763116e-05  -0.00000000e+00\n",
      "   5.51580501e-05  -0.00000000e+00   3.15952456e-05  -4.62521220e-04\n",
      "  -2.79981565e-04]\n",
      "0.0235819915451\n",
      "3.79161697636e-05\n"
     ]
    }
   ],
   "source": [
    "print(lasso_model.coef_)\n",
    "print(lasso_model.intercept_)\n",
    "print(lasso_model.alpha_)"
   ]
  },
  {
   "cell_type": "code",
   "execution_count": 8,
   "metadata": {},
   "outputs": [
    {
     "name": "stdout",
     "output_type": "stream",
     "text": [
      "0.249442513339\n"
     ]
    }
   ],
   "source": [
    "print(util.gini_scorer(lasso_model, X, Y))"
   ]
  },
  {
   "cell_type": "code",
   "execution_count": 9,
   "metadata": {},
   "outputs": [],
   "source": [
    "util.make_prediction(ridge_model, 'data/test.csv', 'predictions/ridge.csv')"
   ]
  },
  {
   "cell_type": "code",
   "execution_count": 10,
   "metadata": {},
   "outputs": [],
   "source": [
    "testfile = 'data/test.csv'\n",
    "outfile = 'predictions/lasso.csv'\n",
    "estimator = lasso_model\n",
    "predict_method = None\n",
    "\n",
    "_, ids, X_test, _ = util.fetch_data(testfile,train=False)\n",
    "ids = np.array(ids, dtype=np.int)\n",
    "Y_test = (estimator.predict(X_test) if predict_method == None\n",
    "          else predict_method(X_test))\n",
    "\n",
    "Y_test_normalized = Y_test - np.min(Y_test)\n",
    "Y_test_normalized /= np.max(Y_test_normalized)\n",
    "\n",
    "with open(outfile, 'w') as out:\n",
    "    out.write('id,target\\n')\n",
    "    for i in range(Y_test_normalized.shape[0]):\n",
    "        out.write('{},{}\\n'.format(ids[i], Y_test_normalized[i]))"
   ]
  },
  {
   "cell_type": "code",
   "execution_count": 11,
   "metadata": {},
   "outputs": [
    {
     "data": {
      "text/plain": [
       "1.0"
      ]
     },
     "execution_count": 11,
     "metadata": {},
     "output_type": "execute_result"
    }
   ],
   "source": []
  },
  {
   "cell_type": "code",
   "execution_count": 12,
   "metadata": {},
   "outputs": [
    {
     "data": {
      "text/plain": [
       "0.0"
      ]
     },
     "execution_count": 12,
     "metadata": {},
     "output_type": "execute_result"
    }
   ],
   "source": []
  },
  {
   "cell_type": "code",
   "execution_count": null,
   "metadata": {
    "collapsed": true
   },
   "outputs": [],
   "source": []
  }
 ],
 "metadata": {
  "kernelspec": {
   "display_name": "Python 2",
   "language": "python",
   "name": "python2"
  },
  "language_info": {
   "codemirror_mode": {
    "name": "ipython",
    "version": 2
   },
   "file_extension": ".py",
   "mimetype": "text/x-python",
   "name": "python",
   "nbconvert_exporter": "python",
   "pygments_lexer": "ipython2",
   "version": "2.7.14"
  }
 },
 "nbformat": 4,
 "nbformat_minor": 2
}
