{
 "cells": [
  {
   "cell_type": "code",
   "execution_count": 1,
   "metadata": {
    "collapsed": true
   },
   "outputs": [],
   "source": [
    "import numpy as np\n",
    "from sklearn.decomposition import PCA\n",
    "import util"
   ]
  },
  {
   "cell_type": "code",
   "execution_count": 2,
   "metadata": {
    "collapsed": true
   },
   "outputs": [],
   "source": [
    "trainfile = 'data/train.csv'\n",
    "header, ids, X, Y = util.fetch_data(trainfile)"
   ]
  },
  {
   "cell_type": "code",
   "execution_count": 4,
   "metadata": {},
   "outputs": [
    {
     "data": {
      "text/plain": [
       "(595212, 57)"
      ]
     },
     "execution_count": 4,
     "metadata": {},
     "output_type": "execute_result"
    }
   ],
   "source": [
    "X.shape"
   ]
  },
  {
   "cell_type": "code",
   "execution_count": 5,
   "metadata": {},
   "outputs": [
    {
     "name": "stdout",
     "output_type": "stream",
     "text": [
      "[[ 50.23310721  -2.27545105  -3.60376697 ...,  -0.41535216  -0.38558576\n",
      "   -0.35122465]\n",
      " [ 43.19649662   4.62720485   3.57688365 ...,  -0.43157948  -0.37836959\n",
      "    0.64105178]\n",
      " [  2.2034774    7.41346724  -6.06191578 ...,  -0.43376625  -0.38983816\n",
      "    0.64800654]\n",
      " ..., \n",
      " [ 31.26425418  -5.47112629  -5.89491649 ...,  -0.46027238   0.6177601\n",
      "   -0.34645506]\n",
      " [-38.79772872   4.33155366  -4.53726239 ...,  -0.42237695  -0.38182449\n",
      "   -0.3582173 ]\n",
      " [ 28.26020324  -6.53806397  -0.47218287 ...,   0.564719    -0.36642168\n",
      "   -0.34907886]]\n"
     ]
    }
   ],
   "source": [
    "pca = PCA(n_components=30, svd_solver='full') # explain 90% of variance\n",
    "Xt = pca.fit_transform(X)\n",
    "print(Xt)"
   ]
  },
  {
   "cell_type": "code",
   "execution_count": 6,
   "metadata": {},
   "outputs": [
    {
     "data": {
      "text/plain": [
       "array([  9.07732702e-01,   2.54234063e-02,   1.10337290e-02,\n",
       "         7.02687536e-03,   6.28341600e-03,   6.11974773e-03,\n",
       "         5.35864727e-03,   4.53274020e-03,   3.62930732e-03,\n",
       "         2.94262288e-03,   2.39246012e-03,   1.77464330e-03,\n",
       "         1.66653491e-03,   1.51185737e-03,   1.48285378e-03,\n",
       "         1.29501400e-03,   1.20521481e-03,   1.07276311e-03,\n",
       "         1.03952906e-03,   8.41552768e-04,   7.97304206e-04,\n",
       "         5.99047488e-04,   5.32279961e-04,   4.49106056e-04,\n",
       "         3.79446135e-04,   2.59014284e-04,   2.18484535e-04,\n",
       "         2.05772022e-04,   1.94589898e-04,   1.89224902e-04])"
      ]
     },
     "execution_count": 6,
     "metadata": {},
     "output_type": "execute_result"
    }
   ],
   "source": [
    "pca.explained_variance_ratio_"
   ]
  },
  {
   "cell_type": "markdown",
   "metadata": {},
   "source": [
    "This result is odd, because we certainly wouldn't expect that 90% of the variance in the training set can be explained by a single principal component. This may mean the training data isn't compatible with PCA."
   ]
  }
 ],
 "metadata": {
  "kernelspec": {
   "display_name": "Python 2",
   "language": "python",
   "name": "python2"
  },
  "language_info": {
   "codemirror_mode": {
    "name": "ipython",
    "version": 2
   },
   "file_extension": ".py",
   "mimetype": "text/x-python",
   "name": "python",
   "nbconvert_exporter": "python",
   "pygments_lexer": "ipython2",
   "version": "2.7.14"
  }
 },
 "nbformat": 4,
 "nbformat_minor": 2
}
