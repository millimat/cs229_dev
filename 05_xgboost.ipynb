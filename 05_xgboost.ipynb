{
 "cells": [
  {
   "cell_type": "code",
   "metadata": {},
   "outputs": [
    {
     "name": "stderr",
     "output_type": "stream",
     "text": [
      "/Users/laurazhang/anaconda/lib/python2.7/site-packages/sklearn/cross_validation.py:44: DeprecationWarning: This module was deprecated in version 0.18 in favor of the model_selection module into which all the refactored classes and functions are moved. Also note that the interface of the new CV iterators are different from that of this module. This module will be removed in 0.20.\n",
      "  \"This module will be removed in 0.20.\", DeprecationWarning)\n"
     ]
    }
   ],
   "source": [
    "import numpy as np\n",
    "import util\n",
    "from xgboost import XGBClassifier\n",
    "from sklearn.model_selection import train_test_split\n",
    "from sklearn.model_selection import GridSearchCV"
   ]
  },
  {
   "cell_type": "code",
   "execution_count": 6,
   "metadata": {
    "collapsed": true
   },
   "outputs": [],
   "source": [
    "trainfile = 'data/train.csv'\n",
    "header, ids, X, Y = util.fetch_data(trainfile)\n",
    "\n",
    "seed = 23\n",
    "test_size = 0.80\n",
    "X_train, X_test, y_train, y_test = train_test_split(X, Y, test_size=test_size, random_state=seed)"
   ]
  },
  {
   "cell_type": "markdown",
   "metadata": {},
   "source": [
    "# Basic Classifier\n",
    "with data split into training and dev sets"
   ]
  },
  {
   "cell_type": "code",
   "execution_count": null,
   "metadata": {
    "collapsed": true
   },
   "outputs": [],
   "source": [
    "xgb = XGBClassifier(objective='binary:logistic', max_depth=10)\n",
    "xgb.fit(X_train, y_train)"
   ]
  },
  {
   "cell_type": "code",
   "execution_count": 11,
   "metadata": {},
   "outputs": [
    {
     "name": "stdout",
     "output_type": "stream",
     "text": [
      "0.151970485915\n"
     ]
    }
   ],
   "source": [
    "# gini score for training data\n",
    "print(util.gini_normalized(y_train, xgb.predict(X_train)))"
   ]
  },
  {
   "cell_type": "code",
   "execution_count": 12,
   "metadata": {},
   "outputs": [
    {
     "name": "stdout",
     "output_type": "stream",
     "text": [
      "0.00590810496614\n"
     ]
    }
   ],
   "source": [
    "# gini score for dev data\n",
    "print(util.gini_normalized(y_test, xgb.predict(X_test)))"
   ]
  },
  {
   "cell_type": "code",
   "execution_count": null,
   "metadata": {
    "collapsed": true
   },
   "outputs": [],
   "source": [
    "xgb.fit(X, Y) # retrain with all of data\n",
    "util.make_prediction(xgb, 'data/test.csv', 'predictions/xgboost.csv')"
   ]
  },
  {
   "cell_type": "markdown",
   "metadata": {},
   "source": [
    "# Grid Search\n",
    "with full data set and 3-fold CV"
   ]
  },
  {
   "cell_type": "code",
   "execution_count": 14,
   "metadata": {},
   "outputs": [
    {
     "name": "stdout",
     "output_type": "stream",
     "text": [
      "0.00694068534706\n"
     ]
    }
   ],
   "source": [
    "params_to_try = {'max_depth': range(5,X.shape[1]+1, 10), 'learning_rate':np.linspace(0.05, 0.3, num=5)}\n",
    "c_validator = GridSearchCV(xgb, params_to_try, scoring=util.gini_scorer)\n",
    "c_validator.fit(X_train, y_train)\n",
    "\n",
    "print(util.gini_normalized(y_train, c_validator.predict(X_train)))"
   ]
  },
  {
   "cell_type": "code",
   "execution_count": null,
   "metadata": {
    "collapsed": true
   },
   "outputs": [],
   "source": [
    "import matplotlib.pyplot as plt\n",
    "from mpl_toolkits.mplot3d import Axes3D"
   ]
  },
  {
   "cell_type": "code",
   "execution_count": null,
   "metadata": {
    "collapsed": true
   },
   "outputs": [],
   "source": [
    "def plot_gridsearch(c_validator, param1, param2, param1name, param2name):\n",
    "    cv_results = c_validator.cv_results_\n",
    "    test_mean = cv_results['mean_test_score']\n",
    "    train_mean = cv_results['mean_train_score']\n",
    "    \n",
    "    x = np.tile(param2, len(param1))\n",
    "    y = np.repeat(param1, len(param2))\n",
    "    \n",
    "    fig = plt.figure()\n",
    "    ax1 = fig.add_subplot(111, projection='3d')\n",
    "    ax1.scatter(x, y, test_mean)\n",
    "    ax1.title(\"Grid Search Test Scores\")\n",
    "    ax1.xlabel(param2name)\n",
    "    ax1.ylabel(param1name)\n",
    "    \n",
    "    ax2 = fig.add_subplot(111, projection='3d')\n",
    "    ax2.scatter(x, y, train_mean)\n",
    "    ax2.title(\"Grid Search Training Scores\")\n",
    "    ax2.xlabel(param2name)\n",
    "    ax2.ylabel(param1name)\n",
    "    fig.show()"
   ]
  },
  {
   "cell_type": "code",
   "execution_count": null,
   "metadata": {
    "collapsed": true
   },
   "outputs": [],
   "source": [
    "plot_gridsearch(c_validator, params_to_try['learning_rate'], params_to_try['max_depth'], \"learning rate\", \"max_depth\")"
   ]
  },
  {
   "cell_type": "code",
   "execution_count": null,
   "metadata": {
    "collapsed": true
   },
   "outputs": [],
   "source": [
    "c_validator.best_params_"
   ]
  }
 ],
 "metadata": {
  "kernelspec": {
   "display_name": "Python [default]",
   "language": "python",
   "name": "python2"
  },
  "language_info": {
   "codemirror_mode": {
    "name": "ipython",
    "version": 2
   },
   "file_extension": ".py",
   "mimetype": "text/x-python",
   "name": "python",
   "nbconvert_exporter": "python",
   "pygments_lexer": "ipython2",
   "version": "2.7.13"
  }
 },
 "nbformat": 4,
 "nbformat_minor": 2
}
