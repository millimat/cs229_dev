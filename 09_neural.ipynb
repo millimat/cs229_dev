{
 "cells": [
  {
   "cell_type": "code",
   "execution_count": null,
   "metadata": {
    "collapsed": true
   },
   "outputs": [],
   "source": [
    "import numpy as np\n",
    "import scipy.stats\n",
    "import pickle\n",
    "import util\n",
    "import matplotlib.pyplot as plt\n",
    "from sklearn.neural_network import MLPClassifier\n",
    "from sklearn.model_selection import train_test_split, GridSearchCV, RandomizedSearchCV\n",
    "from sklearn.preprocessing import StandardScaler"
   ]
  },
  {
   "cell_type": "code",
   "execution_count": null,
   "metadata": {
    "collapsed": true
   },
   "outputs": [],
   "source": [
    "seed=229\n",
    "state = np.random.RandomState(seed)\n",
    "\n",
    "trainfile = 'data/train.csv'\n",
    "header, ids, X, Y = util.fetch_data(trainfile, impute=True)"
   ]
  },
  {
   "cell_type": "markdown",
   "metadata": {},
   "source": [
    "Neural nets need to work with standardized data:"
   ]
  },
  {
   "cell_type": "code",
   "execution_count": null,
   "metadata": {
    "collapsed": true
   },
   "outputs": [],
   "source": [
    "scaler = StandardScaler()\n",
    "scaler.fit(X)\n",
    "X = scaler.transform(X)\n",
    "\n",
    "test_size = 0.20\n",
    "X_train, X_test, y_train, y_test = train_test_split(X, Y, test_size=test_size, random_state=state)"
   ]
  },
  {
   "cell_type": "markdown",
   "metadata": {},
   "source": [
    "A function to determine the number of neurons in a hidden layer:"
   ]
  },
  {
   "cell_type": "code",
   "execution_count": null,
   "metadata": {
    "collapsed": true
   },
   "outputs": [],
   "source": [
    "# Based on https://stats.stackexchange.com/a/136542\n",
    "def num_hidden(a):\n",
    "    return int(m/(a * (n_inputs + n_outputs)))\n",
    "\n",
    "m = X.shape[0]\n",
    "n_inputs = X.shape[1]\n",
    "n_outputs = 1\n",
    "\n",
    "avals = range(2,10)"
   ]
  },
  {
   "cell_type": "markdown",
   "metadata": {},
   "source": [
    "# One hidden layer: Training\n",
    "Skip to `Evaluation` to produce plots and an output."
   ]
  },
  {
   "cell_type": "code",
   "execution_count": null,
   "metadata": {
    "collapsed": true,
    "scrolled": true
   },
   "outputs": [],
   "source": [
    "params = {'solver': ['adam'],\n",
    "        'hidden_layer_sizes': [(n,) for n in np.arange(100,300,20)],\n",
    "        'activation': ['logistic'], \n",
    "        'alpha': np.logspace(-7, -2, 10),\n",
    "        'early_stopping': [True, False], \n",
    "        #'warm_start': True,\n",
    "       }\n",
    "\n",
    "mlp_onelayer = MLPClassifier(verbose=False)\n",
    "cv_onelayer = GridSearchCV(mlp_onelayer, param_grid=params, scoring=util.gini_proba_scorer, n_jobs=-1,\n",
    "                          verbose=2)\n",
    "cv_onelayer.fit(X, Y)"
   ]
  },
  {
   "cell_type": "code",
   "execution_count": null,
   "metadata": {
    "collapsed": true
   },
   "outputs": [],
   "source": [
    "mlp_onelayer_out = open('models/multilayer_perceptron_onelayer.pickle', 'wb')\n",
    "pickle.dump(cv_onelayer.best_estimator_, mlp_onelayer_out)\n",
    "mlp_onelayer_out.close()"
   ]
  },
  {
   "cell_type": "markdown",
   "metadata": {},
   "source": [
    "# One hidden layer: Evaluation"
   ]
  },
  {
   "cell_type": "code",
   "execution_count": null,
   "metadata": {},
   "outputs": [],
   "source": [
    "mlp_onelayer = pickle.load(open('models/multilayer_perceptron_onelayer.pickle'))"
   ]
  },
  {
   "cell_type": "code",
   "execution_count": null,
   "metadata": {},
   "outputs": [],
   "source": [
    "trainsizes, traingini, testgini = util.learning_curves(mlp_onelayer, X_train, X_test, y_train, y_test,\n",
    "                                                      scorer=util.gini_proba_scorer)\n",
    "print(traingini)\n",
    "print('')\n",
    "print(testgini)"
   ]
  },
  {
   "cell_type": "code",
   "execution_count": null,
   "metadata": {
    "collapsed": true
   },
   "outputs": [],
   "source": [
    "plt.figure()\n",
    "plt.plot(trainsizes, traingini, label='train gini')\n",
    "plt.plot(trainsizes, testgini, label='test gini')\n",
    "plt.xlabel('Training set size')\n",
    "plt.ylabel('Normalized Gini coefficient')\n",
    "plt.title('Multi-layer perceptron, one hidden layer')\n",
    "plt.legend()\n",
    "plt.savefig('figures/learning_curves/mlp_onelayer.eps', format='eps', dpi=1000)"
   ]
  },
  {
   "cell_type": "code",
   "execution_count": null,
   "metadata": {},
   "outputs": [],
   "source": [
    "plt.show()"
   ]
  },
  {
   "cell_type": "markdown",
   "metadata": {},
   "source": [
    "# One hidden layer: Output"
   ]
  },
  {
   "cell_type": "code",
   "execution_count": null,
   "metadata": {},
   "outputs": [],
   "source": [
    "mlp_onelayer.fit(X, Y)\n",
    "print(util.gini_proba_scorer(mlp_onelayer, X, Y))"
   ]
  },
  {
   "cell_type": "code",
   "execution_count": null,
   "metadata": {},
   "outputs": [],
   "source": [
    "testfile = 'data/test.csv'\n",
    "util.make_prediction(mlp_onelayer, testfile, 'predictions/mlp_onelayer.csv', scaler=scaler,\n",
    "                     predict_method=util.proba_method(mlp_onelayer))"
   ]
  },
  {
   "cell_type": "markdown",
   "metadata": {},
   "source": [
    "# Two hidden layers: Training"
   ]
  },
  {
   "cell_type": "code",
   "execution_count": null,
   "metadata": {
    "collapsed": true
   },
   "outputs": [],
   "source": [
    "params = {'solver': ['adam'],\n",
    "        'hidden_layer_sizes': [(n, int(np.sqrt(n))) for n in np.arange(100,320,20)],\n",
    "        'activation': ['relu', 'logistic'], \n",
    "        'alpha': np.logspace(-7, -2, 10),\n",
    "        'early_stopping': [True, False], \n",
    "        #'warm_start': True,\n",
    "       }\n",
    "\n",
    "mlp_twolayer = MLPClassifier(verbose=False)\n",
    "cv_twolayer = GridSearchCV(mlp_twolayer, param_grid=params, scoring=util.gini_proba_scorer, n_jobs=-1,\n",
    "                          verbose=2)\n",
    "cv_twolayer.fit(X, Y)"
   ]
  },
  {
   "cell_type": "code",
   "execution_count": null,
   "metadata": {
    "collapsed": true
   },
   "outputs": [],
   "source": [
    "mlp_twolayer_out = open('models/multilayer_perceptron_twolayer.pickle', 'wb')\n",
    "pickle.dump(cv_twolayer.best_estimator_, mlp_twolayer_out)\n",
    "mlp_twolayer_out.close()"
   ]
  },
  {
   "cell_type": "markdown",
   "metadata": {},
   "source": [
    "# Two hidden layers: Evaluation"
   ]
  },
  {
   "cell_type": "code",
   "execution_count": null,
   "metadata": {
    "collapsed": true
   },
   "outputs": [],
   "source": [
    "mlp_twolayer = pickle.load(open('models/multilayer_perceptron_twolayer.pickle'))"
   ]
  },
  {
   "cell_type": "code",
   "execution_count": null,
   "metadata": {},
   "outputs": [],
   "source": [
    "trainsizes, traingini, testgini = util.learning_curves(mlp_twolayer, X_train, X_test, y_train, y_test,\n",
    "                                                      scorer=util.gini_proba_scorer)\n",
    "print(traingini)\n",
    "print('')\n",
    "print(testgini)"
   ]
  },
  {
   "cell_type": "code",
   "execution_count": null,
   "metadata": {
    "collapsed": true
   },
   "outputs": [],
   "source": [
    "plt.figure()\n",
    "plt.plot(trainsizes, traingini, label='train gini')\n",
    "plt.plot(trainsizes, testgini, label='test gini')\n",
    "plt.xlabel('Training set size')\n",
    "plt.ylabel('Normalized Gini coefficient')\n",
    "plt.title('Multi-layer perceptron, two hidden layers')\n",
    "plt.legend()\n",
    "plt.savefig('figures/learning_curves/mlp_twolayer.eps', format='eps', dpi=1000)"
   ]
  },
  {
   "cell_type": "markdown",
   "metadata": {},
   "source": [
    "# Two hidden layers: Output"
   ]
  },
  {
   "cell_type": "code",
   "execution_count": null,
   "metadata": {},
   "outputs": [],
   "source": [
    "mlp_twolayer.fit(X, Y)\n",
    "print(util.gini_proba_scorer(mlp_twolayer, X, Y))"
   ]
  },
  {
   "cell_type": "code",
   "execution_count": null,
   "metadata": {
    "collapsed": true
   },
   "outputs": [],
   "source": [
    "testfile = 'data/test.csv'\n",
    "util.make_prediction(mlp_twolayer, testfile, 'predictions/mlp_twolayer.csv', scaler=scaler,\n",
    "                     predict_method=util.proba_method(mlp_twolayer))"
   ]
  }
 ],
 "metadata": {
  "kernelspec": {
   "display_name": "Python 2",
   "language": "python",
   "name": "python2"
  },
  "language_info": {
   "codemirror_mode": {
    "name": "ipython",
    "version": 2
   },
   "file_extension": ".py",
   "mimetype": "text/x-python",
   "name": "python",
   "nbconvert_exporter": "python",
   "pygments_lexer": "ipython2",
   "version": "2.7.14"
  }
 },
 "nbformat": 4,
 "nbformat_minor": 2
}
