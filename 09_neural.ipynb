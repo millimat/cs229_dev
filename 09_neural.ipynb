{
 "cells": [
  {
   "cell_type": "code",
   "execution_count": 1,
   "metadata": {
    "collapsed": true
   },
   "outputs": [],
   "source": [
    "import numpy as np\n",
    "import scipy.stats\n",
    "import pickle\n",
    "import util\n",
    "import matplotlib.pyplot as plt\n",
    "from sklearn.neural_network import MLPClassifier\n",
    "from sklearn.model_selection import train_test_split, GridSearchCV, RandomizedSearchCV\n",
    "from sklearn.preprocessing import StandardScaler"
   ]
  },
  {
   "cell_type": "code",
   "execution_count": 2,
   "metadata": {
    "collapsed": true
   },
   "outputs": [],
   "source": [
    "seed=229\n",
    "state = np.random.RandomState(seed)\n",
    "\n",
    "trainfile = 'data/train.csv'\n",
    "header, ids, X, Y = util.fetch_data(trainfile, impute=True)"
   ]
  },
  {
   "cell_type": "markdown",
   "metadata": {},
   "source": [
    "Neural nets need to work with standardized data:"
   ]
  },
  {
   "cell_type": "code",
   "execution_count": 3,
   "metadata": {
    "collapsed": true
   },
   "outputs": [],
   "source": [
    "scaler = StandardScaler()\n",
    "scaler.fit(X)\n",
    "X = scaler.transform(X)\n",
    "\n",
    "test_size = 0.20\n",
    "X_train, X_test, y_train, y_test = train_test_split(X, Y, test_size=test_size, random_state=state)"
   ]
  },
  {
   "cell_type": "markdown",
   "metadata": {},
   "source": [
    "A function to determine the number of neurons in a hidden layer:"
   ]
  },
  {
   "cell_type": "code",
   "execution_count": null,
   "metadata": {
    "collapsed": true
   },
   "outputs": [],
   "source": [
    "# Based on https://stats.stackexchange.com/a/136542\n",
    "def num_hidden(a):\n",
    "    return int(m/(a * (n_inputs + n_outputs)))\n",
    "\n",
    "m = X.shape[0]\n",
    "n_inputs = X.shape[1]\n",
    "n_outputs = 1\n",
    "\n",
    "avals = range(2,10)"
   ]
  },
  {
   "cell_type": "markdown",
   "metadata": {},
   "source": [
    "# One hidden layer: Training\n",
    "Skip to `Evaluation` to produce plots and an output."
   ]
  },
  {
   "cell_type": "code",
   "execution_count": null,
   "metadata": {
    "collapsed": true,
    "scrolled": true
   },
   "outputs": [],
   "source": [
    "params = {'solver': ['adam'],\n",
    "        'hidden_layer_sizes': [(n,) for n in np.arange(100,300,20)],\n",
    "        'activation': ['logistic'], \n",
    "        'alpha': np.logspace(-7, -2, 10),\n",
    "        'early_stopping': [True, False], \n",
    "        #'warm_start': True,\n",
    "       }\n",
    "\n",
    "mlp_onelayer = MLPClassifier(verbose=False)\n",
    "cv_onelayer = GridSearchCV(mlp_onelayer, param_grid=params, scoring=util.gini_proba_scorer, n_jobs=-1,\n",
    "                          verbose=2)\n",
    "cv_onelayer.fit(X, Y)"
   ]
  },
  {
   "cell_type": "code",
   "execution_count": null,
   "metadata": {
    "collapsed": true
   },
   "outputs": [],
   "source": [
    "mlp_onelayer_out = open('models/multilayer_perceptron_onelayer.pickle', 'wb')\n",
    "pickle.dump(cv_onelayer.best_estimator_, mlp_onelayer_out)\n",
    "mlp_onelayer_out.close()"
   ]
  },
  {
   "cell_type": "markdown",
   "metadata": {},
   "source": [
    "# One hidden layer: Evaluation"
   ]
  },
  {
   "cell_type": "code",
   "execution_count": 4,
   "metadata": {},
   "outputs": [
    {
     "name": "stdout",
     "output_type": "stream",
     "text": [
      "MLPClassifier(activation='logistic', alpha=0.00077426368268112774,\n",
      "       batch_size='auto', beta_1=0.9, beta_2=0.999, early_stopping=False,\n",
      "       epsilon=1e-08, hidden_layer_sizes=(220,), learning_rate='constant',\n",
      "       learning_rate_init=0.001, max_iter=200, momentum=0.9,\n",
      "       nesterovs_momentum=True, power_t=0.5, random_state=None,\n",
      "       shuffle=True, solver='adam', tol=0.0001, validation_fraction=0.1,\n",
      "       verbose=False, warm_start=False)\n"
     ]
    },
    {
     "name": "stderr",
     "output_type": "stream",
     "text": [
      "/Users/Matthew/anaconda2/lib/python2.7/site-packages/sklearn/base.py:311: UserWarning: Trying to unpickle estimator LabelBinarizer from version 0.18.1 when using version 0.19.1. This might lead to breaking code or invalid results. Use at your own risk.\n",
      "  UserWarning)\n",
      "/Users/Matthew/anaconda2/lib/python2.7/site-packages/sklearn/base.py:311: UserWarning: Trying to unpickle estimator MLPClassifier from version 0.18.1 when using version 0.19.1. This might lead to breaking code or invalid results. Use at your own risk.\n",
      "  UserWarning)\n"
     ]
    }
   ],
   "source": [
    "mlp_onelayer = pickle.load(open('models/multilayer_perceptron_onelayer.pickle'))\n",
    "print(mlp_onelayer)"
   ]
  },
  {
   "cell_type": "code",
   "execution_count": 5,
   "metadata": {},
   "outputs": [
    {
     "name": "stdout",
     "output_type": "stream",
     "text": [
      "Evaluating model on training set size 23808\n",
      "Evaluating model on training set size 47616\n",
      "Evaluating model on training set size 71425\n",
      "Evaluating model on training set size 95233\n",
      "Evaluating model on training set size 119042\n",
      "Evaluating model on training set size 142850\n",
      "Evaluating model on training set size 166659\n",
      "Evaluating model on training set size 190467\n",
      "Evaluating model on training set size 214276\n",
      "Evaluating model on training set size 238084\n",
      "Evaluating model on training set size 261892\n",
      "Evaluating model on training set size 285701\n",
      "Evaluating model on training set size 309509\n",
      "Evaluating model on training set size 333318\n",
      "Evaluating model on training set size 357126\n",
      "Evaluating model on training set size 380935\n",
      "Evaluating model on training set size 404743\n",
      "Evaluating model on training set size 428552\n",
      "Evaluating model on training set size 452360\n",
      "Evaluating model on training set size 476169\n",
      "[0.22809618090484143, 0.24590280518970292, 0.23286643528248427, 0.23108552718362113, 0.23931837896766323, 0.23921521048442818, 0.22961081805754038, 0.23828294490616561, 0.23514877826583239, 0.23536240992612237, 0.23790817415882209, 0.24028167660720368, 0.2425091104119429, 0.25057639403452564, 0.24338703984071952, 0.2448061018331647, 0.24812619584207071, 0.24824133936204623, 0.28582783032165709, 0.26736403877514436]\n",
      "\n",
      "[0.19696526757107463, 0.20017402611319327, 0.21099124752454909, 0.21727555227072121, 0.22215574707942384, 0.22685912734417568, 0.21522142927857663, 0.21843259354110295, 0.2172935341448663, 0.22297725138182836, 0.2257005977557677, 0.22348234635904032, 0.22810550313228725, 0.23119283382272476, 0.22476325270030506, 0.2246375843234534, 0.22753365039809603, 0.23155549125251706, 0.24263699542199685, 0.23228286534577314]\n"
     ]
    }
   ],
   "source": [
    "trainsizes, traingini, testgini = util.learning_curves(mlp_onelayer, X_train, X_test, y_train, y_test,\n",
    "                                                      scorer=util.gini_proba_scorer)\n",
    "print(traingini)\n",
    "print('')\n",
    "print(testgini)"
   ]
  },
  {
   "cell_type": "code",
   "execution_count": 6,
   "metadata": {
    "collapsed": true
   },
   "outputs": [],
   "source": [
    "plt.figure()\n",
    "plt.plot(trainsizes, traingini, label='train gini')\n",
    "plt.plot(trainsizes, testgini, label='test gini')\n",
    "plt.xlabel('Training set size')\n",
    "plt.ylabel('Normalized Gini coefficient')\n",
    "plt.title('Multi-layer perceptron, one hidden layer')\n",
    "plt.legend()\n",
    "plt.savefig('figures/learning_curves/mlp_onelayer.eps', format='eps', dpi=1000)"
   ]
  },
  {
   "cell_type": "code",
   "execution_count": 7,
   "metadata": {},
   "outputs": [
    {
     "data": {
      "image/png": "[encoded data removed]",
      "text/plain": [
       "<matplotlib.figure.Figure at 0x1a1bdc4590>"
      ]
     },
     "metadata": {},
     "output_type": "display_data"
    }
   ],
   "source": [
    "plt.show()"
   ]
  },
  {
   "cell_type": "markdown",
   "metadata": {},
   "source": [
    "# One hidden layer: Output"
   ]
  },
  {
   "cell_type": "code",
   "execution_count": null,
   "metadata": {
    "collapsed": true
   },
   "outputs": [],
   "source": [
    "mlp_onelayer.fit(X, Y)\n",
    "print(util.gini_proba_scorer(mlp_onelayer, X, Y))"
   ]
  },
  {
   "cell_type": "code",
   "execution_count": null,
   "metadata": {
    "collapsed": true
   },
   "outputs": [],
   "source": [
    "testfile = 'data/test.csv'\n",
    "util.make_prediction(mlp_onelayer, testfile, 'predictions/mlp_onelayer.csv', scaler=scaler,\n",
    "                     predict_method=util.proba_method(mlp_onelayer))"
   ]
  },
  {
   "cell_type": "markdown",
   "metadata": {},
   "source": [
    "# Two hidden layers: Training"
   ]
  },
  {
   "cell_type": "code",
   "execution_count": null,
   "metadata": {
    "collapsed": true
   },
   "outputs": [],
   "source": [
    "params = {'solver': ['adam'],\n",
    "        'hidden_layer_sizes': [(n, int(np.sqrt(n))) for n in np.arange(100,320,20)],\n",
    "        'activation': ['relu', 'logistic'], \n",
    "        'alpha': np.logspace(-7, -2, 10),\n",
    "        'early_stopping': [True, False], \n",
    "        #'warm_start': True,\n",
    "       }\n",
    "\n",
    "mlp_twolayer = MLPClassifier(verbose=False)\n",
    "cv_twolayer = GridSearchCV(mlp_twolayer, param_grid=params, scoring=util.gini_proba_scorer, n_jobs=-1,\n",
    "                          verbose=2)\n",
    "cv_twolayer.fit(X, Y)"
   ]
  },
  {
   "cell_type": "code",
   "execution_count": null,
   "metadata": {
    "collapsed": true
   },
   "outputs": [],
   "source": [
    "mlp_twolayer_out = open('models/multilayer_perceptron_twolayer.pickle', 'wb')\n",
    "pickle.dump(cv_twolayer.best_estimator_, mlp_twolayer_out)\n",
    "mlp_twolayer_out.close()"
   ]
  },
  {
   "cell_type": "markdown",
   "metadata": {},
   "source": [
    "# Two hidden layers: Evaluation"
   ]
  },
  {
   "cell_type": "code",
   "execution_count": 8,
   "metadata": {},
   "outputs": [
    {
     "name": "stdout",
     "output_type": "stream",
     "text": [
      "MLPClassifier(activation='logistic', alpha=1.2915496650148827e-06,\n",
      "       batch_size='auto', beta_1=0.9, beta_2=0.999, early_stopping=False,\n",
      "       epsilon=1e-08, hidden_layer_sizes=(100, 10),\n",
      "       learning_rate='constant', learning_rate_init=0.001, max_iter=200,\n",
      "       momentum=0.9, nesterovs_momentum=True, power_t=0.5,\n",
      "       random_state=None, shuffle=True, solver='adam', tol=0.0001,\n",
      "       validation_fraction=0.1, verbose=False, warm_start=False)\n"
     ]
    }
   ],
   "source": [
    "mlp_twolayer = pickle.load(open('models/multilayer_perceptron_twolayer.pickle'))\n",
    "print(mlp_twolayer)"
   ]
  },
  {
   "cell_type": "code",
   "execution_count": 9,
   "metadata": {},
   "outputs": [
    {
     "name": "stdout",
     "output_type": "stream",
     "text": [
      "Evaluating model on training set size 23808\n",
      "Evaluating model on training set size 47616\n"
     ]
    },
    {
     "name": "stderr",
     "output_type": "stream",
     "text": [
      "/Users/Matthew/anaconda2/lib/python2.7/site-packages/sklearn/neural_network/multilayer_perceptron.py:564: ConvergenceWarning: Stochastic Optimizer: Maximum iterations (200) reached and the optimization hasn't converged yet.\n",
      "  % self.max_iter, ConvergenceWarning)\n"
     ]
    },
    {
     "name": "stdout",
     "output_type": "stream",
     "text": [
      "Evaluating model on training set size 71425\n",
      "Evaluating model on training set size 95233\n",
      "Evaluating model on training set size 119042\n",
      "Evaluating model on training set size 142850\n",
      "Evaluating model on training set size 166659\n",
      "Evaluating model on training set size 190467\n",
      "Evaluating model on training set size 214276\n",
      "Evaluating model on training set size 238084\n",
      "Evaluating model on training set size 261892\n",
      "Evaluating model on training set size 285701\n",
      "Evaluating model on training set size 309509\n",
      "Evaluating model on training set size 333318\n",
      "Evaluating model on training set size 357126\n",
      "Evaluating model on training set size 380935\n",
      "Evaluating model on training set size 404743\n",
      "Evaluating model on training set size 428552\n",
      "Evaluating model on training set size 452360\n",
      "Evaluating model on training set size 476169\n",
      "[0.1991431510937873, 0.98915020561260314, 0.93387669662751005, 0.2500903232402179, 0.7976567983484053, 0.73769262901807897, 0.70783424177517418, 0.67027630286374607, 0.65565137012797181, 0.25696866085853604, 0.62806923307813856, 0.60451315002457173, 0.58137144463162405, 0.55054789279926364, 0.53838354367677987, 0.52964888830466328, 0.51449804175681846, 0.51555871434922818, 0.49728288312571028, 0.4911233990874333]\n",
      "\n",
      "[0.17790215794144304, 0.011277284924894384, -0.024488465881781846, 0.22200133211550604, 0.015619996121238417, 0.03249502232429792, 0.042187669847404421, 0.044842624464414206, 0.069579064603617402, 0.22866862676313318, 0.094143548887876807, 0.10914461732697654, 0.11041796002028136, 0.13202147890177701, 0.13536469792168115, 0.13290490983359918, 0.14287328598917579, 0.15025090994504189, 0.14807495749158972, 0.15933109491352124]\n"
     ]
    }
   ],
   "source": [
    "trainsizes, traingini, testgini = util.learning_curves(mlp_twolayer, X_train, X_test, y_train, y_test,\n",
    "                                                      scorer=util.gini_proba_scorer)\n",
    "print(traingini)\n",
    "print('')\n",
    "print(testgini)"
   ]
  },
  {
   "cell_type": "code",
   "execution_count": 10,
   "metadata": {
    "collapsed": true
   },
   "outputs": [],
   "source": [
    "plt.figure()\n",
    "plt.plot(trainsizes, traingini, label='train gini')\n",
    "plt.plot(trainsizes, testgini, label='test gini')\n",
    "plt.xlabel('Training set size')\n",
    "plt.ylabel('Normalized Gini coefficient')\n",
    "plt.title('Multi-layer perceptron, two hidden layers')\n",
    "plt.legend()\n",
    "plt.savefig('figures/learning_curves/mlp_twolayer.eps', format='eps', dpi=1000)"
   ]
  },
  {
   "cell_type": "code",
   "execution_count": 11,
   "metadata": {},
   "outputs": [
    {
     "data": {
      "image/png": "[encoded data removed]",
      "text/plain": [
       "<matplotlib.figure.Figure at 0x11475fa50>"
      ]
     },
     "metadata": {},
     "output_type": "display_data"
    }
   ],
   "source": [
    "plt.show()"
   ]
  },
  {
   "cell_type": "markdown",
   "metadata": {},
   "source": [
    "# Two hidden layers: Output"
   ]
  },
  {
   "cell_type": "code",
   "execution_count": null,
   "metadata": {
    "collapsed": true
   },
   "outputs": [],
   "source": [
    "mlp_twolayer.fit(X, Y)\n",
    "print(util.gini_proba_scorer(mlp_twolayer, X, Y))"
   ]
  },
  {
   "cell_type": "code",
   "execution_count": null,
   "metadata": {
    "collapsed": true
   },
   "outputs": [],
   "source": [
    "testfile = 'data/test.csv'\n",
    "util.make_prediction(mlp_twolayer, testfile, 'predictions/mlp_twolayer.csv', scaler=scaler,\n",
    "                     predict_method=util.proba_method(mlp_twolayer))"
   ]
  }
 ],
 "metadata": {
  "kernelspec": {
   "display_name": "Python 2",
   "language": "python",
   "name": "python2"
  },
  "language_info": {
   "codemirror_mode": {
    "name": "ipython",
    "version": 2
   },
   "file_extension": ".py",
   "mimetype": "text/x-python",
   "name": "python",
   "nbconvert_exporter": "python",
   "pygments_lexer": "ipython2",
   "version": "2.7.14"
  }
 },
 "nbformat": 4,
 "nbformat_minor": 2
}
