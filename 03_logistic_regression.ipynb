{
 "cells": [
  {
   "cell_type": "code",
   "execution_count": 1,
   "metadata": {
    "collapsed": true
   },
   "outputs": [],
   "source": [
    "import numpy as np\n",
    "import util\n",
    "import sklearn.linear_model"
   ]
  },
  {
   "cell_type": "code",
   "execution_count": 2,
   "metadata": {
    "collapsed": true
   },
   "outputs": [],
   "source": [
    "trainfile = 'data/train.csv'\n",
    "header, X, Y = util.fetch_data(trainfile)"
   ]
  },
  {
   "cell_type": "code",
   "execution_count": 10,
   "metadata": {},
   "outputs": [
    {
     "data": {
      "text/plain": [
       "LogisticRegression(C=1.0, class_weight=None, dual=False, fit_intercept=True,\n",
       "          intercept_scaling=1, max_iter=100, multi_class='ovr', n_jobs=1,\n",
       "          penalty='l2', random_state=None, solver='liblinear', tol=0.0001,\n",
       "          verbose=0, warm_start=False)"
      ]
     },
     "execution_count": 10,
     "metadata": {},
     "output_type": "execute_result"
    }
   ],
   "source": [
    "logreg_model = sklearn.linear_model.LogisticRegression()\n",
    "logreg_model.fit(X, Y)"
   ]
  },
  {
   "cell_type": "code",
   "execution_count": 11,
   "metadata": {},
   "outputs": [
    {
     "name": "stdout",
     "output_type": "stream",
     "text": [
      "[[  1.41171228e-02   3.64722487e-02   1.26399957e-02   4.05171359e-02\n",
      "    1.02024050e-01  -9.25781313e-01  -6.77261261e-01  -6.81849372e-01\n",
      "   -9.03470425e-01  -1.16689436e-01  -2.90040505e-02   5.32909367e-02\n",
      "    2.32084050e-02  -6.91941448e-02  -2.98584477e-02  -9.59722846e-02\n",
      "    2.86129156e-01  -6.92509655e-02   1.41736904e-01   1.10384842e-01\n",
      "    1.02848337e-01   1.20044344e-03  -4.16439252e-02   7.25050528e-02\n",
      "   -5.58631919e-03   2.34323364e-02  -1.95027250e-03  -2.35108988e-01\n",
      "   -2.98404617e-02   2.20956841e-02  -1.00349699e-01  -1.64383247e-04\n",
      "   -5.20719596e-02   1.24555502e+00   2.00753845e-01  -5.02591896e-03\n",
      "    1.29795011e-01   3.17046499e-02   2.12664971e-02   3.44785007e-02\n",
      "   -4.75059556e-04   4.19306894e-03  -1.15728644e-03  -5.03776895e-04\n",
      "   -4.82841179e-03   2.18833947e-03   1.61084395e-03   9.76125057e-04\n",
      "   -5.12050565e-03  -1.76530336e-03   2.29882785e-03  -7.30041252e-03\n",
      "    6.01638704e-03  -2.44513031e-03   6.10556807e-03  -1.89945819e-02\n",
      "   -1.68195052e-02]]\n",
      "[-3.18836237]\n"
     ]
    }
   ],
   "source": [
    "print(logreg_model.coef_)\n",
    "print(logreg_model.intercept_)"
   ]
  },
  {
   "cell_type": "code",
   "execution_count": 17,
   "metadata": {},
   "outputs": [
    {
     "name": "stdout",
     "output_type": "stream",
     "text": [
      "0.24713039725\n"
     ]
    }
   ],
   "source": [
    "print(util.gini_normalized(Y, logreg_model.predict_proba(X)[:,1]))"
   ]
  }
 ],
 "metadata": {
  "kernelspec": {
   "display_name": "Python 2",
   "language": "python",
   "name": "python2"
  },
  "language_info": {
   "codemirror_mode": {
    "name": "ipython",
    "version": 2
   },
   "file_extension": ".py",
   "mimetype": "text/x-python",
   "name": "python",
   "nbconvert_exporter": "python",
   "pygments_lexer": "ipython2",
   "version": "2.7.14"
  }
 },
 "nbformat": 4,
 "nbformat_minor": 2
}
