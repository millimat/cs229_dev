{
 "cells": [
  {
   "cell_type": "code",
   "execution_count": 1,
   "metadata": {
    "collapsed": true
   },
   "outputs": [],
   "source": [
    "import numpy as np\n",
    "import util\n",
    "import sklearn.linear_model\n",
    "import matplotlib.pyplot as plt\n",
    "from sklearn.model_selection import train_test_split\n"
   ]
  },
  {
   "cell_type": "code",
   "execution_count": 2,
   "metadata": {
    "collapsed": true
   },
   "outputs": [],
   "source": [
    "trainfile = 'data/train.csv'\n",
    "header, ids, X, Y = util.fetch_data(trainfile)\n",
    "\n",
    "seed=229\n",
    "np.random.seed(seed)\n",
    "\n",
    "test_size = 0.20\n",
    "X_train, X_test, y_train, y_test = train_test_split(X, Y, test_size=test_size, random_state=seed)"
   ]
  },
  {
   "cell_type": "code",
   "execution_count": 3,
   "metadata": {},
   "outputs": [
    {
     "data": {
      "text/plain": [
       "LogisticRegression(C=1.0, class_weight=None, dual=False, fit_intercept=True,\n",
       "          intercept_scaling=1, max_iter=100, multi_class='ovr', n_jobs=1,\n",
       "          penalty='l2', random_state=None, solver='liblinear', tol=0.0001,\n",
       "          verbose=0, warm_start=False)"
      ]
     },
     "execution_count": 3,
     "metadata": {},
     "output_type": "execute_result"
    }
   ],
   "source": [
    "logreg_model = sklearn.linear_model.LogisticRegression()\n",
    "logreg_model.fit(X_train, y_train)"
   ]
  },
  {
   "cell_type": "code",
   "execution_count": 4,
   "metadata": {},
   "outputs": [
    {
     "name": "stdout",
     "output_type": "stream",
     "text": [
      "[[  1.74976974e-02   3.03317054e-02   1.42935862e-02   3.88325609e-02\n",
      "    1.03099969e-01  -9.46444214e-01  -6.88203261e-01  -7.09006669e-01\n",
      "   -9.19474611e-01  -1.39711918e-01   3.84763070e-02   4.72114011e-02\n",
      "   -2.17960426e-02  -7.58202528e-02  -2.95261844e-02  -1.23503157e-01\n",
      "    2.57473668e-01  -8.00223332e-02   1.57394678e-01   1.15344990e-01\n",
      "    1.01694849e-01  -1.68762941e-03  -4.23446768e-02   6.88662710e-02\n",
      "   -2.18655500e-03   2.57597350e-02  -2.75042021e-03  -2.38493154e-01\n",
      "   -2.24462877e-02   2.72469792e-02  -4.33162486e-02   4.25604540e-05\n",
      "   -5.20001554e-02   1.24530159e+00   1.68170091e-01  -6.43127686e-03\n",
      "    1.35502566e-01   5.08710108e-02   3.57137530e-02   2.76412453e-02\n",
      "    2.93019394e-03   1.04500977e-02  -1.02540060e-03   1.97004989e-03\n",
      "   -5.18091063e-03   1.32574143e-03   1.99797750e-03  -2.99416632e-04\n",
      "   -5.86044390e-03   2.69445245e-03   2.20107960e-03  -5.76092002e-03\n",
      "   -4.75471880e-03   1.40475827e-02   1.03433432e-02  -1.44449656e-02\n",
      "   -2.30196698e-02]]\n",
      "[-3.26312875]\n"
     ]
    }
   ],
   "source": [
    "print(logreg_model.coef_)\n",
    "print(logreg_model.intercept_)"
   ]
  },
  {
   "cell_type": "code",
   "execution_count": 5,
   "metadata": {},
   "outputs": [
    {
     "name": "stdout",
     "output_type": "stream",
     "text": [
      "0.250139789454\n"
     ]
    }
   ],
   "source": [
    "print(util.gini_normalized(y_train, logreg_model.predict_proba(X_train)[:,1]))"
   ]
  },
  {
   "cell_type": "code",
   "execution_count": 6,
   "metadata": {},
   "outputs": [
    {
     "name": "stdout",
     "output_type": "stream",
     "text": [
      "Evaluating model on training set size 23808\n",
      "Evaluating model on training set size 47616\n",
      "Evaluating model on training set size 71425\n",
      "Evaluating model on training set size 95233\n",
      "Evaluating model on training set size 119042\n",
      "Evaluating model on training set size 142850\n",
      "Evaluating model on training set size 166659\n",
      "Evaluating model on training set size 190467\n",
      "Evaluating model on training set size 214276\n",
      "Evaluating model on training set size 238084\n",
      "Evaluating model on training set size 261892\n",
      "Evaluating model on training set size 285701\n",
      "Evaluating model on training set size 309509\n",
      "Evaluating model on training set size 333318\n",
      "Evaluating model on training set size 357126\n",
      "Evaluating model on training set size 380935\n",
      "Evaluating model on training set size 404743\n",
      "Evaluating model on training set size 428552\n",
      "Evaluating model on training set size 452360\n",
      "Evaluating model on training set size 476169\n",
      "[0.24193805841212596, 0.25164463828922401, 0.23982936160349827, 0.23740865590190208, 0.24195262044709456, 0.24399077770725311, 0.24350597474390417, 0.24489353722221319, 0.24613751697710376, 0.24476432659143169, 0.24564444382982636, 0.24666022099009752, 0.24759687146202811, 0.24888155022631123, 0.24943479983275579, 0.24782767751597651, 0.24966136152931537, 0.25221663897246449, 0.25081167854703346, 0.25006030679734031]\n",
      "\n",
      "[0.20518117681196099, 0.20951271381105904, 0.21877401290889881, 0.22565846024381253, 0.22711779544223165, 0.2275907065264588, 0.2299893790790743, 0.22956985451368433, 0.22977952229999651, 0.23087453063253002, 0.23094180418226506, 0.23121436324856759, 0.23160143224387286, 0.23217362752745152, 0.23143953631633013, 0.23167719078129831, 0.23223198298107539, 0.23256478742865475, 0.23283258623968248, 0.23278006987503522]\n"
     ]
    }
   ],
   "source": [
    "trainsizes, traingini, testgini = util.learning_curves(logreg_model, X_train, X_test, y_train, y_test)\n",
    "print(traingini)\n",
    "print('')\n",
    "print(testgini)\n",
    "plt.figure()\n",
    "plt.plot(trainsizes, traingini, label='train gini')\n",
    "plt.plot(trainsizes, testgini, label='test gini')\n",
    "plt.xlabel('Training set size')\n",
    "plt.ylabel('Normalized Gini coefficient')\n",
    "plt.title('Logistic Regression')\n",
    "plt.legend()\n",
    "plt.savefig('figures/learning_curves/logisticregression.eps', format='eps', dpi=1000)"
   ]
  },
  {
   "cell_type": "code",
   "execution_count": 7,
   "metadata": {},
   "outputs": [
    {
     "data": {
      "image/png": "[encoded data removed]",
      "text/plain": [
       "<matplotlib.figure.Figure at 0x10d3cb1d0>"
      ]
     },
     "metadata": {},
     "output_type": "display_data"
    }
   ],
   "source": [
    "plt.show()"
   ]
  },
  {
   "cell_type": "code",
   "execution_count": 8,
   "metadata": {
    "collapsed": true
   },
   "outputs": [],
   "source": [
    "#util.make_prediction(logreg_model, 'data/test.csv', 'predictions/logreg.csv',\n",
    "                     #lambda X_test: logreg_model.predict_proba(X_test)[:,1])"
   ]
  },
  {
   "cell_type": "code",
   "execution_count": null,
   "metadata": {
    "collapsed": true
   },
   "outputs": [],
   "source": []
  }
 ],
 "metadata": {
  "kernelspec": {
   "display_name": "Python 2",
   "language": "python",
   "name": "python2"
  },
  "language_info": {
   "codemirror_mode": {
    "name": "ipython",
    "version": 2
   },
   "file_extension": ".py",
   "mimetype": "text/x-python",
   "name": "python",
   "nbconvert_exporter": "python",
   "pygments_lexer": "ipython2",
   "version": "2.7.14"
  }
 },
 "nbformat": 4,
 "nbformat_minor": 2
}
