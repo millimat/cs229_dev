{
 "cells": [
  {
   "cell_type": "code",
   "execution_count": 1,
   "metadata": {
    "collapsed": true
   },
   "outputs": [],
   "source": [
    "import numpy as np\n",
    "import util\n",
    "import sklearn.linear_model"
   ]
  },
  {
   "cell_type": "code",
   "execution_count": 2,
   "metadata": {
    "collapsed": true
   },
   "outputs": [],
   "source": [
    "trainfile = 'data/train.csv'\n",
    "header, ids, X, Y = util.fetch_data(trainfile)"
   ]
  },
  {
   "cell_type": "code",
   "execution_count": 3,
   "metadata": {},
   "outputs": [
    {
     "data": {
      "text/plain": [
       "LogisticRegression(C=1.0, class_weight=None, dual=False, fit_intercept=True,\n",
       "          intercept_scaling=1, max_iter=100, multi_class='ovr', n_jobs=1,\n",
       "          penalty='l2', random_state=None, solver='liblinear', tol=0.0001,\n",
       "          verbose=0, warm_start=False)"
      ]
     },
     "execution_count": 3,
     "metadata": {},
     "output_type": "execute_result"
    }
   ],
   "source": [
    "logreg_model = sklearn.linear_model.LogisticRegression()\n",
    "logreg_model.fit(X, Y)"
   ]
  },
  {
   "cell_type": "code",
   "execution_count": 4,
   "metadata": {},
   "outputs": [
    {
     "name": "stdout",
     "output_type": "stream",
     "text": [
      "[[  1.43403456e-02   3.58236850e-02   1.27477694e-02   3.98251938e-02\n",
      "    1.01976082e-01  -9.25918502e-01  -6.78237009e-01  -6.83986136e-01\n",
      "   -9.06085146e-01  -1.12194489e-01  -2.97697822e-02   5.78639411e-02\n",
      "    2.17213353e-02  -6.23789948e-02  -2.98915733e-02  -9.85003016e-02\n",
      "    2.83275238e-01  -7.39154737e-02   1.39498641e-01   1.11011570e-01\n",
      "    1.03290556e-01   1.40096661e-03  -4.20752810e-02   7.16179737e-02\n",
      "   -5.32201233e-03   2.38683901e-02  -1.86962401e-03  -2.34754362e-01\n",
      "   -2.81140022e-02   2.27051922e-02  -9.61849577e-02  -1.59605250e-04\n",
      "   -5.19126228e-02   1.20100970e+00   2.05646738e-01  -5.93659171e-03\n",
      "    1.29874839e-01   3.37377335e-02   2.25579699e-02   3.61474963e-02\n",
      "   -4.11907419e-04   3.91407913e-03  -6.41101072e-04  -3.41269071e-04\n",
      "   -4.40011388e-03   2.43448094e-03   1.65055740e-03   1.00691925e-03\n",
      "   -5.14733568e-03  -1.64583426e-03   2.48343940e-03  -7.15155678e-03\n",
      "    6.91332529e-03  -1.67583256e-03   6.09541822e-03  -1.85758188e-02\n",
      "   -1.67953853e-02]]\n",
      "[-3.19422679]\n"
     ]
    }
   ],
   "source": [
    "print(logreg_model.coef_)\n",
    "print(logreg_model.intercept_)"
   ]
  },
  {
   "cell_type": "code",
   "execution_count": 5,
   "metadata": {},
   "outputs": [
    {
     "name": "stdout",
     "output_type": "stream",
     "text": [
      "0.247155886284\n"
     ]
    }
   ],
   "source": [
    "print(util.gini_normalized(Y, logreg_model.predict_proba(X)[:,1]))"
   ]
  },
  {
   "cell_type": "code",
   "execution_count": 7,
   "metadata": {},
   "outputs": [],
   "source": [
    "util.make_prediction(logreg_model, 'data/test.csv', 'predictions/logreg.csv',\n",
    "                     lambda X_test: logreg_model.predict_proba(X_test)[:,1])"
   ]
  },
  {
   "cell_type": "code",
   "execution_count": null,
   "metadata": {
    "collapsed": true
   },
   "outputs": [],
   "source": []
  }
 ],
 "metadata": {
  "kernelspec": {
   "display_name": "Python 2",
   "language": "python",
   "name": "python2"
  },
  "language_info": {
   "codemirror_mode": {
    "name": "ipython",
    "version": 2
   },
   "file_extension": ".py",
   "mimetype": "text/x-python",
   "name": "python",
   "nbconvert_exporter": "python",
   "pygments_lexer": "ipython2",
   "version": "2.7.14"
  }
 },
 "nbformat": 4,
 "nbformat_minor": 2
}
